{
 "cells": [
  {
   "cell_type": "markdown",
   "metadata": {},
   "source": [
    "# Анализ Датасета IMDB "
   ]
  },
  {
   "cell_type": "markdown",
   "metadata": {},
   "source": [
    "#### Задача: ответить правильно на все вопросы по анализу датасета, используя библиотеку pandas, соблюсти стандарт pep-8, написать красивый код. "
   ]
  },
  {
   "cell_type": "markdown",
   "metadata": {},
   "source": [
    "## Инициализация"
   ]
  },
  {
   "cell_type": "code",
   "execution_count": 1694,
   "metadata": {
    "_cell_guid": "b1076dfc-b9ad-4769-8c92-a6c4dae69d19",
    "_uuid": "8f2839f25d086af736a60e9eeb907d3b93b6e0e5",
    "colab": {},
    "colab_type": "code",
    "id": "U2D2gTdJVp90"
   },
   "outputs": [],
   "source": [
    "import numpy as np\n",
    "import pandas as pd\n",
    "import seaborn as sns\n",
    "import matplotlib.pyplot as plt\n",
    "from collections import Counter\n",
    "from itertools import combinations\n"
   ]
  },
  {
   "cell_type": "code",
   "execution_count": 1695,
   "metadata": {
    "_cell_guid": "79c7e3d0-c299-4dcb-8224-4455121ee9b0",
    "_uuid": "d629ff2d2480ee46fbb7e2d37f6b5fab8052498a",
    "colab": {},
    "colab_type": "code",
    "id": "oyGfxL3eVp9-"
   },
   "outputs": [
    {
     "data": {
      "text/html": [
       "<div>\n",
       "<style scoped>\n",
       "    .dataframe tbody tr th:only-of-type {\n",
       "        vertical-align: middle;\n",
       "    }\n",
       "\n",
       "    .dataframe tbody tr th {\n",
       "        vertical-align: top;\n",
       "    }\n",
       "\n",
       "    .dataframe thead th {\n",
       "        text-align: right;\n",
       "    }\n",
       "</style>\n",
       "<table border=\"1\" class=\"dataframe\">\n",
       "  <thead>\n",
       "    <tr style=\"text-align: right;\">\n",
       "      <th></th>\n",
       "      <th>imdb_id</th>\n",
       "      <th>budget</th>\n",
       "      <th>revenue</th>\n",
       "      <th>original_title</th>\n",
       "      <th>cast</th>\n",
       "      <th>director</th>\n",
       "      <th>tagline</th>\n",
       "      <th>overview</th>\n",
       "      <th>runtime</th>\n",
       "      <th>genres</th>\n",
       "      <th>production_companies</th>\n",
       "      <th>release_date</th>\n",
       "      <th>vote_average</th>\n",
       "      <th>release_year</th>\n",
       "    </tr>\n",
       "  </thead>\n",
       "  <tbody>\n",
       "    <tr>\n",
       "      <th>1740</th>\n",
       "      <td>tt0498353</td>\n",
       "      <td>10200000</td>\n",
       "      <td>35619521</td>\n",
       "      <td>Hostel: Part II</td>\n",
       "      <td>Lauren German|Bijou Phillips|Heather Matarazzo...</td>\n",
       "      <td>Eli Roth</td>\n",
       "      <td>Americans...they have no imagination.</td>\n",
       "      <td>Following a geographical tour of Slovakia, thr...</td>\n",
       "      <td>93</td>\n",
       "      <td>Horror</td>\n",
       "      <td>Lions Gate Films|Next Entertainment|Screen Gems</td>\n",
       "      <td>6/8/2007</td>\n",
       "      <td>5.6</td>\n",
       "      <td>2007</td>\n",
       "    </tr>\n",
       "    <tr>\n",
       "      <th>1804</th>\n",
       "      <td>tt0120755</td>\n",
       "      <td>125000000</td>\n",
       "      <td>546388105</td>\n",
       "      <td>Mission: Impossible II</td>\n",
       "      <td>Tom Cruise|Dougray Scott|Thandie Newton|Ving R...</td>\n",
       "      <td>John Woo</td>\n",
       "      <td>Expect the impossible again</td>\n",
       "      <td>With computer genius Luther Stickell at his si...</td>\n",
       "      <td>123</td>\n",
       "      <td>Adventure|Action|Thriller</td>\n",
       "      <td>Paramount Pictures|Cruise/Wagner Productions|M...</td>\n",
       "      <td>5/23/2000</td>\n",
       "      <td>5.8</td>\n",
       "      <td>2000</td>\n",
       "    </tr>\n",
       "    <tr>\n",
       "      <th>943</th>\n",
       "      <td>tt0307479</td>\n",
       "      <td>47000000</td>\n",
       "      <td>30002758</td>\n",
       "      <td>Solaris</td>\n",
       "      <td>George Clooney|Natascha McElhone|Viola Davis|J...</td>\n",
       "      <td>Steven Soderbergh</td>\n",
       "      <td>How far will you go for a second chance?</td>\n",
       "      <td>Upon arrival at the space station orbiting an ...</td>\n",
       "      <td>99</td>\n",
       "      <td>Drama|Science Fiction|Mystery|Romance</td>\n",
       "      <td>Twentieth Century Fox Film Corporation|Lightst...</td>\n",
       "      <td>11/27/2002</td>\n",
       "      <td>5.8</td>\n",
       "      <td>2002</td>\n",
       "    </tr>\n",
       "    <tr>\n",
       "      <th>1827</th>\n",
       "      <td>tt0223897</td>\n",
       "      <td>40000000</td>\n",
       "      <td>55707411</td>\n",
       "      <td>Pay It Forward</td>\n",
       "      <td>Kevin Spacey|Helen Hunt|Haley Joel Osment|Jay ...</td>\n",
       "      <td>Mimi Leder</td>\n",
       "      <td>When someone does you a big favor, don't pay i...</td>\n",
       "      <td>Like some other kids, 12-year-old Trevor McKin...</td>\n",
       "      <td>122</td>\n",
       "      <td>Drama|Romance</td>\n",
       "      <td>Bel Air Entertainment|Warner Bros.</td>\n",
       "      <td>10/12/2000</td>\n",
       "      <td>6.8</td>\n",
       "      <td>2000</td>\n",
       "    </tr>\n",
       "    <tr>\n",
       "      <th>680</th>\n",
       "      <td>tt0443701</td>\n",
       "      <td>30000000</td>\n",
       "      <td>68369434</td>\n",
       "      <td>The X Files: I Want to Believe</td>\n",
       "      <td>David Duchovny|Gillian Anderson|Amanda Peet|Bi...</td>\n",
       "      <td>Chris Carter</td>\n",
       "      <td>To find the truth, you must believe.</td>\n",
       "      <td>Six years after the events of The X-Files seri...</td>\n",
       "      <td>104</td>\n",
       "      <td>Drama|Mystery|Science Fiction|Thriller</td>\n",
       "      <td>Twentieth Century Fox Film Corporation|Ten Thi...</td>\n",
       "      <td>7/24/2008</td>\n",
       "      <td>5.4</td>\n",
       "      <td>2008</td>\n",
       "    </tr>\n",
       "  </tbody>\n",
       "</table>\n",
       "</div>"
      ],
      "text/plain": [
       "        imdb_id     budget    revenue                  original_title  \\\n",
       "1740  tt0498353   10200000   35619521                 Hostel: Part II   \n",
       "1804  tt0120755  125000000  546388105          Mission: Impossible II   \n",
       "943   tt0307479   47000000   30002758                         Solaris   \n",
       "1827  tt0223897   40000000   55707411                  Pay It Forward   \n",
       "680   tt0443701   30000000   68369434  The X Files: I Want to Believe   \n",
       "\n",
       "                                                   cast           director  \\\n",
       "1740  Lauren German|Bijou Phillips|Heather Matarazzo...           Eli Roth   \n",
       "1804  Tom Cruise|Dougray Scott|Thandie Newton|Ving R...           John Woo   \n",
       "943   George Clooney|Natascha McElhone|Viola Davis|J...  Steven Soderbergh   \n",
       "1827  Kevin Spacey|Helen Hunt|Haley Joel Osment|Jay ...         Mimi Leder   \n",
       "680   David Duchovny|Gillian Anderson|Amanda Peet|Bi...       Chris Carter   \n",
       "\n",
       "                                                tagline  \\\n",
       "1740              Americans...they have no imagination.   \n",
       "1804                        Expect the impossible again   \n",
       "943            How far will you go for a second chance?   \n",
       "1827  When someone does you a big favor, don't pay i...   \n",
       "680                To find the truth, you must believe.   \n",
       "\n",
       "                                               overview  runtime  \\\n",
       "1740  Following a geographical tour of Slovakia, thr...       93   \n",
       "1804  With computer genius Luther Stickell at his si...      123   \n",
       "943   Upon arrival at the space station orbiting an ...       99   \n",
       "1827  Like some other kids, 12-year-old Trevor McKin...      122   \n",
       "680   Six years after the events of The X-Files seri...      104   \n",
       "\n",
       "                                      genres  \\\n",
       "1740                                  Horror   \n",
       "1804               Adventure|Action|Thriller   \n",
       "943    Drama|Science Fiction|Mystery|Romance   \n",
       "1827                           Drama|Romance   \n",
       "680   Drama|Mystery|Science Fiction|Thriller   \n",
       "\n",
       "                                   production_companies release_date  \\\n",
       "1740    Lions Gate Films|Next Entertainment|Screen Gems     6/8/2007   \n",
       "1804  Paramount Pictures|Cruise/Wagner Productions|M...    5/23/2000   \n",
       "943   Twentieth Century Fox Film Corporation|Lightst...   11/27/2002   \n",
       "1827                 Bel Air Entertainment|Warner Bros.   10/12/2000   \n",
       "680   Twentieth Century Fox Film Corporation|Ten Thi...    7/24/2008   \n",
       "\n",
       "      vote_average  release_year  \n",
       "1740           5.6          2007  \n",
       "1804           5.8          2000  \n",
       "943            5.8          2002  \n",
       "1827           6.8          2000  \n",
       "680            5.4          2008  "
      ]
     },
     "execution_count": 1695,
     "metadata": {},
     "output_type": "execute_result"
    }
   ],
   "source": [
    "data = pd.read_csv('movie_bd_v5.csv')\n",
    "data.sample(5)"
   ]
  },
  {
   "cell_type": "code",
   "execution_count": 1696,
   "metadata": {},
   "outputs": [],
   "source": [
    "# Словарь со всеми ответами к вопросам\n",
    "answers = {} "
   ]
  },
  {
   "cell_type": "markdown",
   "metadata": {},
   "source": [
    "## Предобработка Данных"
   ]
  },
  {
   "cell_type": "code",
   "execution_count": 1697,
   "metadata": {},
   "outputs": [
    {
     "name": "stdout",
     "output_type": "stream",
     "text": [
      "<class 'pandas.core.frame.DataFrame'>\n",
      "RangeIndex: 1889 entries, 0 to 1888\n",
      "Data columns (total 14 columns):\n",
      " #   Column                Non-Null Count  Dtype  \n",
      "---  ------                --------------  -----  \n",
      " 0   imdb_id               1889 non-null   object \n",
      " 1   budget                1889 non-null   int64  \n",
      " 2   revenue               1889 non-null   int64  \n",
      " 3   original_title        1889 non-null   object \n",
      " 4   cast                  1889 non-null   object \n",
      " 5   director              1889 non-null   object \n",
      " 6   tagline               1889 non-null   object \n",
      " 7   overview              1889 non-null   object \n",
      " 8   runtime               1889 non-null   int64  \n",
      " 9   genres                1889 non-null   object \n",
      " 10  production_companies  1889 non-null   object \n",
      " 11  release_date          1889 non-null   object \n",
      " 12  vote_average          1889 non-null   float64\n",
      " 13  release_year          1889 non-null   int64  \n",
      "dtypes: float64(1), int64(4), object(9)\n",
      "memory usage: 206.7+ KB\n"
     ]
    }
   ],
   "source": [
    "data.info()"
   ]
  },
  {
   "cell_type": "markdown",
   "metadata": {},
   "source": [
    "#### Проверка на  null значения"
   ]
  },
  {
   "cell_type": "code",
   "execution_count": 1698,
   "metadata": {},
   "outputs": [
    {
     "data": {
      "text/plain": [
       "False"
      ]
     },
     "execution_count": 1698,
     "metadata": {},
     "output_type": "execute_result"
    }
   ],
   "source": [
    "data.isnull().values.any()"
   ]
  },
  {
   "cell_type": "markdown",
   "metadata": {},
   "source": [
    "#### Проверяем все ли столбцы находятся в подходящем для них дата формате "
   ]
  },
  {
   "cell_type": "code",
   "execution_count": 1699,
   "metadata": {},
   "outputs": [
    {
     "data": {
      "text/plain": [
       "Index(['imdb_id', 'original_title', 'cast', 'director', 'tagline', 'overview',\n",
       "       'genres', 'production_companies', 'release_date'],\n",
       "      dtype='object')"
      ]
     },
     "execution_count": 1699,
     "metadata": {},
     "output_type": "execute_result"
    }
   ],
   "source": [
    "object_data = data.select_dtypes(include = 'object').columns\n",
    "object_data"
   ]
  },
  {
   "cell_type": "code",
   "execution_count": 1700,
   "metadata": {},
   "outputs": [
    {
     "name": "stdout",
     "output_type": "stream",
     "text": [
      "<class 'str'> \t imdb_id\n",
      "<class 'str'> \t original_title\n",
      "<class 'str'> \t cast\n",
      "<class 'str'> \t director\n",
      "<class 'str'> \t tagline\n",
      "<class 'str'> \t overview\n",
      "<class 'str'> \t genres\n",
      "<class 'str'> \t production_companies\n",
      "<class 'str'> \t release_date\n"
     ]
    }
   ],
   "source": [
    "for ob in object_data:\n",
    "    print(type(ob),'\\t', ob)"
   ]
  },
  {
   "cell_type": "markdown",
   "metadata": {},
   "source": [
    "#### Меняем формат столбцов с неправильным форматом на правильный "
   ]
  },
  {
   "cell_type": "code",
   "execution_count": 1701,
   "metadata": {},
   "outputs": [
    {
     "data": {
      "text/plain": [
       "pandas._libs.tslibs.timestamps.Timestamp"
      ]
     },
     "execution_count": 1701,
     "metadata": {},
     "output_type": "execute_result"
    }
   ],
   "source": [
    "data['release_date'] = pd.to_datetime(data['release_date'])\n",
    "type(data['release_date'][0])"
   ]
  },
  {
   "cell_type": "markdown",
   "metadata": {},
   "source": [
    "### Вспомогательные функции "
   ]
  },
  {
   "cell_type": "markdown",
   "metadata": {},
   "source": [
    "#### Отформатировать  месяцы "
   ]
  },
  {
   "cell_type": "code",
   "execution_count": 1702,
   "metadata": {},
   "outputs": [],
   "source": [
    "def format_month_df(months):\n",
    "    months.rename(columns = {'release_date':'count'}, inplace = True)\n",
    "    months.index.names = ['release_month']\n",
    "    month_names = ['January', 'Feburary', 'March', 'April', 'May', 'June', 'July', 'August', 'September', 'Ocotber', 'November', 'December']\n",
    "    months.index = map(lambda x: month_names[x-1], months.index)\n",
    "    \n",
    "    return months"
   ]
  },
  {
   "cell_type": "markdown",
   "metadata": {},
   "source": [
    "#### Добавить profit data столбец "
   ]
  },
  {
   "cell_type": "code",
   "execution_count": 1703,
   "metadata": {},
   "outputs": [
    {
     "data": {
      "text/plain": [
       "0       1363528810\n",
       "1        228436354\n",
       "2        185238201\n",
       "3       1868178225\n",
       "4       1316249360\n",
       "           ...    \n",
       "1884      82299717\n",
       "1885      -8444012\n",
       "1886     -40865180\n",
       "1887      -3962091\n",
       "1888      -9782502\n",
       "Name: profit, Length: 1889, dtype: int64"
      ]
     },
     "execution_count": 1703,
     "metadata": {},
     "output_type": "execute_result"
    }
   ],
   "source": [
    "data['profit'] = data['revenue'] - data['budget']\n",
    "data['profit']"
   ]
  },
  {
   "cell_type": "markdown",
   "metadata": {},
   "source": [
    "#### Конверитировать list в  pd.Series "
   ]
  },
  {
   "cell_type": "code",
   "execution_count": 1704,
   "metadata": {},
   "outputs": [],
   "source": [
    "def list_to_Series(x): \n",
    "    idx, values = zip(*x)\n",
    "    return pd.Series(values, idx)"
   ]
  },
  {
   "cell_type": "markdown",
   "metadata": {},
   "source": [
    "#### Преобразовать строки столбца в  lists"
   ]
  },
  {
   "cell_type": "code",
   "execution_count": 1705,
   "metadata": {},
   "outputs": [],
   "source": [
    "def to_one_str(column):\n",
    "    return column.str.cat(sep = '|').split('|')"
   ]
  },
  {
   "cell_type": "markdown",
   "metadata": {},
   "source": [
    "#### Найти самое частое слово в строке"
   ]
  },
  {
   "cell_type": "code",
   "execution_count": 1706,
   "metadata": {},
   "outputs": [],
   "source": [
    "def most_common(column):\n",
    "    return Counter(to_one_str(column)).most_common()"
   ]
  },
  {
   "cell_type": "markdown",
   "metadata": {},
   "source": [
    "#### Получить отсортированные студии по полученному критерию"
   ]
  },
  {
   "cell_type": "code",
   "execution_count": 1707,
   "metadata": {},
   "outputs": [],
   "source": [
    "def get_studios(col):\n",
    "    studios = df.groupby(['production_companies']).median(col)\n",
    "    studios = studios.sort_values(by = col, ascending = False)\n",
    "\n",
    "    return studios"
   ]
  },
  {
   "cell_type": "markdown",
   "metadata": {},
   "source": [
    "#### Посчитать длину строк столбца"
   ]
  },
  {
   "cell_type": "code",
   "execution_count": 1708,
   "metadata": {},
   "outputs": [],
   "source": [
    "def calc_len(column):\n",
    "    return list(map(lambda x: len(x), column))"
   ]
  },
  {
   "cell_type": "markdown",
   "metadata": {},
   "source": [
    "#### Занести ответ в словарь"
   ]
  },
  {
   "cell_type": "code",
   "execution_count": 1709,
   "metadata": {},
   "outputs": [
    {
     "data": {
      "text/plain": [
       "{}"
      ]
     },
     "execution_count": 1709,
     "metadata": {},
     "output_type": "execute_result"
    }
   ],
   "source": [
    "# id_name = True, если ответ формата \"имя_фильма (id_фильма)\", иначе False\n",
    "def answer(answer, question, id_name = False):\n",
    "    if id_name:\n",
    "        answers[question] = answer['original_title'].item() + ' (' + answer['imdb_id'].item() + ')'\n",
    "    else: \n",
    "        answers[question] = answer\n",
    "answers"
   ]
  },
  {
   "cell_type": "markdown",
   "metadata": {},
   "source": [
    "# Анализ Данных"
   ]
  },
  {
   "cell_type": "markdown",
   "metadata": {
    "colab_type": "text",
    "id": "YxZaH-nPVp-L"
   },
   "source": [
    "# 1. У какого фильма из списка самый большой бюджет?"
   ]
  },
  {
   "cell_type": "code",
   "execution_count": 1710,
   "metadata": {
    "colab": {},
    "colab_type": "code",
    "id": "OGaoQI7rVp-X"
   },
   "outputs": [
    {
     "data": {
      "text/plain": [
       "'Pirates of the Caribbean: On Stranger Tides (tt1298650)'"
      ]
     },
     "execution_count": 1710,
     "metadata": {},
     "output_type": "execute_result"
    }
   ],
   "source": [
    "max_budget = data[data['budget'] == data['budget'].max()]\n",
    "answer(max_budget, 1, True)\n",
    "\n",
    "answers[1]"
   ]
  },
  {
   "cell_type": "markdown",
   "metadata": {
    "colab_type": "text",
    "id": "FNRbbI3vVp-c"
   },
   "source": [
    "# 2. Какой из фильмов самый длительный (в минутах)?"
   ]
  },
  {
   "cell_type": "code",
   "execution_count": 1711,
   "metadata": {},
   "outputs": [
    {
     "data": {
      "text/plain": [
       "'Gods and Generals (tt0279111)'"
      ]
     },
     "execution_count": 1711,
     "metadata": {},
     "output_type": "execute_result"
    }
   ],
   "source": [
    "longest = data[data['runtime'] == data['runtime'].max()]\n",
    "answer(longest, 2, True)\n",
    "\n",
    "answers[2]"
   ]
  },
  {
   "cell_type": "markdown",
   "metadata": {
    "colab_type": "text",
    "id": "bapLlpW8Vp-k"
   },
   "source": [
    "# 3. Какой из фильмов самый короткий (в минутах)?\n",
    "\n",
    "\n",
    "\n"
   ]
  },
  {
   "cell_type": "code",
   "execution_count": 1712,
   "metadata": {},
   "outputs": [
    {
     "data": {
      "text/plain": [
       "'Winnie the Pooh (tt1449283)'"
      ]
     },
     "execution_count": 1712,
     "metadata": {},
     "output_type": "execute_result"
    }
   ],
   "source": [
    "shortest = data[data['runtime'] == data['runtime'].min()]\n",
    "answer(shortest, 3, True)\n",
    "\n",
    "answers[3]"
   ]
  },
  {
   "cell_type": "markdown",
   "metadata": {
    "colab_type": "text",
    "id": "TfQbxbfNVp-p"
   },
   "source": [
    "# 4. Какова средняя длительность фильмов?\n"
   ]
  },
  {
   "cell_type": "code",
   "execution_count": 1713,
   "metadata": {},
   "outputs": [
    {
     "data": {
      "text/plain": [
       "109.6585494970884"
      ]
     },
     "execution_count": 1713,
     "metadata": {},
     "output_type": "execute_result"
    }
   ],
   "source": [
    "avg_runtime = data['runtime'].mean()\n",
    "answer(avg_runtime, 4)\n",
    "\n",
    "answers[4]"
   ]
  },
  {
   "cell_type": "markdown",
   "metadata": {
    "colab_type": "text",
    "id": "r5TvbnT_Vp-u"
   },
   "source": [
    "# 5. Каково медианное значение длительности фильмов? "
   ]
  },
  {
   "cell_type": "code",
   "execution_count": 1714,
   "metadata": {},
   "outputs": [
    {
     "data": {
      "text/plain": [
       "107.0"
      ]
     },
     "execution_count": 1714,
     "metadata": {},
     "output_type": "execute_result"
    }
   ],
   "source": [
    "meadian_runtime = data['runtime'].median()\n",
    "answer(meadian_runtime, 5)\n",
    "\n",
    "answers[5]"
   ]
  },
  {
   "cell_type": "markdown",
   "metadata": {
    "colab_type": "text",
    "id": "39P-deDSVp-y"
   },
   "source": [
    "# 6. Какой самый прибыльный фильм?\n",
    "Здесь и далее под «прибылью» или «убытками» понимается разность между сборами и бюджетом фильма. (прибыль = сборы - бюджет) в нашем датасете это будет (profit = revenue - budget) "
   ]
  },
  {
   "cell_type": "code",
   "execution_count": 1715,
   "metadata": {
    "colab": {},
    "colab_type": "code",
    "id": "UYZh4T9WVp-y"
   },
   "outputs": [
    {
     "data": {
      "text/plain": [
       "'Avatar (tt0499549)'"
      ]
     },
     "execution_count": 1715,
     "metadata": {},
     "output_type": "execute_result"
    }
   ],
   "source": [
    "most_profit = data[data['profit']==data['profit'].max()]\n",
    "answer(most_profit, 6, True)\n",
    "\n",
    "answers[6]"
   ]
  },
  {
   "cell_type": "markdown",
   "metadata": {
    "colab_type": "text",
    "id": "M99JmIX4Vp-2"
   },
   "source": [
    "# 7. Какой фильм самый убыточный? "
   ]
  },
  {
   "cell_type": "code",
   "execution_count": 1716,
   "metadata": {
    "colab": {},
    "colab_type": "code",
    "id": "w-D2m4XPVp-3"
   },
   "outputs": [
    {
     "data": {
      "text/plain": [
       "'The Lone Ranger (tt1210819)'"
      ]
     },
     "execution_count": 1716,
     "metadata": {},
     "output_type": "execute_result"
    }
   ],
   "source": [
    "least_profit = data.query('profit == profit.min()')\n",
    "answer(least_profit, 7, True)\n",
    "\n",
    "answers[7]"
   ]
  },
  {
   "cell_type": "markdown",
   "metadata": {
    "colab_type": "text",
    "id": "wEOM5ERVVp-6"
   },
   "source": [
    "# 8. У скольких фильмов из датасета объем сборов оказался выше бюджета?"
   ]
  },
  {
   "cell_type": "code",
   "execution_count": 1717,
   "metadata": {
    "colab": {},
    "colab_type": "code",
    "id": "y00_7HD6Vp-7"
   },
   "outputs": [
    {
     "data": {
      "text/plain": [
       "1478"
      ]
     },
     "execution_count": 1717,
     "metadata": {},
     "output_type": "execute_result"
    }
   ],
   "source": [
    "pos_profit = data[data['profit']>0].count()['imdb_id']\n",
    "answer(pos_profit, 8)\n",
    "\n",
    "answers[8]"
   ]
  },
  {
   "cell_type": "markdown",
   "metadata": {
    "colab_type": "text",
    "id": "xhpspA9KVp_A"
   },
   "source": [
    "# 9. Какой фильм оказался самым кассовым в 2008 году?"
   ]
  },
  {
   "cell_type": "code",
   "execution_count": 1718,
   "metadata": {
    "colab": {},
    "colab_type": "code",
    "id": "MoUyQr9RVp_B"
   },
   "outputs": [
    {
     "data": {
      "text/plain": [
       "'The Dark Knight (tt0468569)'"
      ]
     },
     "execution_count": 1718,
     "metadata": {},
     "output_type": "execute_result"
    }
   ],
   "source": [
    "movies_2008 = data.query('release_year == 2008')\n",
    "highest_gross =  movies_2008.query('revenue == revenue.max()')\n",
    "\n",
    "answer(highest_gross, 9, True)\n",
    "answers[9]"
   ]
  },
  {
   "cell_type": "markdown",
   "metadata": {
    "colab_type": "text",
    "id": "Zi4hDKidVp_F"
   },
   "source": [
    "# 10. Самый убыточный фильм за период с 2012 по 2014 г. (включительно)?"
   ]
  },
  {
   "cell_type": "code",
   "execution_count": 1719,
   "metadata": {
    "colab": {},
    "colab_type": "code",
    "id": "XqyRmufJVp_F"
   },
   "outputs": [
    {
     "data": {
      "text/plain": [
       "'The Lone Ranger (tt1210819)'"
      ]
     },
     "execution_count": 1719,
     "metadata": {},
     "output_type": "execute_result"
    }
   ],
   "source": [
    "period = data[data['release_year'].between(2012,2014)]\n",
    "\n",
    "most_loss = period.query('profit == profit.min()')\n",
    "answer(most_loss, 10, True)\n",
    "\n",
    "answers[10]"
   ]
  },
  {
   "cell_type": "markdown",
   "metadata": {
    "colab_type": "text",
    "id": "EA7Sa9dkVp_I"
   },
   "source": [
    "# 11. Какого жанра фильмов больше всего?"
   ]
  },
  {
   "cell_type": "code",
   "execution_count": 1742,
   "metadata": {
    "colab": {},
    "colab_type": "code",
    "id": "zsJAwJ8QVp_J"
   },
   "outputs": [
    {
     "data": {
      "text/plain": [
       "'Drama'"
      ]
     },
     "execution_count": 1742,
     "metadata": {},
     "output_type": "execute_result"
    }
   ],
   "source": [
    "df = data[['genres', 'original_title']].copy()\n",
    "df['genres'] = split(data['genres'])\n",
    "df = df.explode('genres')\n",
    "\n",
    "genres = df.groupby(['genres']).count().sort_values(by = 'original_title', ascending=False)\n",
    "\n",
    "answer(genres.iloc[0].name, 11)\n",
    "answers[11]"
   ]
  },
  {
   "cell_type": "markdown",
   "metadata": {
    "colab_type": "text",
    "id": "T9_bPWpkVp_Q"
   },
   "source": [
    "# 12. Фильмы какого жанра чаще всего становятся прибыльными? "
   ]
  },
  {
   "cell_type": "code",
   "execution_count": 1721,
   "metadata": {},
   "outputs": [
    {
     "data": {
      "text/plain": [
       "[('Drama', 560),\n",
       " ('Comedy', 551),\n",
       " ('Thriller', 446),\n",
       " ('Action', 444),\n",
       " ('Adventure', 337),\n",
       " ('Romance', 242),\n",
       " ('Crime', 231),\n",
       " ('Family', 226),\n",
       " ('Science Fiction', 195),\n",
       " ('Fantasy', 188),\n",
       " ('Horror', 150),\n",
       " ('Animation', 120),\n",
       " ('Mystery', 119),\n",
       " ('Music', 47),\n",
       " ('History', 46),\n",
       " ('War', 41),\n",
       " ('Western', 12),\n",
       " ('Documentary', 7)]"
      ]
     },
     "metadata": {},
     "output_type": "display_data"
    }
   ],
   "source": [
    "profitable = data[data.profit > 0]\n",
    "quantity = most_common(profitable['genres'])\n",
    "\n",
    "display(quantity)\n",
    "answer(quantity[0][0], 12)"
   ]
  },
  {
   "cell_type": "markdown",
   "metadata": {
    "colab_type": "text",
    "id": "0F23bgsDVp_U"
   },
   "source": [
    "# 13. У какого режиссера самые большие суммарные кассовые сборы?"
   ]
  },
  {
   "cell_type": "code",
   "execution_count": 1722,
   "metadata": {
    "colab": {},
    "colab_type": "code",
    "id": "K6Z3J8ygVp_X"
   },
   "outputs": [
    {
     "data": {
      "text/plain": [
       "director\n",
       "Peter Jackson        6490593685\n",
       "Christopher Nolan    4167548502\n",
       "David Yates          4154295625\n",
       "Michael Bay          3886938960\n",
       "J.J. Abrams          3579169916\n",
       "Name: revenue, dtype: int64"
      ]
     },
     "execution_count": 1722,
     "metadata": {},
     "output_type": "execute_result"
    }
   ],
   "source": [
    "directors = data.groupby(['director'])\n",
    "movie_shark = directors['revenue'].sum().sort_values(ascending = False)\n",
    "\n",
    "answer(movie_shark.index[0], 13)\n",
    "movie_shark.head(5)"
   ]
  },
  {
   "cell_type": "markdown",
   "metadata": {
    "colab_type": "text",
    "id": "PsYC9FgRVp_a"
   },
   "source": [
    "# 14. Какой режисер снял больше всего фильмов в стиле Action?"
   ]
  },
  {
   "cell_type": "code",
   "execution_count": 1723,
   "metadata": {
    "colab": {},
    "colab_type": "code",
    "id": "wd2M-wHeVp_b"
   },
   "outputs": [
    {
     "data": {
      "text/plain": [
       "Robert Rodriguez      9\n",
       "Michael Bay           7\n",
       "Paul W.S. Anderson    7\n",
       "Antoine Fuqua         6\n",
       "Ridley Scott          6\n",
       "dtype: int64"
      ]
     },
     "metadata": {},
     "output_type": "display_data"
    }
   ],
   "source": [
    "action = data[data['genres'].str.contains('Action')][['director','genres']]\n",
    "directs_most = list_to_Series(most_common(action['director']))\n",
    "\n",
    "display(directs_most.head())\n",
    "\n",
    "answer(directs_most.index[0],14)"
   ]
  },
  {
   "cell_type": "markdown",
   "metadata": {
    "colab_type": "text",
    "id": "PQ0KciD7Vp_f"
   },
   "source": [
    "# 15. Фильмы с каким актером принесли самые высокие кассовые сборы в 2012 году? "
   ]
  },
  {
   "cell_type": "code",
   "execution_count": 1724,
   "metadata": {
    "colab": {},
    "colab_type": "code",
    "id": "aga62oeKVp_g"
   },
   "outputs": [
    {
     "data": {
      "text/plain": [
       "Chris Hemsworth        2\n",
       "Ralph Fiennes          2\n",
       "Anne Hathaway          2\n",
       "Denis Leary            2\n",
       "Seann William Scott    2\n",
       "dtype: int64"
      ]
     },
     "metadata": {},
     "output_type": "display_data"
    }
   ],
   "source": [
    "movies_12 = data[data['release_year']==2012][['original_title', 'cast', 'revenue']]\n",
    "\n",
    "top_movies = movies_12.query('revenue > revenue.mean()').sort_values(['revenue'],ascending=False)\n",
    "pop_actors = list_to_Series(most_common(top_movies['cast']))\n",
    "\n",
    "display(pop_actors.head())\n",
    "\n",
    "answer(pop_actors.index[0], 15)"
   ]
  },
  {
   "cell_type": "markdown",
   "metadata": {
    "colab_type": "text",
    "id": "mWHyyL7QVp_j"
   },
   "source": [
    "# 16. Какой актер снялся в большем количестве высокобюджетных фильмов?"
   ]
  },
  {
   "cell_type": "code",
   "execution_count": 1725,
   "metadata": {
    "colab": {},
    "colab_type": "code",
    "id": "qQtmHKTFVp_k"
   },
   "outputs": [
    {
     "data": {
      "text/plain": [
       "Matt Damon        18\n",
       "Adam Sandler      17\n",
       "Angelina Jolie    16\n",
       "dtype: int64"
      ]
     },
     "execution_count": 1725,
     "metadata": {},
     "output_type": "execute_result"
    }
   ],
   "source": [
    "high_budget = data.query('budget > budget.mean()')[['original_title','cast','budget']]\n",
    "most_pop_actor = list_to_Series(most_common(high_budget['cast']))\n",
    "\n",
    "answer(most_pop_actor.index[0], 16)\n",
    "most_pop_actor.head(3)\n"
   ]
  },
  {
   "cell_type": "markdown",
   "metadata": {
    "colab_type": "text",
    "id": "NIh6AaW5Vp_n"
   },
   "source": [
    "# 17. В фильмах какого жанра больше всего снимался Nicolas Cage? "
   ]
  },
  {
   "cell_type": "code",
   "execution_count": 1726,
   "metadata": {
    "colab": {},
    "colab_type": "code",
    "id": "H74SJDIBVp_n"
   },
   "outputs": [
    {
     "data": {
      "text/plain": [
       "Action      17\n",
       "Thriller    15\n",
       "Drama       12\n",
       "Crime       10\n",
       "Fantasy      8\n",
       "dtype: int64"
      ]
     },
     "execution_count": 1726,
     "metadata": {},
     "output_type": "execute_result"
    }
   ],
   "source": [
    "cages_movies = data[data['cast'].str.find('Nicolas Cage')>=0][['original_title', 'cast', 'genres']]\n",
    "\n",
    "# Самый частый жанр, в котором снимается Кейдж\n",
    "cages_pop_genre = list_to_Series(most_common(cages_movies['genres']))\n",
    "\n",
    "answer(cages_pop_genre.index[0], 17)\n",
    "cages_pop_genre.head()"
   ]
  },
  {
   "cell_type": "markdown",
   "metadata": {
    "colab_type": "text",
    "id": "RqOmPRfWVp_q"
   },
   "source": [
    "# 18. Самый убыточный фильм от Paramount Pictures"
   ]
  },
  {
   "cell_type": "code",
   "execution_count": 1727,
   "metadata": {
    "colab": {},
    "colab_type": "code",
    "id": "9E_B0Y96Vp_r"
   },
   "outputs": [
    {
     "data": {
      "text/plain": [
       "'K-19: The Widowmaker (tt0267626)'"
      ]
     },
     "execution_count": 1727,
     "metadata": {},
     "output_type": "execute_result"
    }
   ],
   "source": [
    "paramount = data[data['production_companies'].str.find('Paramount Pictures')>=0]\n",
    "paramount = paramount[['imdb_id','original_title','profit']]\n",
    "\n",
    "unsuccessful = paramount.query('profit == profit.min()')\n",
    "\n",
    "answer(unsuccessful, 18, True)\n",
    "answers[18]"
   ]
  },
  {
   "cell_type": "markdown",
   "metadata": {
    "colab_type": "text",
    "id": "vS8Ur6ddVp_u"
   },
   "source": [
    "# 19. Какой год стал самым успешным по суммарным кассовым сборам?"
   ]
  },
  {
   "cell_type": "code",
   "execution_count": 1728,
   "metadata": {
    "colab": {},
    "colab_type": "code",
    "id": "Dnbt4GdIVp_v"
   },
   "outputs": [
    {
     "data": {
      "text/plain": [
       "release_year\n",
       "2015    25449202382\n",
       "2014    23405862953\n",
       "2013    23213799791\n",
       "2012    23079001687\n",
       "2011    22676791872\n",
       "Name: revenue, dtype: int64"
      ]
     },
     "metadata": {},
     "output_type": "display_data"
    },
    {
     "data": {
      "text/plain": [
       "2015"
      ]
     },
     "execution_count": 1728,
     "metadata": {},
     "output_type": "execute_result"
    }
   ],
   "source": [
    "revenue = data.groupby('release_year')['revenue'].sum().sort_values(ascending=False)\n",
    "display(revenue.head())\n",
    "\n",
    "answer(revenue.index[0], 19)\n",
    "answers[19]"
   ]
  },
  {
   "cell_type": "markdown",
   "metadata": {
    "colab_type": "text",
    "id": "JAzJh4QAVp_z"
   },
   "source": [
    "# 20. Какой самый прибыльный год для студии Warner Bros?"
   ]
  },
  {
   "cell_type": "code",
   "execution_count": 1729,
   "metadata": {
    "colab": {},
    "colab_type": "code",
    "id": "wgVu02DEVp_0"
   },
   "outputs": [
    {
     "data": {
      "text/html": [
       "<div>\n",
       "<style scoped>\n",
       "    .dataframe tbody tr th:only-of-type {\n",
       "        vertical-align: middle;\n",
       "    }\n",
       "\n",
       "    .dataframe tbody tr th {\n",
       "        vertical-align: top;\n",
       "    }\n",
       "\n",
       "    .dataframe thead th {\n",
       "        text-align: right;\n",
       "    }\n",
       "</style>\n",
       "<table border=\"1\" class=\"dataframe\">\n",
       "  <thead>\n",
       "    <tr style=\"text-align: right;\">\n",
       "      <th></th>\n",
       "      <th>profit</th>\n",
       "    </tr>\n",
       "    <tr>\n",
       "      <th>release_year</th>\n",
       "      <th></th>\n",
       "    </tr>\n",
       "  </thead>\n",
       "  <tbody>\n",
       "    <tr>\n",
       "      <th>2014</th>\n",
       "      <td>2297979392</td>\n",
       "    </tr>\n",
       "    <tr>\n",
       "      <th>2008</th>\n",
       "      <td>2134595031</td>\n",
       "    </tr>\n",
       "    <tr>\n",
       "      <th>2007</th>\n",
       "      <td>1928180689</td>\n",
       "    </tr>\n",
       "  </tbody>\n",
       "</table>\n",
       "</div>"
      ],
      "text/plain": [
       "                  profit\n",
       "release_year            \n",
       "2014          2297979392\n",
       "2008          2134595031\n",
       "2007          1928180689"
      ]
     },
     "metadata": {},
     "output_type": "display_data"
    },
    {
     "data": {
      "text/plain": [
       "2014"
      ]
     },
     "execution_count": 1729,
     "metadata": {},
     "output_type": "execute_result"
    }
   ],
   "source": [
    "WB_movies = data[data['production_companies'].str.find('Warner Bros')>0][['release_year','profit']]\n",
    "\n",
    "most_profit_year = WB_movies.groupby('release_year').sum().sort_values(['profit'],ascending=False)\n",
    "\n",
    "display(most_profit_year.head(3))\n",
    "\n",
    "answer(most_profit_year.index[0], 20)\n",
    "answers[20]"
   ]
  },
  {
   "cell_type": "markdown",
   "metadata": {
    "colab_type": "text",
    "id": "8Im1S2HRVp_4"
   },
   "source": [
    "# 21. В каком месяце за все годы суммарно вышло больше всего фильмов?"
   ]
  },
  {
   "cell_type": "code",
   "execution_count": 1730,
   "metadata": {},
   "outputs": [
    {
     "data": {
      "text/plain": [
       "'September'"
      ]
     },
     "execution_count": 1730,
     "metadata": {},
     "output_type": "execute_result"
    }
   ],
   "source": [
    "months = data['release_date'].apply(lambda x: x.month)\n",
    "months = format_month_df(months.groupby(months).count().to_frame())\n",
    "\n",
    "highest_num = months.sort_values(by = ['count'], ascending = False).index[0]\n",
    "\n",
    "answer(highest_num, 21)\n",
    "answers[21]"
   ]
  },
  {
   "cell_type": "markdown",
   "metadata": {
    "colab_type": "text",
    "id": "uAJsZ_NeVp_7"
   },
   "source": [
    "# 22. Сколько суммарно вышло фильмов летом? (за июнь, июль, август)"
   ]
  },
  {
   "cell_type": "code",
   "execution_count": 1731,
   "metadata": {
    "colab": {},
    "colab_type": "code",
    "id": "Aa-hEREoVp_8"
   },
   "outputs": [
    {
     "data": {
      "text/plain": [
       "450"
      ]
     },
     "execution_count": 1731,
     "metadata": {},
     "output_type": "execute_result"
    }
   ],
   "source": [
    "values = months[5:8]['count'].values\n",
    "summer_mov = sum(values)\n",
    "\n",
    "answer(summer_mov, 22)\n",
    "answers[22]"
   ]
  },
  {
   "cell_type": "markdown",
   "metadata": {
    "colab_type": "text",
    "id": "G94ppOY1VqAA"
   },
   "source": [
    "# 23. Для какого режиссера зима – самое продуктивное время года? "
   ]
  },
  {
   "cell_type": "markdown",
   "metadata": {},
   "source": [
    "#### Общая часть для обоих решений: инициализация "
   ]
  },
  {
   "cell_type": "code",
   "execution_count": 1732,
   "metadata": {},
   "outputs": [],
   "source": [
    "df = data[['release_date','director']].copy()\n",
    "df['release_date'] = df['release_date'].apply(lambda x: x.month)\n",
    "\n",
    "winter = [12,1,2]\n",
    "df = df[df['release_date'].isin(winter)]"
   ]
  },
  {
   "cell_type": "markdown",
   "metadata": {},
   "source": [
    "#### Вариант 1: использование counter"
   ]
  },
  {
   "cell_type": "code",
   "execution_count": 1733,
   "metadata": {
    "colab": {},
    "colab_type": "code",
    "id": "RhNTsamuVqAB"
   },
   "outputs": [
    {
     "data": {
      "text/plain": [
       "'Peter Jackson'"
      ]
     },
     "execution_count": 1733,
     "metadata": {},
     "output_type": "execute_result"
    }
   ],
   "source": [
    "winter_directors = most_common(df['director'])\n",
    "\n",
    "answer(winter_directors[0][0], 23)\n",
    "answers[23]"
   ]
  },
  {
   "cell_type": "markdown",
   "metadata": {},
   "source": [
    "#### Вариант 2: использование explode"
   ]
  },
  {
   "cell_type": "code",
   "execution_count": 1734,
   "metadata": {},
   "outputs": [
    {
     "data": {
      "text/plain": [
       "'Peter Jackson'"
      ]
     },
     "execution_count": 1734,
     "metadata": {},
     "output_type": "execute_result"
    }
   ],
   "source": [
    "df['director'] = split(df['director'])\n",
    "df = df.explode('director')\n",
    "\n",
    "winter_directors = df.groupby(['director']).count().sort_values(by= 'release_date', ascending = False)\n",
    "\n",
    "answer(winter_directors.iloc[0].name, 23)\n",
    "answers[23]"
   ]
  },
  {
   "cell_type": "markdown",
   "metadata": {},
   "source": [
    "# Вопросы 24 and 25"
   ]
  },
  {
   "cell_type": "markdown",
   "metadata": {},
   "source": [
    "#### Общая часть для кода к вопросам 24 и 25: инициализация "
   ]
  },
  {
   "cell_type": "code",
   "execution_count": 1735,
   "metadata": {},
   "outputs": [],
   "source": [
    "df = data['production_companies'].copy().to_frame()\n",
    "\n",
    "# Добавляем 2 столбца, отражающие длину описаний и названий фильмов\n",
    "df.insert(1, \"title_len\", calc_len(data['original_title']), True)\n",
    "df.insert(2, \"overview_len\", calc_len(data['overview']), True)\n",
    "\n",
    "df['production_companies'] = split(df['production_companies'])\n",
    "df = df.explode('production_companies')"
   ]
  },
  {
   "cell_type": "markdown",
   "metadata": {
    "colab_type": "text",
    "id": "RBo0JVjVVqAF"
   },
   "source": [
    "# 24. Какая студия дает самые длинные названия своим фильмам по количеству символов?"
   ]
  },
  {
   "cell_type": "code",
   "execution_count": 1736,
   "metadata": {},
   "outputs": [
    {
     "data": {
      "text/html": [
       "<div>\n",
       "<style scoped>\n",
       "    .dataframe tbody tr th:only-of-type {\n",
       "        vertical-align: middle;\n",
       "    }\n",
       "\n",
       "    .dataframe tbody tr th {\n",
       "        vertical-align: top;\n",
       "    }\n",
       "\n",
       "    .dataframe thead th {\n",
       "        text-align: right;\n",
       "    }\n",
       "</style>\n",
       "<table border=\"1\" class=\"dataframe\">\n",
       "  <thead>\n",
       "    <tr style=\"text-align: right;\">\n",
       "      <th></th>\n",
       "      <th>title_len</th>\n",
       "      <th>overview_len</th>\n",
       "    </tr>\n",
       "    <tr>\n",
       "      <th>production_companies</th>\n",
       "      <th></th>\n",
       "      <th></th>\n",
       "    </tr>\n",
       "  </thead>\n",
       "  <tbody>\n",
       "    <tr>\n",
       "      <th>Four By Two Productions</th>\n",
       "      <td>83.0</td>\n",
       "      <td>298.0</td>\n",
       "    </tr>\n",
       "    <tr>\n",
       "      <th>Jim Henson Company, The</th>\n",
       "      <td>59.0</td>\n",
       "      <td>304.0</td>\n",
       "    </tr>\n",
       "    <tr>\n",
       "      <th>Dos Corazones</th>\n",
       "      <td>47.0</td>\n",
       "      <td>150.0</td>\n",
       "    </tr>\n",
       "    <tr>\n",
       "      <th>Museum Canada Productions</th>\n",
       "      <td>46.0</td>\n",
       "      <td>302.0</td>\n",
       "    </tr>\n",
       "    <tr>\n",
       "      <th>Polsky Films</th>\n",
       "      <td>46.0</td>\n",
       "      <td>387.0</td>\n",
       "    </tr>\n",
       "    <tr>\n",
       "      <th>...</th>\n",
       "      <td>...</td>\n",
       "      <td>...</td>\n",
       "    </tr>\n",
       "    <tr>\n",
       "      <th>Everest Entertainment</th>\n",
       "      <td>3.0</td>\n",
       "      <td>124.0</td>\n",
       "    </tr>\n",
       "    <tr>\n",
       "      <th>Berlanti Productions</th>\n",
       "      <td>3.0</td>\n",
       "      <td>413.0</td>\n",
       "    </tr>\n",
       "    <tr>\n",
       "      <th>Ixtlan Productions</th>\n",
       "      <td>2.0</td>\n",
       "      <td>340.0</td>\n",
       "    </tr>\n",
       "    <tr>\n",
       "      <th>XM2 Productions</th>\n",
       "      <td>2.0</td>\n",
       "      <td>342.0</td>\n",
       "    </tr>\n",
       "    <tr>\n",
       "      <th>Global Entertainment Group</th>\n",
       "      <td>2.0</td>\n",
       "      <td>340.0</td>\n",
       "    </tr>\n",
       "  </tbody>\n",
       "</table>\n",
       "<p>1771 rows × 2 columns</p>\n",
       "</div>"
      ],
      "text/plain": [
       "                            title_len  overview_len\n",
       "production_companies                               \n",
       "Four By Two Productions          83.0         298.0\n",
       "Jim Henson Company, The          59.0         304.0\n",
       "Dos Corazones                    47.0         150.0\n",
       "Museum Canada Productions        46.0         302.0\n",
       "Polsky Films                     46.0         387.0\n",
       "...                               ...           ...\n",
       "Everest Entertainment             3.0         124.0\n",
       "Berlanti Productions              3.0         413.0\n",
       "Ixtlan Productions                2.0         340.0\n",
       "XM2 Productions                   2.0         342.0\n",
       "Global Entertainment Group        2.0         340.0\n",
       "\n",
       "[1771 rows x 2 columns]"
      ]
     },
     "metadata": {},
     "output_type": "display_data"
    }
   ],
   "source": [
    "studios = get_studios('title_len')\n",
    "\n",
    "display(studios)\n",
    "\n",
    "answer(studios.iloc[0].name, 24) "
   ]
  },
  {
   "cell_type": "markdown",
   "metadata": {
    "colab_type": "text",
    "id": "9G0hbvR7VqAK"
   },
   "source": [
    "# 25. Описание фильмов какой студии в среднем самые длинные по количеству слов?"
   ]
  },
  {
   "cell_type": "code",
   "execution_count": 1737,
   "metadata": {},
   "outputs": [
    {
     "data": {
      "text/html": [
       "<div>\n",
       "<style scoped>\n",
       "    .dataframe tbody tr th:only-of-type {\n",
       "        vertical-align: middle;\n",
       "    }\n",
       "\n",
       "    .dataframe tbody tr th {\n",
       "        vertical-align: top;\n",
       "    }\n",
       "\n",
       "    .dataframe thead th {\n",
       "        text-align: right;\n",
       "    }\n",
       "</style>\n",
       "<table border=\"1\" class=\"dataframe\">\n",
       "  <thead>\n",
       "    <tr style=\"text-align: right;\">\n",
       "      <th></th>\n",
       "      <th>title_len</th>\n",
       "      <th>overview_len</th>\n",
       "    </tr>\n",
       "    <tr>\n",
       "      <th>production_companies</th>\n",
       "      <th></th>\n",
       "      <th></th>\n",
       "    </tr>\n",
       "  </thead>\n",
       "  <tbody>\n",
       "    <tr>\n",
       "      <th>Midnight Picture Show</th>\n",
       "      <td>23.0</td>\n",
       "      <td>1000.0</td>\n",
       "    </tr>\n",
       "    <tr>\n",
       "      <th>Room 9 Entertainment</th>\n",
       "      <td>21.0</td>\n",
       "      <td>964.0</td>\n",
       "    </tr>\n",
       "    <tr>\n",
       "      <th>Brookwell-McNamara Entertainment</th>\n",
       "      <td>11.0</td>\n",
       "      <td>936.0</td>\n",
       "    </tr>\n",
       "    <tr>\n",
       "      <th>Lions Gate Family Entertainment</th>\n",
       "      <td>15.0</td>\n",
       "      <td>909.0</td>\n",
       "    </tr>\n",
       "    <tr>\n",
       "      <th>Crest Animation Productions</th>\n",
       "      <td>15.0</td>\n",
       "      <td>909.0</td>\n",
       "    </tr>\n",
       "    <tr>\n",
       "      <th>...</th>\n",
       "      <td>...</td>\n",
       "      <td>...</td>\n",
       "    </tr>\n",
       "    <tr>\n",
       "      <th>Projection Pictures</th>\n",
       "      <td>16.0</td>\n",
       "      <td>74.0</td>\n",
       "    </tr>\n",
       "    <tr>\n",
       "      <th>London Boulevard</th>\n",
       "      <td>16.0</td>\n",
       "      <td>74.0</td>\n",
       "    </tr>\n",
       "    <tr>\n",
       "      <th>Phantom Four</th>\n",
       "      <td>10.0</td>\n",
       "      <td>72.0</td>\n",
       "    </tr>\n",
       "    <tr>\n",
       "      <th>Empire Pictures</th>\n",
       "      <td>7.0</td>\n",
       "      <td>62.0</td>\n",
       "    </tr>\n",
       "    <tr>\n",
       "      <th>Motion Picture Corporation of America</th>\n",
       "      <td>9.0</td>\n",
       "      <td>59.0</td>\n",
       "    </tr>\n",
       "  </tbody>\n",
       "</table>\n",
       "<p>1771 rows × 2 columns</p>\n",
       "</div>"
      ],
      "text/plain": [
       "                                       title_len  overview_len\n",
       "production_companies                                          \n",
       "Midnight Picture Show                       23.0        1000.0\n",
       "Room 9 Entertainment                        21.0         964.0\n",
       "Brookwell-McNamara Entertainment            11.0         936.0\n",
       "Lions Gate Family Entertainment             15.0         909.0\n",
       "Crest Animation Productions                 15.0         909.0\n",
       "...                                          ...           ...\n",
       "Projection Pictures                         16.0          74.0\n",
       "London Boulevard                            16.0          74.0\n",
       "Phantom Four                                10.0          72.0\n",
       "Empire Pictures                              7.0          62.0\n",
       "Motion Picture Corporation of America        9.0          59.0\n",
       "\n",
       "[1771 rows x 2 columns]"
      ]
     },
     "metadata": {},
     "output_type": "display_data"
    }
   ],
   "source": [
    "studios = get_studios('overview_len')\n",
    "\n",
    "display(studios)\n",
    "\n",
    "answer(studios.iloc[0].name, 25) "
   ]
  },
  {
   "cell_type": "markdown",
   "metadata": {
    "colab_type": "text",
    "id": "FJ1AFt90VqAP"
   },
   "source": [
    "# 26. Какие фильмы входят в 1 процент лучших по рейтингу? "
   ]
  },
  {
   "cell_type": "code",
   "execution_count": 1738,
   "metadata": {},
   "outputs": [
    {
     "data": {
      "text/html": [
       "<div>\n",
       "<style scoped>\n",
       "    .dataframe tbody tr th:only-of-type {\n",
       "        vertical-align: middle;\n",
       "    }\n",
       "\n",
       "    .dataframe tbody tr th {\n",
       "        vertical-align: top;\n",
       "    }\n",
       "\n",
       "    .dataframe thead th {\n",
       "        text-align: right;\n",
       "    }\n",
       "</style>\n",
       "<table border=\"1\" class=\"dataframe\">\n",
       "  <thead>\n",
       "    <tr style=\"text-align: right;\">\n",
       "      <th></th>\n",
       "      <th>imdb_id</th>\n",
       "      <th>original_title</th>\n",
       "      <th>vote_average</th>\n",
       "    </tr>\n",
       "  </thead>\n",
       "  <tbody>\n",
       "    <tr>\n",
       "      <th>599</th>\n",
       "      <td>tt0468569</td>\n",
       "      <td>The Dark Knight</td>\n",
       "      <td>8.1</td>\n",
       "    </tr>\n",
       "    <tr>\n",
       "      <th>118</th>\n",
       "      <td>tt0816692</td>\n",
       "      <td>Interstellar</td>\n",
       "      <td>8.0</td>\n",
       "    </tr>\n",
       "    <tr>\n",
       "      <th>125</th>\n",
       "      <td>tt2084970</td>\n",
       "      <td>The Imitation Game</td>\n",
       "      <td>8.0</td>\n",
       "    </tr>\n",
       "    <tr>\n",
       "      <th>9</th>\n",
       "      <td>tt2096673</td>\n",
       "      <td>Inside Out</td>\n",
       "      <td>8.0</td>\n",
       "    </tr>\n",
       "    <tr>\n",
       "      <th>34</th>\n",
       "      <td>tt3170832</td>\n",
       "      <td>Room</td>\n",
       "      <td>8.0</td>\n",
       "    </tr>\n",
       "    <tr>\n",
       "      <th>1183</th>\n",
       "      <td>tt0993846</td>\n",
       "      <td>The Wolf of Wall Street</td>\n",
       "      <td>7.9</td>\n",
       "    </tr>\n",
       "    <tr>\n",
       "      <th>128</th>\n",
       "      <td>tt2267998</td>\n",
       "      <td>Gone Girl</td>\n",
       "      <td>7.9</td>\n",
       "    </tr>\n",
       "    <tr>\n",
       "      <th>1191</th>\n",
       "      <td>tt2024544</td>\n",
       "      <td>12 Years a Slave</td>\n",
       "      <td>7.9</td>\n",
       "    </tr>\n",
       "    <tr>\n",
       "      <th>119</th>\n",
       "      <td>tt2015381</td>\n",
       "      <td>Guardians of the Galaxy</td>\n",
       "      <td>7.9</td>\n",
       "    </tr>\n",
       "    <tr>\n",
       "      <th>1081</th>\n",
       "      <td>tt0167260</td>\n",
       "      <td>The Lord of the Rings: The Return of the King</td>\n",
       "      <td>7.9</td>\n",
       "    </tr>\n",
       "    <tr>\n",
       "      <th>1800</th>\n",
       "      <td>tt0209144</td>\n",
       "      <td>Memento</td>\n",
       "      <td>7.9</td>\n",
       "    </tr>\n",
       "    <tr>\n",
       "      <th>370</th>\n",
       "      <td>tt1375666</td>\n",
       "      <td>Inception</td>\n",
       "      <td>7.9</td>\n",
       "    </tr>\n",
       "    <tr>\n",
       "      <th>872</th>\n",
       "      <td>tt0253474</td>\n",
       "      <td>The Pianist</td>\n",
       "      <td>7.9</td>\n",
       "    </tr>\n",
       "    <tr>\n",
       "      <th>138</th>\n",
       "      <td>tt2278388</td>\n",
       "      <td>The Grand Budapest Hotel</td>\n",
       "      <td>7.9</td>\n",
       "    </tr>\n",
       "    <tr>\n",
       "      <th>1188</th>\n",
       "      <td>tt1798709</td>\n",
       "      <td>Her</td>\n",
       "      <td>7.8</td>\n",
       "    </tr>\n",
       "    <tr>\n",
       "      <th>28</th>\n",
       "      <td>tt1895587</td>\n",
       "      <td>Spotlight</td>\n",
       "      <td>7.8</td>\n",
       "    </tr>\n",
       "    <tr>\n",
       "      <th>124</th>\n",
       "      <td>tt2245084</td>\n",
       "      <td>Big Hero 6</td>\n",
       "      <td>7.8</td>\n",
       "    </tr>\n",
       "    <tr>\n",
       "      <th>177</th>\n",
       "      <td>tt2582846</td>\n",
       "      <td>The Fault in Our Stars</td>\n",
       "      <td>7.8</td>\n",
       "    </tr>\n",
       "    <tr>\n",
       "      <th>863</th>\n",
       "      <td>tt0167261</td>\n",
       "      <td>The Lord of the Rings: The Two Towers</td>\n",
       "      <td>7.8</td>\n",
       "    </tr>\n",
       "  </tbody>\n",
       "</table>\n",
       "</div>"
      ],
      "text/plain": [
       "        imdb_id                                 original_title  vote_average\n",
       "599   tt0468569                                The Dark Knight           8.1\n",
       "118   tt0816692                                   Interstellar           8.0\n",
       "125   tt2084970                             The Imitation Game           8.0\n",
       "9     tt2096673                                     Inside Out           8.0\n",
       "34    tt3170832                                           Room           8.0\n",
       "1183  tt0993846                        The Wolf of Wall Street           7.9\n",
       "128   tt2267998                                      Gone Girl           7.9\n",
       "1191  tt2024544                               12 Years a Slave           7.9\n",
       "119   tt2015381                        Guardians of the Galaxy           7.9\n",
       "1081  tt0167260  The Lord of the Rings: The Return of the King           7.9\n",
       "1800  tt0209144                                        Memento           7.9\n",
       "370   tt1375666                                      Inception           7.9\n",
       "872   tt0253474                                    The Pianist           7.9\n",
       "138   tt2278388                       The Grand Budapest Hotel           7.9\n",
       "1188  tt1798709                                            Her           7.8\n",
       "28    tt1895587                                      Spotlight           7.8\n",
       "124   tt2245084                                     Big Hero 6           7.8\n",
       "177   tt2582846                         The Fault in Our Stars           7.8\n",
       "863   tt0167261          The Lord of the Rings: The Two Towers           7.8"
      ]
     },
     "metadata": {},
     "output_type": "display_data"
    }
   ],
   "source": [
    "best_movies = data[['imdb_id', 'original_title', 'vote_average']].sort_values('vote_average', ascending = False)\n",
    "quantity = len(best_movies)\n",
    "one_percent = round(quantity * 0.01)\n",
    "\n",
    "display(best_movies[:one_percent])\n",
    "\n",
    "answer(list(best_movies[:one_percent]['original_title'].values), 26)"
   ]
  },
  {
   "cell_type": "markdown",
   "metadata": {
    "colab_type": "text",
    "id": "MdXsUXbCVqAV"
   },
   "source": [
    "# 27. Какие актеры чаще всего снимаются в одном фильме вместе?\n"
   ]
  },
  {
   "cell_type": "code",
   "execution_count": 1739,
   "metadata": {
    "colab_type": "text",
    "id": "4ymnxEVoVqAW"
   },
   "outputs": [
    {
     "data": {
      "text/plain": [
       "[('Daniel Radcliffe', 'Rupert Grint'), ('Daniel Radcliffe', 'Emma Watson')]"
      ]
     },
     "execution_count": 1739,
     "metadata": {},
     "output_type": "execute_result"
    }
   ],
   "source": [
    "actors = data[['original_title', 'cast']].copy()\n",
    "\n",
    "actors['cast'] = split(actors['cast'])\n",
    "\n",
    "# Находим все возможные комбинации пар актеров, снявшихся в одном фильме\n",
    "actors['combinations'] = actors['cast'].apply(lambda cast: list(combinations(cast,2)))\n",
    "actors = actors.explode('combinations')\n",
    "\n",
    "# Группирем и считем кол-во раз актеры снимались вместе\n",
    "often_together = actors.groupby('combinations').count().sort_values('cast',ascending= False)\n",
    "the_pairs = list(often_together.query('cast == cast.max()').index)\n",
    "\n",
    "answer(the_pairs, 27)\n",
    "answers[27]"
   ]
  },
  {
   "cell_type": "markdown",
   "metadata": {
    "colab_type": "text",
    "id": "U0nONFnGVqAX"
   },
   "source": [
    "# Вывод"
   ]
  },
  {
   "cell_type": "code",
   "execution_count": 1740,
   "metadata": {
    "colab": {},
    "colab_type": "code",
    "id": "IfcaRO9-VqAX",
    "outputId": "0f132912-32bb-4196-c98c-abfbc4ad5a5f"
   },
   "outputs": [
    {
     "data": {
      "text/plain": [
       "{1: 'Pirates of the Caribbean: On Stranger Tides (tt1298650)',\n",
       " 2: 'Gods and Generals (tt0279111)',\n",
       " 3: 'Winnie the Pooh (tt1449283)',\n",
       " 4: 109.6585494970884,\n",
       " 5: 107.0,\n",
       " 6: 'Avatar (tt0499549)',\n",
       " 7: 'The Lone Ranger (tt1210819)',\n",
       " 8: 1478,\n",
       " 9: 'The Dark Knight (tt0468569)',\n",
       " 10: 'The Lone Ranger (tt1210819)',\n",
       " 11: original_title    782\n",
       " Name: Drama, dtype: int64,\n",
       " 12: 'Drama',\n",
       " 13: 'Peter Jackson',\n",
       " 14: 'Robert Rodriguez',\n",
       " 15: 'Chris Hemsworth',\n",
       " 16: 'Matt Damon',\n",
       " 17: 'Action',\n",
       " 18: 'K-19: The Widowmaker (tt0267626)',\n",
       " 19: 2015,\n",
       " 20: 2014,\n",
       " 21: 'September',\n",
       " 22: 450,\n",
       " 23: 'Peter Jackson',\n",
       " 24: 'Four By Two Productions',\n",
       " 25: 'Midnight Picture Show',\n",
       " 26: ['The Dark Knight',\n",
       "  'Interstellar',\n",
       "  'The Imitation Game',\n",
       "  'Inside Out',\n",
       "  'Room',\n",
       "  'The Wolf of Wall Street',\n",
       "  'Gone Girl',\n",
       "  '12 Years a Slave',\n",
       "  'Guardians of the Galaxy',\n",
       "  'The Lord of the Rings: The Return of the King',\n",
       "  'Memento',\n",
       "  'Inception',\n",
       "  'The Pianist',\n",
       "  'The Grand Budapest Hotel',\n",
       "  'Her',\n",
       "  'Spotlight',\n",
       "  'Big Hero 6',\n",
       "  'The Fault in Our Stars',\n",
       "  'The Lord of the Rings: The Two Towers'],\n",
       " 27: [('Daniel Radcliffe', 'Rupert Grint'),\n",
       "  ('Daniel Radcliffe', 'Emma Watson')]}"
      ]
     },
     "execution_count": 1740,
     "metadata": {},
     "output_type": "execute_result"
    }
   ],
   "source": [
    "# Ответы к вопросам\n",
    "answers"
   ]
  },
  {
   "cell_type": "code",
   "execution_count": 1741,
   "metadata": {
    "colab": {},
    "colab_type": "code",
    "id": "SiRmHPl8VqAd"
   },
   "outputs": [
    {
     "data": {
      "text/plain": [
       "27"
      ]
     },
     "execution_count": 1741,
     "metadata": {},
     "output_type": "execute_result"
    }
   ],
   "source": [
    "len(answers)"
   ]
  }
 ],
 "metadata": {
  "colab": {
   "name": "Copy of [SF-DST] Movies IMBD v4.1 TEMPLATE.ipynb",
   "provenance": []
  },
  "kernelspec": {
   "display_name": "Python 3",
   "language": "python",
   "name": "python3"
  },
  "language_info": {
   "codemirror_mode": {
    "name": "ipython",
    "version": 3
   },
   "file_extension": ".py",
   "mimetype": "text/x-python",
   "name": "python",
   "nbconvert_exporter": "python",
   "pygments_lexer": "ipython3",
   "version": "3.8.6"
  }
 },
 "nbformat": 4,
 "nbformat_minor": 1
}
