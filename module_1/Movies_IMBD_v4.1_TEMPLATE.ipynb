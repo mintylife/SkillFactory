{
 "cells": [
  {
   "cell_type": "code",
<<<<<<< HEAD
   "execution_count": 222,
=======
   "execution_count": 190,
>>>>>>> 898e2dd (answer qs 1,2,3,4,5)
   "metadata": {
    "_cell_guid": "b1076dfc-b9ad-4769-8c92-a6c4dae69d19",
    "_uuid": "8f2839f25d086af736a60e9eeb907d3b93b6e0e5",
    "colab": {},
    "colab_type": "code",
    "id": "U2D2gTdJVp90"
   },
   "outputs": [],
   "source": [
    "import numpy as np\n",
    "import pandas as pd\n",
    "import seaborn as sns\n",
    "import matplotlib.pyplot as plt\n",
    "from collections import Counter"
   ]
  },
  {
   "cell_type": "code",
<<<<<<< HEAD
   "execution_count": 223,
=======
   "execution_count": 191,
>>>>>>> 898e2dd (answer qs 1,2,3,4,5)
   "metadata": {
    "_cell_guid": "79c7e3d0-c299-4dcb-8224-4455121ee9b0",
    "_uuid": "d629ff2d2480ee46fbb7e2d37f6b5fab8052498a",
    "colab": {},
    "colab_type": "code",
    "id": "oyGfxL3eVp9-"
   },
   "outputs": [
    {
     "data": {
      "text/html": [
       "<div>\n",
       "<style scoped>\n",
       "    .dataframe tbody tr th:only-of-type {\n",
       "        vertical-align: middle;\n",
       "    }\n",
       "\n",
       "    .dataframe tbody tr th {\n",
       "        vertical-align: top;\n",
       "    }\n",
       "\n",
       "    .dataframe thead th {\n",
       "        text-align: right;\n",
       "    }\n",
       "</style>\n",
       "<table border=\"1\" class=\"dataframe\">\n",
       "  <thead>\n",
       "    <tr style=\"text-align: right;\">\n",
       "      <th></th>\n",
       "      <th>imdb_id</th>\n",
       "      <th>budget</th>\n",
       "      <th>revenue</th>\n",
       "      <th>original_title</th>\n",
       "      <th>cast</th>\n",
       "      <th>director</th>\n",
       "      <th>tagline</th>\n",
       "      <th>overview</th>\n",
       "      <th>runtime</th>\n",
       "      <th>genres</th>\n",
       "      <th>production_companies</th>\n",
       "      <th>release_date</th>\n",
       "      <th>vote_average</th>\n",
       "      <th>release_year</th>\n",
       "    </tr>\n",
       "  </thead>\n",
       "  <tbody>\n",
       "    <tr>\n",
<<<<<<< HEAD
       "      <th>353</th>\n",
       "      <td>tt1289406</td>\n",
       "      <td>7300000</td>\n",
       "      <td>10329747</td>\n",
       "      <td>Harry Brown</td>\n",
       "      <td>Michael Caine|Emily Mortimer|Iain Glen|Lee Oak...</td>\n",
       "      <td>Daniel Barber</td>\n",
       "      <td>Every man has a breaking point.</td>\n",
       "      <td>An elderly ex-serviceman and widower looks to ...</td>\n",
       "      <td>103</td>\n",
       "      <td>Thriller|Crime|Drama|Action</td>\n",
       "      <td>HanWay Films|UK Film Council|Marv Films</td>\n",
       "      <td>11/11/2009</td>\n",
       "      <td>6.6</td>\n",
       "      <td>2009</td>\n",
       "    </tr>\n",
       "    <tr>\n",
       "      <th>1131</th>\n",
       "      <td>tt0324216</td>\n",
       "      <td>9500000</td>\n",
       "      <td>107071655</td>\n",
       "      <td>The Texas Chainsaw Massacre</td>\n",
       "      <td>Jessica Biel|Jonathan Tucker|Erica Leerhsen|Mi...</td>\n",
       "      <td>Marcus Nispel</td>\n",
       "      <td>What you know about fear... doesn't even come ...</td>\n",
       "      <td>After picking up a traumatized young hitchhike...</td>\n",
       "      <td>98</td>\n",
       "      <td>Horror</td>\n",
       "      <td>New Line Cinema|Next Entertainment|Platinum Du...</td>\n",
       "      <td>10/17/2003</td>\n",
       "      <td>6.0</td>\n",
       "      <td>2003</td>\n",
       "    </tr>\n",
       "    <tr>\n",
       "      <th>1542</th>\n",
       "      <td>tt0433386</td>\n",
       "      <td>20000000</td>\n",
       "      <td>39143839</td>\n",
       "      <td>The Grudge 2</td>\n",
       "      <td>Sarah Michelle Gellar|Amber Tamblyn|Edison Che...</td>\n",
       "      <td>Takashi Shimizu</td>\n",
       "      <td>What Was Once Trapped, Will Now Be Unleashed</td>\n",
       "      <td>In Tokyo, a young woman (Tamblyn) is exposed t...</td>\n",
       "      <td>102</td>\n",
       "      <td>Horror|Thriller</td>\n",
       "      <td>Columbia Pictures Corporation|Ghost House Pict...</td>\n",
       "      <td>10/13/2006</td>\n",
       "      <td>5.3</td>\n",
       "      <td>2006</td>\n",
       "    </tr>\n",
       "    <tr>\n",
       "      <th>878</th>\n",
       "      <td>tt0246460</td>\n",
       "      <td>140000000</td>\n",
       "      <td>431971116</td>\n",
       "      <td>Die Another Day</td>\n",
       "      <td>Pierce Brosnan|Halle Berry|Rosamund Pike|Rick ...</td>\n",
       "      <td>Lee Tamahori</td>\n",
       "      <td>Events don't get any bigger than...</td>\n",
       "      <td>The ever-daring James Bond taking on a North K...</td>\n",
       "      <td>133</td>\n",
       "      <td>Adventure|Action|Thriller</td>\n",
       "      <td>Eon Productions</td>\n",
       "      <td>11/17/2002</td>\n",
       "      <td>5.8</td>\n",
       "      <td>2002</td>\n",
       "    </tr>\n",
       "    <tr>\n",
       "      <th>680</th>\n",
       "      <td>tt0443701</td>\n",
       "      <td>30000000</td>\n",
       "      <td>68369434</td>\n",
       "      <td>The X Files: I Want to Believe</td>\n",
       "      <td>David Duchovny|Gillian Anderson|Amanda Peet|Bi...</td>\n",
       "      <td>Chris Carter</td>\n",
       "      <td>To find the truth, you must believe.</td>\n",
       "      <td>Six years after the events of The X-Files seri...</td>\n",
       "      <td>104</td>\n",
       "      <td>Drama|Mystery|Science Fiction|Thriller</td>\n",
       "      <td>Twentieth Century Fox Film Corporation|Ten Thi...</td>\n",
       "      <td>7/24/2008</td>\n",
       "      <td>5.4</td>\n",
       "      <td>2008</td>\n",
=======
       "      <th>669</th>\n",
       "      <td>tt0497465</td>\n",
       "      <td>15000000</td>\n",
       "      <td>96408652</td>\n",
       "      <td>Vicky Cristina Barcelona</td>\n",
       "      <td>Scarlett Johansson|Rebecca Hall|Javier Bardem|...</td>\n",
       "      <td>Woody Allen</td>\n",
       "      <td>Life is the ultimate work of art</td>\n",
       "      <td>Two girlfriends on a summer holiday in Spain b...</td>\n",
       "      <td>96</td>\n",
       "      <td>Drama|Romance</td>\n",
       "      <td>The Weinstein Company|Gravier Productions|Ante...</td>\n",
       "      <td>8/15/2008</td>\n",
       "      <td>6.7</td>\n",
       "      <td>2008</td>\n",
       "    </tr>\n",
       "    <tr>\n",
       "      <th>1687</th>\n",
       "      <td>tt0783233</td>\n",
       "      <td>30000000</td>\n",
       "      <td>129266061</td>\n",
       "      <td>Atonement</td>\n",
       "      <td>Keira Knightley|James McAvoy|Romola Garai|Saoi...</td>\n",
       "      <td>Joe Wright</td>\n",
       "      <td>Torn apart by betrayal. Separated by war. Boun...</td>\n",
       "      <td>As a 13-year-old, fledgling writer Briony Tall...</td>\n",
       "      <td>123</td>\n",
       "      <td>Drama|Romance</td>\n",
       "      <td>Universal Pictures|Studio Canal|Relativity Med...</td>\n",
       "      <td>8/29/2007</td>\n",
       "      <td>7.2</td>\n",
       "      <td>2007</td>\n",
       "    </tr>\n",
       "    <tr>\n",
       "      <th>774</th>\n",
       "      <td>tt1385826</td>\n",
       "      <td>50200000</td>\n",
       "      <td>127869379</td>\n",
       "      <td>The Adjustment Bureau</td>\n",
       "      <td>Matt Damon|Emily Blunt|John Slattery|Anthony M...</td>\n",
       "      <td>George Nolfi</td>\n",
       "      <td>Fight for your fate.</td>\n",
       "      <td>A man glimpses the future Fate has planned for...</td>\n",
       "      <td>106</td>\n",
       "      <td>Thriller|Romance|Fantasy</td>\n",
       "      <td>Universal Pictures|Media Rights Capital|Gambit...</td>\n",
       "      <td>3/3/2011</td>\n",
       "      <td>6.4</td>\n",
       "      <td>2011</td>\n",
       "    </tr>\n",
       "    <tr>\n",
       "      <th>495</th>\n",
       "      <td>tt1028576</td>\n",
       "      <td>35000000</td>\n",
       "      <td>60251371</td>\n",
       "      <td>Secretariat</td>\n",
       "      <td>Diane Lane|John Malkovich|Scott Glenn|Dylan Wa...</td>\n",
       "      <td>Randall Wallace</td>\n",
       "      <td>The Impossible True Story</td>\n",
       "      <td>Housewife and mother Penny Chenery agrees to t...</td>\n",
       "      <td>123</td>\n",
       "      <td>Drama</td>\n",
       "      <td>Walt Disney Pictures|Fast Track Productions|Ma...</td>\n",
       "      <td>8/20/2010</td>\n",
       "      <td>6.6</td>\n",
       "      <td>2010</td>\n",
       "    </tr>\n",
       "    <tr>\n",
       "      <th>313</th>\n",
       "      <td>tt0365929</td>\n",
       "      <td>40000000</td>\n",
       "      <td>12206028</td>\n",
       "      <td>Whiteout</td>\n",
       "      <td>Kate Beckinsale|Gabriel Macht|Tom Skerritt|Col...</td>\n",
       "      <td>Dominic Sena</td>\n",
       "      <td>See Your Last Breath</td>\n",
       "      <td>The only U.S. Marshal assigned to Antarctica, ...</td>\n",
       "      <td>101</td>\n",
       "      <td>Action|Crime|Mystery|Thriller</td>\n",
       "      <td>StudioCanal|Dark Castle Entertainment|Don Carm...</td>\n",
       "      <td>9/9/2009</td>\n",
       "      <td>5.2</td>\n",
       "      <td>2009</td>\n",
>>>>>>> 898e2dd (answer qs 1,2,3,4,5)
       "    </tr>\n",
       "  </tbody>\n",
       "</table>\n",
       "</div>"
      ],
      "text/plain": [
<<<<<<< HEAD
       "        imdb_id     budget    revenue                  original_title  \\\n",
       "353   tt1289406    7300000   10329747                     Harry Brown   \n",
       "1131  tt0324216    9500000  107071655     The Texas Chainsaw Massacre   \n",
       "1542  tt0433386   20000000   39143839                    The Grudge 2   \n",
       "878   tt0246460  140000000  431971116                 Die Another Day   \n",
       "680   tt0443701   30000000   68369434  The X Files: I Want to Believe   \n",
       "\n",
       "                                                   cast         director  \\\n",
       "353   Michael Caine|Emily Mortimer|Iain Glen|Lee Oak...    Daniel Barber   \n",
       "1131  Jessica Biel|Jonathan Tucker|Erica Leerhsen|Mi...    Marcus Nispel   \n",
       "1542  Sarah Michelle Gellar|Amber Tamblyn|Edison Che...  Takashi Shimizu   \n",
       "878   Pierce Brosnan|Halle Berry|Rosamund Pike|Rick ...     Lee Tamahori   \n",
       "680   David Duchovny|Gillian Anderson|Amanda Peet|Bi...     Chris Carter   \n",
       "\n",
       "                                                tagline  \\\n",
       "353                     Every man has a breaking point.   \n",
       "1131  What you know about fear... doesn't even come ...   \n",
       "1542       What Was Once Trapped, Will Now Be Unleashed   \n",
       "878                 Events don't get any bigger than...   \n",
       "680                To find the truth, you must believe.   \n",
       "\n",
       "                                               overview  runtime  \\\n",
       "353   An elderly ex-serviceman and widower looks to ...      103   \n",
       "1131  After picking up a traumatized young hitchhike...       98   \n",
       "1542  In Tokyo, a young woman (Tamblyn) is exposed t...      102   \n",
       "878   The ever-daring James Bond taking on a North K...      133   \n",
       "680   Six years after the events of The X-Files seri...      104   \n",
       "\n",
       "                                      genres  \\\n",
       "353              Thriller|Crime|Drama|Action   \n",
       "1131                                  Horror   \n",
       "1542                         Horror|Thriller   \n",
       "878                Adventure|Action|Thriller   \n",
       "680   Drama|Mystery|Science Fiction|Thriller   \n",
       "\n",
       "                                   production_companies release_date  \\\n",
       "353             HanWay Films|UK Film Council|Marv Films   11/11/2009   \n",
       "1131  New Line Cinema|Next Entertainment|Platinum Du...   10/17/2003   \n",
       "1542  Columbia Pictures Corporation|Ghost House Pict...   10/13/2006   \n",
       "878                                     Eon Productions   11/17/2002   \n",
       "680   Twentieth Century Fox Film Corporation|Ten Thi...    7/24/2008   \n",
       "\n",
       "      vote_average  release_year  \n",
       "353            6.6          2009  \n",
       "1131           6.0          2003  \n",
       "1542           5.3          2006  \n",
       "878            5.8          2002  \n",
       "680            5.4          2008  "
      ]
     },
     "execution_count": 223,
=======
       "        imdb_id    budget    revenue            original_title  \\\n",
       "669   tt0497465  15000000   96408652  Vicky Cristina Barcelona   \n",
       "1687  tt0783233  30000000  129266061                 Atonement   \n",
       "774   tt1385826  50200000  127869379     The Adjustment Bureau   \n",
       "495   tt1028576  35000000   60251371               Secretariat   \n",
       "313   tt0365929  40000000   12206028                  Whiteout   \n",
       "\n",
       "                                                   cast         director  \\\n",
       "669   Scarlett Johansson|Rebecca Hall|Javier Bardem|...      Woody Allen   \n",
       "1687  Keira Knightley|James McAvoy|Romola Garai|Saoi...       Joe Wright   \n",
       "774   Matt Damon|Emily Blunt|John Slattery|Anthony M...     George Nolfi   \n",
       "495   Diane Lane|John Malkovich|Scott Glenn|Dylan Wa...  Randall Wallace   \n",
       "313   Kate Beckinsale|Gabriel Macht|Tom Skerritt|Col...     Dominic Sena   \n",
       "\n",
       "                                                tagline  \\\n",
       "669                    Life is the ultimate work of art   \n",
       "1687  Torn apart by betrayal. Separated by war. Boun...   \n",
       "774                                Fight for your fate.   \n",
       "495                           The Impossible True Story   \n",
       "313                                See Your Last Breath   \n",
       "\n",
       "                                               overview  runtime  \\\n",
       "669   Two girlfriends on a summer holiday in Spain b...       96   \n",
       "1687  As a 13-year-old, fledgling writer Briony Tall...      123   \n",
       "774   A man glimpses the future Fate has planned for...      106   \n",
       "495   Housewife and mother Penny Chenery agrees to t...      123   \n",
       "313   The only U.S. Marshal assigned to Antarctica, ...      101   \n",
       "\n",
       "                             genres  \\\n",
       "669                   Drama|Romance   \n",
       "1687                  Drama|Romance   \n",
       "774        Thriller|Romance|Fantasy   \n",
       "495                           Drama   \n",
       "313   Action|Crime|Mystery|Thriller   \n",
       "\n",
       "                                   production_companies release_date  \\\n",
       "669   The Weinstein Company|Gravier Productions|Ante...    8/15/2008   \n",
       "1687  Universal Pictures|Studio Canal|Relativity Med...    8/29/2007   \n",
       "774   Universal Pictures|Media Rights Capital|Gambit...     3/3/2011   \n",
       "495   Walt Disney Pictures|Fast Track Productions|Ma...    8/20/2010   \n",
       "313   StudioCanal|Dark Castle Entertainment|Don Carm...     9/9/2009   \n",
       "\n",
       "      vote_average  release_year  \n",
       "669            6.7          2008  \n",
       "1687           7.2          2007  \n",
       "774            6.4          2011  \n",
       "495            6.6          2010  \n",
       "313            5.2          2009  "
      ]
     },
     "execution_count": 191,
>>>>>>> 898e2dd (answer qs 1,2,3,4,5)
     "metadata": {},
     "output_type": "execute_result"
    }
   ],
   "source": [
    "data = pd.read_csv('movie_bd_v5.csv')\n",
    "data.sample(5)"
   ]
  },
  {
   "cell_type": "code",
<<<<<<< HEAD
   "execution_count": 224,
=======
   "execution_count": 192,
>>>>>>> 898e2dd (answer qs 1,2,3,4,5)
   "metadata": {
    "colab": {},
    "colab_type": "code",
    "id": "CoYUnagMVp-C"
   },
   "outputs": [
    {
     "data": {
      "text/html": [
       "<div>\n",
       "<style scoped>\n",
       "    .dataframe tbody tr th:only-of-type {\n",
       "        vertical-align: middle;\n",
       "    }\n",
       "\n",
       "    .dataframe tbody tr th {\n",
       "        vertical-align: top;\n",
       "    }\n",
       "\n",
       "    .dataframe thead th {\n",
       "        text-align: right;\n",
       "    }\n",
       "</style>\n",
       "<table border=\"1\" class=\"dataframe\">\n",
       "  <thead>\n",
       "    <tr style=\"text-align: right;\">\n",
       "      <th></th>\n",
       "      <th>budget</th>\n",
       "      <th>revenue</th>\n",
       "      <th>runtime</th>\n",
       "      <th>vote_average</th>\n",
       "      <th>release_year</th>\n",
       "    </tr>\n",
       "  </thead>\n",
       "  <tbody>\n",
       "    <tr>\n",
       "      <th>count</th>\n",
       "      <td>1.889000e+03</td>\n",
       "      <td>1.889000e+03</td>\n",
       "      <td>1889.000000</td>\n",
       "      <td>1889.000000</td>\n",
       "      <td>1889.000000</td>\n",
       "    </tr>\n",
       "    <tr>\n",
       "      <th>mean</th>\n",
       "      <td>5.431083e+07</td>\n",
       "      <td>1.553653e+08</td>\n",
       "      <td>109.658549</td>\n",
       "      <td>6.140762</td>\n",
       "      <td>2007.860773</td>\n",
       "    </tr>\n",
       "    <tr>\n",
       "      <th>std</th>\n",
       "      <td>4.858721e+07</td>\n",
       "      <td>2.146698e+08</td>\n",
       "      <td>18.017041</td>\n",
       "      <td>0.764763</td>\n",
       "      <td>4.468841</td>\n",
       "    </tr>\n",
       "    <tr>\n",
       "      <th>min</th>\n",
       "      <td>5.000000e+06</td>\n",
       "      <td>2.033165e+06</td>\n",
       "      <td>63.000000</td>\n",
       "      <td>3.300000</td>\n",
       "      <td>2000.000000</td>\n",
       "    </tr>\n",
       "    <tr>\n",
       "      <th>25%</th>\n",
       "      <td>2.000000e+07</td>\n",
       "      <td>3.456058e+07</td>\n",
       "      <td>97.000000</td>\n",
       "      <td>5.600000</td>\n",
       "      <td>2004.000000</td>\n",
       "    </tr>\n",
       "    <tr>\n",
       "      <th>50%</th>\n",
       "      <td>3.800000e+07</td>\n",
       "      <td>8.361541e+07</td>\n",
       "      <td>107.000000</td>\n",
       "      <td>6.100000</td>\n",
       "      <td>2008.000000</td>\n",
       "    </tr>\n",
       "    <tr>\n",
       "      <th>75%</th>\n",
       "      <td>7.200000e+07</td>\n",
       "      <td>1.782626e+08</td>\n",
       "      <td>120.000000</td>\n",
       "      <td>6.600000</td>\n",
       "      <td>2012.000000</td>\n",
       "    </tr>\n",
       "    <tr>\n",
       "      <th>max</th>\n",
       "      <td>3.800000e+08</td>\n",
       "      <td>2.781506e+09</td>\n",
       "      <td>214.000000</td>\n",
       "      <td>8.100000</td>\n",
       "      <td>2015.000000</td>\n",
       "    </tr>\n",
       "  </tbody>\n",
       "</table>\n",
       "</div>"
      ],
      "text/plain": [
       "             budget       revenue      runtime  vote_average  release_year\n",
       "count  1.889000e+03  1.889000e+03  1889.000000   1889.000000   1889.000000\n",
       "mean   5.431083e+07  1.553653e+08   109.658549      6.140762   2007.860773\n",
       "std    4.858721e+07  2.146698e+08    18.017041      0.764763      4.468841\n",
       "min    5.000000e+06  2.033165e+06    63.000000      3.300000   2000.000000\n",
       "25%    2.000000e+07  3.456058e+07    97.000000      5.600000   2004.000000\n",
       "50%    3.800000e+07  8.361541e+07   107.000000      6.100000   2008.000000\n",
       "75%    7.200000e+07  1.782626e+08   120.000000      6.600000   2012.000000\n",
       "max    3.800000e+08  2.781506e+09   214.000000      8.100000   2015.000000"
      ]
     },
<<<<<<< HEAD
     "execution_count": 224,
=======
     "execution_count": 192,
>>>>>>> 898e2dd (answer qs 1,2,3,4,5)
     "metadata": {},
     "output_type": "execute_result"
    }
   ],
   "source": [
    "data.describe()"
   ]
  },
  {
   "cell_type": "markdown",
   "metadata": {
    "colab_type": "text",
    "id": "DTIt7ezGVp-G"
   },
   "source": [
    "# Предобработка"
   ]
  },
  {
   "cell_type": "code",
<<<<<<< HEAD
   "execution_count": 225,
=======
   "execution_count": 193,
>>>>>>> 898e2dd (answer qs 1,2,3,4,5)
   "metadata": {
    "colab": {},
    "colab_type": "code",
    "id": "jNb40DwKVp-H"
   },
   "outputs": [],
   "source": [
    "answers = {} # создадим словарь для ответов\n",
    "\n",
    "# тут другие ваши предобработки колонок например:\n",
    "\n",
    "#the time given in the dataset is in string format.\n",
    "#So we need to change this in datetime format\n",
    "# ..."
   ]
  },
  {
   "cell_type": "code",
<<<<<<< HEAD
   "execution_count": 226,
=======
   "execution_count": 194,
>>>>>>> 898e2dd (answer qs 1,2,3,4,5)
   "metadata": {},
   "outputs": [
    {
     "name": "stdout",
     "output_type": "stream",
     "text": [
      "<class 'pandas.core.frame.DataFrame'>\n",
      "RangeIndex: 1889 entries, 0 to 1888\n",
      "Data columns (total 14 columns):\n",
      " #   Column                Non-Null Count  Dtype  \n",
      "---  ------                --------------  -----  \n",
      " 0   imdb_id               1889 non-null   object \n",
      " 1   budget                1889 non-null   int64  \n",
      " 2   revenue               1889 non-null   int64  \n",
      " 3   original_title        1889 non-null   object \n",
      " 4   cast                  1889 non-null   object \n",
      " 5   director              1889 non-null   object \n",
      " 6   tagline               1889 non-null   object \n",
      " 7   overview              1889 non-null   object \n",
      " 8   runtime               1889 non-null   int64  \n",
      " 9   genres                1889 non-null   object \n",
      " 10  production_companies  1889 non-null   object \n",
      " 11  release_date          1889 non-null   object \n",
      " 12  vote_average          1889 non-null   float64\n",
      " 13  release_year          1889 non-null   int64  \n",
      "dtypes: float64(1), int64(4), object(9)\n",
      "memory usage: 206.7+ KB\n"
     ]
    }
   ],
   "source": [
    "data.info()"
   ]
  },
  {
   "cell_type": "markdown",
   "metadata": {},
   "source": [
    "### Check if there any non null values"
   ]
  },
  {
   "cell_type": "code",
<<<<<<< HEAD
   "execution_count": 227,
=======
   "execution_count": 195,
>>>>>>> 898e2dd (answer qs 1,2,3,4,5)
   "metadata": {},
   "outputs": [
    {
     "data": {
      "text/plain": [
       "False"
      ]
     },
<<<<<<< HEAD
     "execution_count": 227,
=======
     "execution_count": 195,
>>>>>>> 898e2dd (answer qs 1,2,3,4,5)
     "metadata": {},
     "output_type": "execute_result"
    }
   ],
   "source": [
    "data.isnull().values.any()"
   ]
  },
  {
   "cell_type": "markdown",
   "metadata": {},
   "source": [
    "### Check if columns of type 'object' are of the right data format"
   ]
  },
  {
   "cell_type": "code",
<<<<<<< HEAD
   "execution_count": 228,
=======
   "execution_count": 196,
>>>>>>> 898e2dd (answer qs 1,2,3,4,5)
   "metadata": {},
   "outputs": [
    {
     "data": {
      "text/plain": [
       "Index(['imdb_id', 'original_title', 'cast', 'director', 'tagline', 'overview',\n",
       "       'genres', 'production_companies', 'release_date'],\n",
       "      dtype='object')"
      ]
     },
<<<<<<< HEAD
     "execution_count": 228,
=======
     "execution_count": 196,
>>>>>>> 898e2dd (answer qs 1,2,3,4,5)
     "metadata": {},
     "output_type": "execute_result"
    }
   ],
   "source": [
    "object_data = data.select_dtypes(include='object').columns\n",
    "object_data"
   ]
  },
  {
   "cell_type": "code",
<<<<<<< HEAD
   "execution_count": 229,
=======
   "execution_count": 197,
>>>>>>> 898e2dd (answer qs 1,2,3,4,5)
   "metadata": {},
   "outputs": [
    {
     "name": "stdout",
     "output_type": "stream",
     "text": [
      "<class 'str'> \t imdb_id\n",
      "<class 'str'> \t original_title\n",
      "<class 'str'> \t cast\n",
      "<class 'str'> \t director\n",
      "<class 'str'> \t tagline\n",
      "<class 'str'> \t overview\n",
      "<class 'str'> \t genres\n",
      "<class 'str'> \t production_companies\n",
      "<class 'str'> \t release_date\n"
     ]
    }
   ],
   "source": [
    "for ob in object_data:\n",
    "    print(type(ob),'\\t', ob)"
   ]
  },
  {
   "cell_type": "markdown",
   "metadata": {},
   "source": [
    "### Change columns with the wrong data format to the right one"
   ]
  },
  {
   "cell_type": "code",
<<<<<<< HEAD
   "execution_count": 230,
=======
   "execution_count": 198,
>>>>>>> 898e2dd (answer qs 1,2,3,4,5)
   "metadata": {},
   "outputs": [
    {
     "data": {
      "text/plain": [
       "pandas._libs.tslibs.timestamps.Timestamp"
      ]
     },
<<<<<<< HEAD
     "execution_count": 230,
=======
     "execution_count": 198,
>>>>>>> 898e2dd (answer qs 1,2,3,4,5)
     "metadata": {},
     "output_type": "execute_result"
    }
   ],
   "source": [
    "data['release_date'] = pd.to_datetime(data['release_date'])\n",
    "type(data['release_date'][0])"
   ]
  },
  {
   "cell_type": "markdown",
   "metadata": {},
   "source": [
    "### Create a function collecting all answers to questions"
   ]
  },
  {
   "cell_type": "code",
<<<<<<< HEAD
   "execution_count": 231,
=======
   "execution_count": 199,
>>>>>>> 898e2dd (answer qs 1,2,3,4,5)
   "metadata": {},
   "outputs": [
    {
     "data": {
      "text/plain": [
       "{}"
      ]
     },
<<<<<<< HEAD
     "execution_count": 231,
=======
     "execution_count": 199,
>>>>>>> 898e2dd (answer qs 1,2,3,4,5)
     "metadata": {},
     "output_type": "execute_result"
    }
   ],
   "source": [
    "answers = {}\n",
    "def answer(answer, question = 1, name = True):\n",
    "    if name:\n",
    "        answers[question] = answer['original_title'].item() + ' (' + answer['imdb_id'].item() + ')'\n",
    "    else: \n",
    "        answers[question] = answer\n",
    "answers"
   ]
  },
  {
   "cell_type": "markdown",
   "metadata": {},
   "source": [
    "### Add profit data to the dataframe"
   ]
  },
  {
   "cell_type": "code",
   "execution_count": 232,
   "metadata": {},
   "outputs": [
    {
     "data": {
      "text/plain": [
       "0       1363528810\n",
       "1        228436354\n",
       "2        185238201\n",
       "3       1868178225\n",
       "4       1316249360\n",
       "           ...    \n",
       "1884      82299717\n",
       "1885      -8444012\n",
       "1886     -40865180\n",
       "1887      -3962091\n",
       "1888      -9782502\n",
       "Name: profit, Length: 1889, dtype: int64"
      ]
     },
     "execution_count": 232,
     "metadata": {},
     "output_type": "execute_result"
    }
   ],
   "source": [
    "data['profit'] = data['revenue'] - data['budget']\n",
    "data['profit']"
   ]
  },
  {
   "cell_type": "markdown",
   "metadata": {
    "colab_type": "text",
    "id": "YxZaH-nPVp-L"
   },
   "source": [
    "# 1. У какого фильма из списка самый большой бюджет?"
   ]
  },
  {
   "cell_type": "code",
   "execution_count": 200,
   "metadata": {},
   "outputs": [],
   "source": [
    "max_budget = data[data['budget'] == data['budget'].max()]\n",
    "answer(max_budget)\n",
    "\n",
    "answers[1]"
   ]
  },
  {
<<<<<<< HEAD
   "cell_type": "code",
   "execution_count": 233,
=======
   "cell_type": "markdown",
>>>>>>> 898e2dd (answer qs 1,2,3,4,5)
   "metadata": {
    "colab_type": "text",
    "id": "FNRbbI3vVp-c"
   },
   "source": [
    "# 2. Какой из фильмов самый длительный (в минутах)?"
   ]
  },
  {
   "cell_type": "code",
<<<<<<< HEAD
   "execution_count": 234,
   "metadata": {
    "colab": {},
    "colab_type": "code",
    "id": "dZwb3m28Vp-S"
   },
   "outputs": [],
=======
   "execution_count": 215,
   "metadata": {},
   "outputs": [
    {
     "data": {
      "text/plain": [
       "'Gods and Generals (tt0279111)'"
      ]
     },
     "execution_count": 215,
     "metadata": {},
     "output_type": "execute_result"
    }
   ],
>>>>>>> 898e2dd (answer qs 1,2,3,4,5)
   "source": [
    "longest = data[data['runtime'] == data['runtime'].max()]\n",
    "answer(longest, 2)\n",
    "\n",
    "answers[2]"
   ]
  },
  {
   "cell_type": "markdown",
   "metadata": {
    "colab_type": "text",
    "id": "bapLlpW8Vp-k"
   },
   "source": [
    "# 3. Какой из фильмов самый короткий (в минутах)?\n",
    "\n",
    "\n",
    "\n"
   ]
  },
  {
   "cell_type": "code",
<<<<<<< HEAD
   "execution_count": 235,
   "metadata": {
    "colab": {},
    "colab_type": "code",
    "id": "OGaoQI7rVp-X"
   },
=======
   "execution_count": 202,
   "metadata": {},
>>>>>>> 898e2dd (answer qs 1,2,3,4,5)
   "outputs": [],
   "source": [
    "shortest = data[data['runtime'] == data['runtime'].min()]\n",
    "answer(shortest, 3)\n",
    "\n",
    "answers[3]"
   ]
  },
  {
   "cell_type": "markdown",
   "metadata": {
    "colab_type": "text",
    "id": "TfQbxbfNVp-p"
   },
   "source": [
    "# 4. Какова средняя длительность фильмов?\n"
   ]
  },
  {
   "cell_type": "code",
   "execution_count": 203,
   "metadata": {
    "colab": {},
    "colab_type": "code",
    "id": "vHAoEXNTVp-d"
   },
   "outputs": [],
   "source": [
    "avg_runtime = data['runtime'].mean()\n",
    "answer(avg_runtime, 4, False)\n",
    "\n",
    "answers[4]"
   ]
  },
  {
   "cell_type": "markdown",
   "metadata": {
    "colab_type": "text",
    "id": "r5TvbnT_Vp-u"
   },
   "source": [
    "# 5. Каково медианное значение длительности фильмов? "
   ]
  },
  {
   "cell_type": "code",
   "execution_count": 216,
   "metadata": {
    "colab": {},
    "colab_type": "code",
    "id": "ot-VX2XrVp-g"
   },
   "outputs": [
    {
     "data": {
      "text/plain": [
       "107.0"
      ]
     },
     "execution_count": 216,
     "metadata": {},
     "output_type": "execute_result"
    }
   ],
   "source": [
    "meadian_runtime = data['runtime'].median()\n",
    "answer(meadian_runtime, 5, False)\n",
    "\n",
    "answers[5]"
   ]
  },
  {
   "cell_type": "markdown",
   "metadata": {
    "colab_type": "text",
    "id": "39P-deDSVp-y"
   },
   "source": [
    "# 6. Какой самый прибыльный фильм?\n",
    "#### Внимание! Здесь и далее под «прибылью» или «убытками» понимается разность между сборами и бюджетом фильма. (прибыль = сборы - бюджет) в нашем датасете это будет (profit = revenue - budget) "
   ]
  },
  {
   "cell_type": "code",
<<<<<<< HEAD
   "execution_count": 236,
=======
   "execution_count": null,
   "metadata": {
    "colab": {},
    "colab_type": "code",
    "id": "YBxaSHuAVp-l"
   },
   "outputs": [],
   "source": []
  },
  {
   "cell_type": "code",
   "execution_count": 206,
>>>>>>> 898e2dd (answer qs 1,2,3,4,5)
   "metadata": {
    "colab": {},
    "colab_type": "code",
    "id": "UYZh4T9WVp-y"
   },
   "outputs": [],
   "source": [
    "# лучше код получения столбца profit вынести в Предобработку что в начале"
   ]
  },
  {
   "cell_type": "code",
   "execution_count": null,
   "metadata": {},
   "outputs": [],
   "source": []
  },
  {
   "cell_type": "code",
   "execution_count": 207,
   "metadata": {
    "colab": {},
    "colab_type": "code",
    "id": "5K6dKZYVVp-q"
   },
   "outputs": [],
   "source": [
    "avg_runtime = data['runtime'].mean()\n",
    "answer(avg_runtime, 4, False)"
   ]
  },
  {
   "cell_type": "markdown",
   "metadata": {
    "colab_type": "text",
    "id": "M99JmIX4Vp-2"
   },
   "source": [
    "# 7. Какой фильм самый убыточный? "
   ]
  },
  {
   "cell_type": "code",
   "execution_count": null,
   "metadata": {
    "colab": {},
    "colab_type": "code",
    "id": "w-D2m4XPVp-3"
   },
   "outputs": [],
   "source": []
  },
  {
   "cell_type": "code",
   "execution_count": 208,
   "metadata": {
    "colab": {},
    "colab_type": "code",
    "id": "iBROplKnVp-v"
   },
   "outputs": [],
   "source": [
    "median_runtime = data['runtime'].median()\n",
    "answer(median_runtime, 5, False)"
   ]
  },
  {
   "cell_type": "markdown",
   "metadata": {
    "colab_type": "text",
    "id": "wEOM5ERVVp-6"
   },
   "source": [
    "# 8. У скольких фильмов из датасета объем сборов оказался выше бюджета?"
   ]
  },
  {
   "cell_type": "code",
   "execution_count": 209,
   "metadata": {},
   "outputs": [
    {
     "data": {
      "text/plain": [
       "{1: 'Pirates of the Caribbean: On Stranger Tides (tt1298650)',\n",
       " 2: 'Gods and Generals (tt0279111)',\n",
       " 3: 'Winnie the Pooh (tt1449283)',\n",
       " 4: 109.6585494970884,\n",
       " 5: 107.0}"
      ]
     },
     "execution_count": 209,
     "metadata": {},
     "output_type": "execute_result"
    }
   ],
   "source": [
    "answers"
   ]
  },
  {
   "cell_type": "code",
   "execution_count": null,
   "metadata": {
    "colab": {},
    "colab_type": "code",
    "id": "y00_7HD6Vp-7"
   },
   "outputs": [],
   "source": []
  },
  {
   "cell_type": "markdown",
   "metadata": {
    "colab_type": "text",
    "id": "xhpspA9KVp_A"
   },
   "source": [
    "# 9. Какой фильм оказался самым кассовым в 2008 году?"
   ]
  },
  {
   "cell_type": "code",
   "execution_count": null,
   "metadata": {
    "colab": {},
    "colab_type": "code",
    "id": "MoUyQr9RVp_B"
   },
   "outputs": [],
   "source": []
  },
  {
   "cell_type": "markdown",
   "metadata": {
    "colab_type": "text",
    "id": "Zi4hDKidVp_F"
   },
   "source": [
    "# 10. Самый убыточный фильм за период с 2012 по 2014 г. (включительно)?\n"
   ]
  },
  {
   "cell_type": "code",
   "execution_count": null,
   "metadata": {
    "colab": {},
    "colab_type": "code",
    "id": "XqyRmufJVp_F"
   },
   "outputs": [],
   "source": []
  },
  {
   "cell_type": "markdown",
   "metadata": {
    "colab_type": "text",
    "id": "EA7Sa9dkVp_I"
   },
   "source": [
    "# 11. Какого жанра фильмов больше всего?"
   ]
  },
  {
   "cell_type": "code",
<<<<<<< HEAD
   "execution_count": 237,
=======
   "execution_count": 210,
>>>>>>> 898e2dd (answer qs 1,2,3,4,5)
   "metadata": {
    "colab": {},
    "colab_type": "code",
    "id": "zsJAwJ8QVp_J"
   },
   "outputs": [],
   "source": [
    "# эту задачу тоже можно решать разными подходами, попробуй реализовать разные варианты\n",
    "# если будешь добавлять функцию - выноси ее в предобработку что в начале"
   ]
  },
  {
   "cell_type": "markdown",
   "metadata": {
    "colab_type": "text",
    "id": "Ax6g2C8SVp_M"
   },
   "source": [
    "ВАРИАНТ 2"
   ]
  },
  {
   "cell_type": "code",
   "execution_count": null,
   "metadata": {
    "colab": {},
    "colab_type": "code",
    "id": "otO3SbrSVp_N"
   },
   "outputs": [],
   "source": []
  },
  {
   "cell_type": "markdown",
   "metadata": {
    "colab_type": "text",
    "id": "T9_bPWpkVp_Q"
   },
   "source": [
    "# 12. Фильмы какого жанра чаще всего становятся прибыльными? "
   ]
  },
  {
   "cell_type": "code",
   "execution_count": null,
   "metadata": {
    "colab": {},
    "colab_type": "code",
    "id": "Tmt8MaK1Vp_R"
   },
   "outputs": [],
   "source": []
  },
  {
   "cell_type": "markdown",
   "metadata": {
    "colab_type": "text",
    "id": "0F23bgsDVp_U"
   },
   "source": [
    "# 13. У какого режиссера самые большие суммарные кассовые сборы?"
   ]
  },
  {
   "cell_type": "code",
   "execution_count": null,
   "metadata": {
    "colab": {},
    "colab_type": "code",
    "id": "K6Z3J8ygVp_X"
   },
   "outputs": [],
   "source": []
  },
  {
   "cell_type": "markdown",
   "metadata": {
    "colab_type": "text",
    "id": "PsYC9FgRVp_a"
   },
   "source": [
    "# 14. Какой режисер снял больше всего фильмов в стиле Action?"
   ]
  },
  {
   "cell_type": "code",
   "execution_count": null,
   "metadata": {
    "colab": {},
    "colab_type": "code",
    "id": "wd2M-wHeVp_b"
   },
   "outputs": [],
   "source": []
  },
  {
   "cell_type": "markdown",
   "metadata": {
    "colab_type": "text",
    "id": "PQ0KciD7Vp_f"
   },
   "source": [
    "# 15. Фильмы с каким актером принесли самые высокие кассовые сборы в 2012 году? "
   ]
  },
  {
   "cell_type": "code",
   "execution_count": null,
   "metadata": {
    "colab": {},
    "colab_type": "code",
    "id": "aga62oeKVp_g"
   },
   "outputs": [],
   "source": []
  },
  {
   "cell_type": "markdown",
   "metadata": {
    "colab_type": "text",
    "id": "mWHyyL7QVp_j"
   },
   "source": [
    "# 16. Какой актер снялся в большем количестве высокобюджетных фильмов?"
   ]
  },
  {
   "cell_type": "code",
   "execution_count": null,
   "metadata": {
    "colab": {},
    "colab_type": "code",
    "id": "qQtmHKTFVp_k"
   },
   "outputs": [],
   "source": []
  },
  {
   "cell_type": "markdown",
   "metadata": {
    "colab_type": "text",
    "id": "NIh6AaW5Vp_n"
   },
   "source": [
    "# 17. В фильмах какого жанра больше всего снимался Nicolas Cage? "
   ]
  },
  {
   "cell_type": "code",
   "execution_count": null,
   "metadata": {
    "colab": {},
    "colab_type": "code",
    "id": "H74SJDIBVp_n"
   },
   "outputs": [],
   "source": []
  },
  {
   "cell_type": "markdown",
   "metadata": {
    "colab_type": "text",
    "id": "RqOmPRfWVp_q"
   },
   "source": [
    "# 18. Самый убыточный фильм от Paramount Pictures"
   ]
  },
  {
   "cell_type": "code",
   "execution_count": null,
   "metadata": {
    "colab": {},
    "colab_type": "code",
    "id": "9E_B0Y96Vp_r"
   },
   "outputs": [],
   "source": []
  },
  {
   "cell_type": "markdown",
   "metadata": {
    "colab_type": "text",
    "id": "vS8Ur6ddVp_u"
   },
   "source": [
    "# 19. Какой год стал самым успешным по суммарным кассовым сборам?"
   ]
  },
  {
   "cell_type": "code",
   "execution_count": null,
   "metadata": {
    "colab": {},
    "colab_type": "code",
    "id": "Dnbt4GdIVp_v"
   },
   "outputs": [],
   "source": []
  },
  {
   "cell_type": "markdown",
   "metadata": {
    "colab_type": "text",
    "id": "JAzJh4QAVp_z"
   },
   "source": [
    "# 20. Какой самый прибыльный год для студии Warner Bros?"
   ]
  },
  {
   "cell_type": "code",
   "execution_count": null,
   "metadata": {
    "colab": {},
    "colab_type": "code",
    "id": "wgVu02DEVp_0"
   },
   "outputs": [],
   "source": []
  },
  {
   "cell_type": "markdown",
   "metadata": {
    "colab_type": "text",
    "id": "8Im1S2HRVp_4"
   },
   "source": [
    "# 21. В каком месяце за все годы суммарно вышло больше всего фильмов?"
   ]
  },
  {
   "cell_type": "code",
   "execution_count": null,
   "metadata": {
    "colab": {},
    "colab_type": "code",
    "id": "lev6TH7gVp_4"
   },
   "outputs": [],
   "source": []
  },
  {
   "cell_type": "markdown",
   "metadata": {
    "colab_type": "text",
    "id": "uAJsZ_NeVp_7"
   },
   "source": [
    "# 22. Сколько суммарно вышло фильмов летом? (за июнь, июль, август)"
   ]
  },
  {
   "cell_type": "code",
   "execution_count": null,
   "metadata": {
    "colab": {},
    "colab_type": "code",
    "id": "Aa-hEREoVp_8"
   },
   "outputs": [],
   "source": []
  },
  {
   "cell_type": "markdown",
   "metadata": {
    "colab_type": "text",
    "id": "G94ppOY1VqAA"
   },
   "source": [
    "# 23. Для какого режиссера зима – самое продуктивное время года? "
   ]
  },
  {
   "cell_type": "code",
   "execution_count": null,
   "metadata": {
    "colab": {},
    "colab_type": "code",
    "id": "RhNTsamuVqAB"
   },
   "outputs": [],
   "source": []
  },
  {
   "cell_type": "markdown",
   "metadata": {
    "colab_type": "text",
    "id": "RBo0JVjVVqAF"
   },
   "source": [
    "# 24. Какая студия дает самые длинные названия своим фильмам по количеству символов?"
   ]
  },
  {
   "cell_type": "code",
   "execution_count": null,
   "metadata": {
    "colab": {},
    "colab_type": "code",
    "id": "QRGS8L0iVqAG"
   },
   "outputs": [],
   "source": []
  },
  {
   "cell_type": "markdown",
   "metadata": {
    "colab_type": "text",
    "id": "9G0hbvR7VqAK"
   },
   "source": [
    "# 25. Описание фильмов какой студии в среднем самые длинные по количеству слов?"
   ]
  },
  {
   "cell_type": "code",
   "execution_count": null,
   "metadata": {
    "colab": {},
    "colab_type": "code",
    "id": "Ge2GsLNxVqAK"
   },
   "outputs": [],
   "source": []
  },
  {
   "cell_type": "markdown",
   "metadata": {
    "colab_type": "text",
    "id": "FJ1AFt90VqAP"
   },
   "source": [
    "# 26. Какие фильмы входят в 1 процент лучших по рейтингу? \n",
    "по vote_average"
   ]
  },
  {
   "cell_type": "code",
   "execution_count": null,
   "metadata": {
    "colab": {},
    "colab_type": "code",
    "id": "8qmJVq4CVqAQ"
   },
   "outputs": [],
   "source": []
  },
  {
   "cell_type": "markdown",
   "metadata": {
    "colab_type": "text",
    "id": "MdXsUXbCVqAV"
   },
   "source": [
    "# 27. Какие актеры чаще всего снимаются в одном фильме вместе?\n"
   ]
  },
  {
   "cell_type": "markdown",
   "metadata": {
    "colab_type": "text",
    "id": "4ymnxEVoVqAW"
   },
   "source": [
    "ВАРИАНТ 2"
   ]
  },
  {
   "cell_type": "markdown",
   "metadata": {
    "colab_type": "text",
    "id": "U0nONFnGVqAX"
   },
   "source": [
    "# Submission"
   ]
  },
  {
   "cell_type": "code",
<<<<<<< HEAD
   "execution_count": 238,
=======
   "execution_count": 211,
>>>>>>> 898e2dd (answer qs 1,2,3,4,5)
   "metadata": {
    "colab": {},
    "colab_type": "code",
    "id": "IfcaRO9-VqAX",
    "outputId": "0f132912-32bb-4196-c98c-abfbc4ad5a5f"
   },
   "outputs": [
    {
     "data": {
      "text/plain": [
<<<<<<< HEAD
       "{'1': '...'}"
      ]
     },
     "execution_count": 238,
=======
       "{1: 'Pirates of the Caribbean: On Stranger Tides (tt1298650)',\n",
       " 2: 'Gods and Generals (tt0279111)',\n",
       " 3: 'Winnie the Pooh (tt1449283)',\n",
       " 4: 109.6585494970884,\n",
       " 5: 107.0}"
      ]
     },
     "execution_count": 211,
>>>>>>> 898e2dd (answer qs 1,2,3,4,5)
     "metadata": {},
     "output_type": "execute_result"
    }
   ],
   "source": [
    "# в конце можно посмотреть свои ответы к каждому вопросу\n",
    "answers"
   ]
  },
  {
   "cell_type": "code",
<<<<<<< HEAD
   "execution_count": 239,
=======
   "execution_count": 212,
>>>>>>> 898e2dd (answer qs 1,2,3,4,5)
   "metadata": {
    "colab": {},
    "colab_type": "code",
    "id": "SiRmHPl8VqAd"
   },
   "outputs": [
    {
     "data": {
      "text/plain": [
<<<<<<< HEAD
       "1"
      ]
     },
     "execution_count": 239,
=======
       "5"
      ]
     },
     "execution_count": 212,
>>>>>>> 898e2dd (answer qs 1,2,3,4,5)
     "metadata": {},
     "output_type": "execute_result"
    }
   ],
   "source": [
    "# и убедиться что ни чего не пропустил)\n",
    "len(answers)"
   ]
  },
  {
   "cell_type": "code",
   "execution_count": null,
   "metadata": {
    "colab": {},
    "colab_type": "code",
    "id": "uCfuTkRbVqAg"
   },
   "outputs": [],
   "source": []
  },
  {
   "cell_type": "code",
   "execution_count": null,
   "metadata": {
    "colab": {},
    "colab_type": "code",
    "id": "Vwx3NrkSVqAl"
   },
   "outputs": [],
   "source": []
  }
 ],
 "metadata": {
  "colab": {
   "name": "Copy of [SF-DST] Movies IMBD v4.1 TEMPLATE.ipynb",
   "provenance": []
  },
  "kernelspec": {
   "display_name": "Python 3",
   "language": "python",
   "name": "python3"
  },
  "language_info": {
   "codemirror_mode": {
    "name": "ipython",
    "version": 3
   },
   "file_extension": ".py",
   "mimetype": "text/x-python",
   "name": "python",
   "nbconvert_exporter": "python",
   "pygments_lexer": "ipython3",
   "version": "3.8.6"
  }
 },
 "nbformat": 4,
 "nbformat_minor": 1
}
