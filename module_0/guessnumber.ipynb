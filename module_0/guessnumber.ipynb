{
 "cells": [
  {
   "cell_type": "code",
   "execution_count": 1,
   "metadata": {
    "collapsed": true
   },
   "outputs": [
    {
     "name": "stdout",
     "output_type": "stream",
     "text": [
      "Ваш алгоритм угадывает число в среднем за 5 попыток\n"
     ]
    },
    {
     "data": {
      "text/plain": "5"
     },
     "execution_count": 1,
     "metadata": {},
     "output_type": "execute_result"
    }
   ],
   "source": [
    "import numpy as np\n",
    "\n",
    "def game_core_v3(correct_number):\n",
    "    ''' По принципу бинарного поиска угадываем загаданное число и возвращаем\n",
    "    кол-во попыток.\n",
    "\n",
    "    Переменные min_value и max_value указывают на границы диапозона,\n",
    "    в котором находися загаданное число.\n",
    "\n",
    "    Деля диапозон напополам и обновляя его границы, находим загаданное число.\n",
    "    '''\n",
    "\n",
    "    count = 1\n",
    "    min_value = 1\n",
    "    max_value = 100\n",
    "    guess = max_value // 2\n",
    "\n",
    "    while guess != correct_number:\n",
    "        count += 1\n",
    "\n",
    "        if guess < correct_number:\n",
    "            min_value = guess + 1\n",
    "        elif guess >= correct_number:\n",
    "            max_value = guess - 1\n",
    "\n",
    "        guess = (max_value-min_value+1)//2 + min_value\n",
    "\n",
    "    return count\n",
    "\n",
    "\n",
    "def score_game(game_core):\n",
    "    '''Запускаем игру 1000 раз, чтобы узнать, как быстро игра угадывает число'''\n",
    "\n",
    "    count_ls = []\n",
    "    np.random.seed(1)  # фиксируем RANDOM SEED, чтобы эксперимент был воспроизводим.\n",
    "    random_array = np.random.randint(1,101, size=1000)\n",
    "\n",
    "    for number in random_array:\n",
    "        count_ls.append(game_core(number))\n",
    "\n",
    "    score = int(np.mean(count_ls))\n",
    "    print(f\"Ваш алгоритм угадывает число в среднем за {score} попыток\")\n",
    "\n",
    "    return score\n",
    "\n",
    "\n",
    "# Проверяем\n",
    "score_game(game_core_v3)"
   ]
  },
  {
   "cell_type": "code",
   "execution_count": null,
   "outputs": [],
   "source": [],
   "metadata": {
    "collapsed": false,
    "pycharm": {
     "name": "#%%\n"
    }
   }
  }
 ],
 "metadata": {
  "kernelspec": {
   "display_name": "Python 3",
   "language": "python",
   "name": "python3"
  },
  "language_info": {
   "codemirror_mode": {
    "name": "ipython",
    "version": 2
   },
   "file_extension": ".py",
   "mimetype": "text/x-python",
   "name": "python",
   "nbconvert_exporter": "python",
   "pygments_lexer": "ipython2",
   "version": "2.7.6"
  }
 },
 "nbformat": 4,
 "nbformat_minor": 0
}