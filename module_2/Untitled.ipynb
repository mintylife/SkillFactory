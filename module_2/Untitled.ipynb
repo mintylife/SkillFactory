{
 "cells": [
  {
   "cell_type": "code",
   "execution_count": 832,
   "metadata": {},
   "outputs": [],
   "source": [
    "import pandas as pd\n",
    "import matplotlib.pyplot as plt\n",
    "import seaborn as sns\n",
    "from itertools import combinations\n",
    "from scipy.stats import ttest_ind\n",
    "\n",
    "pd.set_option('display.max_rows', 50) # показывать больше строк\n",
    "pd.set_option('display.max_columns', 50) # показывать больше колонок\n",
    "\n",
    "cacao = pd.read_csv('cacao_flavors.xls')"
   ]
  },
  {
   "cell_type": "code",
   "execution_count": 833,
   "metadata": {},
   "outputs": [
    {
     "data": {
      "text/html": [
       "<div>\n",
       "<style scoped>\n",
       "    .dataframe tbody tr th:only-of-type {\n",
       "        vertical-align: middle;\n",
       "    }\n",
       "\n",
       "    .dataframe tbody tr th {\n",
       "        vertical-align: top;\n",
       "    }\n",
       "\n",
       "    .dataframe thead th {\n",
       "        text-align: right;\n",
       "    }\n",
       "</style>\n",
       "<table border=\"1\" class=\"dataframe\">\n",
       "  <thead>\n",
       "    <tr style=\"text-align: right;\">\n",
       "      <th></th>\n",
       "      <th>Bar id</th>\n",
       "      <th>Company \\n(Maker-if known)</th>\n",
       "      <th>Specific Bean Origin\\nor Bar Name</th>\n",
       "      <th>REF</th>\n",
       "      <th>Review\\nDate</th>\n",
       "      <th>Cocoa\\nPercent</th>\n",
       "      <th>Company\\nLocation</th>\n",
       "      <th>Rating</th>\n",
       "      <th>Bean\\nType</th>\n",
       "      <th>Broad Bean\\nOrigin</th>\n",
       "    </tr>\n",
       "  </thead>\n",
       "  <tbody>\n",
       "    <tr>\n",
       "      <th>0</th>\n",
       "      <td>1</td>\n",
       "      <td>A. Morin</td>\n",
       "      <td>Agua Grande</td>\n",
       "      <td>1876</td>\n",
       "      <td>2016</td>\n",
       "      <td>63%</td>\n",
       "      <td>France</td>\n",
       "      <td>11.50</td>\n",
       "      <td></td>\n",
       "      <td>Sao Tome</td>\n",
       "    </tr>\n",
       "    <tr>\n",
       "      <th>1</th>\n",
       "      <td>2</td>\n",
       "      <td>A. Morin</td>\n",
       "      <td>Kpime</td>\n",
       "      <td>1676</td>\n",
       "      <td>2015</td>\n",
       "      <td>70%</td>\n",
       "      <td>France</td>\n",
       "      <td>2.75</td>\n",
       "      <td></td>\n",
       "      <td>Togo</td>\n",
       "    </tr>\n",
       "    <tr>\n",
       "      <th>2</th>\n",
       "      <td>3</td>\n",
       "      <td>A. Morin</td>\n",
       "      <td>Atsane</td>\n",
       "      <td>1676</td>\n",
       "      <td>2015</td>\n",
       "      <td>670%</td>\n",
       "      <td>France</td>\n",
       "      <td>3.00</td>\n",
       "      <td></td>\n",
       "      <td>Togo</td>\n",
       "    </tr>\n",
       "    <tr>\n",
       "      <th>3</th>\n",
       "      <td>4</td>\n",
       "      <td>A. Morin</td>\n",
       "      <td>Akata</td>\n",
       "      <td>1680</td>\n",
       "      <td>2015</td>\n",
       "      <td>70%</td>\n",
       "      <td>France</td>\n",
       "      <td>3.50</td>\n",
       "      <td></td>\n",
       "      <td>Togo</td>\n",
       "    </tr>\n",
       "    <tr>\n",
       "      <th>4</th>\n",
       "      <td>5</td>\n",
       "      <td>A. Morin</td>\n",
       "      <td>Quilla</td>\n",
       "      <td>1704</td>\n",
       "      <td>2015</td>\n",
       "      <td>70%</td>\n",
       "      <td>France</td>\n",
       "      <td>3.50</td>\n",
       "      <td></td>\n",
       "      <td>Peru</td>\n",
       "    </tr>\n",
       "    <tr>\n",
       "      <th>...</th>\n",
       "      <td>...</td>\n",
       "      <td>...</td>\n",
       "      <td>...</td>\n",
       "      <td>...</td>\n",
       "      <td>...</td>\n",
       "      <td>...</td>\n",
       "      <td>...</td>\n",
       "      <td>...</td>\n",
       "      <td>...</td>\n",
       "      <td>...</td>\n",
       "    </tr>\n",
       "    <tr>\n",
       "      <th>1790</th>\n",
       "      <td>1791</td>\n",
       "      <td>Zotter</td>\n",
       "      <td>Peru</td>\n",
       "      <td>647</td>\n",
       "      <td>2011</td>\n",
       "      <td>70%</td>\n",
       "      <td>Austria</td>\n",
       "      <td>3.75</td>\n",
       "      <td></td>\n",
       "      <td>Peru</td>\n",
       "    </tr>\n",
       "    <tr>\n",
       "      <th>1791</th>\n",
       "      <td>1792</td>\n",
       "      <td>Zotter</td>\n",
       "      <td>Congo</td>\n",
       "      <td>749</td>\n",
       "      <td>2011</td>\n",
       "      <td>65%</td>\n",
       "      <td>Austria</td>\n",
       "      <td>3.00</td>\n",
       "      <td>Forastero</td>\n",
       "      <td>Congo</td>\n",
       "    </tr>\n",
       "    <tr>\n",
       "      <th>1792</th>\n",
       "      <td>1793</td>\n",
       "      <td>Zotter</td>\n",
       "      <td>Kerala State</td>\n",
       "      <td>749</td>\n",
       "      <td>2011</td>\n",
       "      <td>65%</td>\n",
       "      <td>Austria</td>\n",
       "      <td>3.50</td>\n",
       "      <td>Forastero</td>\n",
       "      <td>India</td>\n",
       "    </tr>\n",
       "    <tr>\n",
       "      <th>1793</th>\n",
       "      <td>1794</td>\n",
       "      <td>Zotter</td>\n",
       "      <td>Kerala State</td>\n",
       "      <td>781</td>\n",
       "      <td>2011</td>\n",
       "      <td>62%</td>\n",
       "      <td>Austria</td>\n",
       "      <td>3.25</td>\n",
       "      <td></td>\n",
       "      <td>India</td>\n",
       "    </tr>\n",
       "    <tr>\n",
       "      <th>1794</th>\n",
       "      <td>1795</td>\n",
       "      <td>Zotter</td>\n",
       "      <td>Brazil, Mitzi Blue</td>\n",
       "      <td>486</td>\n",
       "      <td>2010</td>\n",
       "      <td>65%</td>\n",
       "      <td>Austria</td>\n",
       "      <td>3.00</td>\n",
       "      <td></td>\n",
       "      <td>Brazil</td>\n",
       "    </tr>\n",
       "  </tbody>\n",
       "</table>\n",
       "<p>1795 rows × 10 columns</p>\n",
       "</div>"
      ],
      "text/plain": [
       "      Bar id Company \\n(Maker-if known) Specific Bean Origin\\nor Bar Name  \\\n",
       "0          1                   A. Morin                       Agua Grande   \n",
       "1          2                   A. Morin                             Kpime   \n",
       "2          3                   A. Morin                            Atsane   \n",
       "3          4                   A. Morin                             Akata   \n",
       "4          5                   A. Morin                            Quilla   \n",
       "...      ...                        ...                               ...   \n",
       "1790    1791                     Zotter                              Peru   \n",
       "1791    1792                     Zotter                             Congo   \n",
       "1792    1793                     Zotter                      Kerala State   \n",
       "1793    1794                     Zotter                      Kerala State   \n",
       "1794    1795                     Zotter                Brazil, Mitzi Blue   \n",
       "\n",
       "       REF  Review\\nDate Cocoa\\nPercent Company\\nLocation  Rating Bean\\nType  \\\n",
       "0     1876          2016            63%            France   11.50              \n",
       "1     1676          2015            70%            France    2.75              \n",
       "2     1676          2015           670%            France    3.00              \n",
       "3     1680          2015            70%            France    3.50              \n",
       "4     1704          2015            70%            France    3.50              \n",
       "...    ...           ...            ...               ...     ...        ...   \n",
       "1790   647          2011            70%           Austria    3.75              \n",
       "1791   749          2011            65%           Austria    3.00  Forastero   \n",
       "1792   749          2011            65%           Austria    3.50  Forastero   \n",
       "1793   781          2011            62%           Austria    3.25              \n",
       "1794   486          2010            65%           Austria    3.00              \n",
       "\n",
       "     Broad Bean\\nOrigin  \n",
       "0              Sao Tome  \n",
       "1                  Togo  \n",
       "2                  Togo  \n",
       "3                  Togo  \n",
       "4                  Peru  \n",
       "...                 ...  \n",
       "1790               Peru  \n",
       "1791              Congo  \n",
       "1792              India  \n",
       "1793              India  \n",
       "1794             Brazil  \n",
       "\n",
       "[1795 rows x 10 columns]"
      ]
     },
     "execution_count": 833,
     "metadata": {},
     "output_type": "execute_result"
    }
   ],
   "source": [
    "cacao"
   ]
  },
  {
   "cell_type": "code",
   "execution_count": 834,
   "metadata": {},
   "outputs": [
    {
     "data": {
      "text/plain": [
       "(1795, 4)"
      ]
     },
     "execution_count": 834,
     "metadata": {},
     "output_type": "execute_result"
    }
   ],
   "source": [
    "#select numeric columns only \n",
    "cacao.select_dtypes('number').shape"
   ]
  },
  {
   "cell_type": "code",
   "execution_count": 835,
   "metadata": {},
   "outputs": [
    {
     "name": "stdout",
     "output_type": "stream",
     "text": [
      "(1795, 6)\n"
     ]
    },
    {
     "data": {
      "text/html": [
       "<div>\n",
       "<style scoped>\n",
       "    .dataframe tbody tr th:only-of-type {\n",
       "        vertical-align: middle;\n",
       "    }\n",
       "\n",
       "    .dataframe tbody tr th {\n",
       "        vertical-align: top;\n",
       "    }\n",
       "\n",
       "    .dataframe thead th {\n",
       "        text-align: right;\n",
       "    }\n",
       "</style>\n",
       "<table border=\"1\" class=\"dataframe\">\n",
       "  <thead>\n",
       "    <tr style=\"text-align: right;\">\n",
       "      <th></th>\n",
       "      <th>Company \\n(Maker-if known)</th>\n",
       "      <th>Specific Bean Origin\\nor Bar Name</th>\n",
       "      <th>Cocoa\\nPercent</th>\n",
       "      <th>Company\\nLocation</th>\n",
       "      <th>Bean\\nType</th>\n",
       "      <th>Broad Bean\\nOrigin</th>\n",
       "    </tr>\n",
       "  </thead>\n",
       "  <tbody>\n",
       "    <tr>\n",
       "      <th>0</th>\n",
       "      <td>A. Morin</td>\n",
       "      <td>Agua Grande</td>\n",
       "      <td>63%</td>\n",
       "      <td>France</td>\n",
       "      <td></td>\n",
       "      <td>Sao Tome</td>\n",
       "    </tr>\n",
       "    <tr>\n",
       "      <th>1</th>\n",
       "      <td>A. Morin</td>\n",
       "      <td>Kpime</td>\n",
       "      <td>70%</td>\n",
       "      <td>France</td>\n",
       "      <td></td>\n",
       "      <td>Togo</td>\n",
       "    </tr>\n",
       "    <tr>\n",
       "      <th>2</th>\n",
       "      <td>A. Morin</td>\n",
       "      <td>Atsane</td>\n",
       "      <td>670%</td>\n",
       "      <td>France</td>\n",
       "      <td></td>\n",
       "      <td>Togo</td>\n",
       "    </tr>\n",
       "    <tr>\n",
       "      <th>3</th>\n",
       "      <td>A. Morin</td>\n",
       "      <td>Akata</td>\n",
       "      <td>70%</td>\n",
       "      <td>France</td>\n",
       "      <td></td>\n",
       "      <td>Togo</td>\n",
       "    </tr>\n",
       "    <tr>\n",
       "      <th>4</th>\n",
       "      <td>A. Morin</td>\n",
       "      <td>Quilla</td>\n",
       "      <td>70%</td>\n",
       "      <td>France</td>\n",
       "      <td></td>\n",
       "      <td>Peru</td>\n",
       "    </tr>\n",
       "    <tr>\n",
       "      <th>...</th>\n",
       "      <td>...</td>\n",
       "      <td>...</td>\n",
       "      <td>...</td>\n",
       "      <td>...</td>\n",
       "      <td>...</td>\n",
       "      <td>...</td>\n",
       "    </tr>\n",
       "    <tr>\n",
       "      <th>1790</th>\n",
       "      <td>Zotter</td>\n",
       "      <td>Peru</td>\n",
       "      <td>70%</td>\n",
       "      <td>Austria</td>\n",
       "      <td></td>\n",
       "      <td>Peru</td>\n",
       "    </tr>\n",
       "    <tr>\n",
       "      <th>1791</th>\n",
       "      <td>Zotter</td>\n",
       "      <td>Congo</td>\n",
       "      <td>65%</td>\n",
       "      <td>Austria</td>\n",
       "      <td>Forastero</td>\n",
       "      <td>Congo</td>\n",
       "    </tr>\n",
       "    <tr>\n",
       "      <th>1792</th>\n",
       "      <td>Zotter</td>\n",
       "      <td>Kerala State</td>\n",
       "      <td>65%</td>\n",
       "      <td>Austria</td>\n",
       "      <td>Forastero</td>\n",
       "      <td>India</td>\n",
       "    </tr>\n",
       "    <tr>\n",
       "      <th>1793</th>\n",
       "      <td>Zotter</td>\n",
       "      <td>Kerala State</td>\n",
       "      <td>62%</td>\n",
       "      <td>Austria</td>\n",
       "      <td></td>\n",
       "      <td>India</td>\n",
       "    </tr>\n",
       "    <tr>\n",
       "      <th>1794</th>\n",
       "      <td>Zotter</td>\n",
       "      <td>Brazil, Mitzi Blue</td>\n",
       "      <td>65%</td>\n",
       "      <td>Austria</td>\n",
       "      <td></td>\n",
       "      <td>Brazil</td>\n",
       "    </tr>\n",
       "  </tbody>\n",
       "</table>\n",
       "<p>1795 rows × 6 columns</p>\n",
       "</div>"
      ],
      "text/plain": [
       "     Company \\n(Maker-if known) Specific Bean Origin\\nor Bar Name  \\\n",
       "0                      A. Morin                       Agua Grande   \n",
       "1                      A. Morin                             Kpime   \n",
       "2                      A. Morin                            Atsane   \n",
       "3                      A. Morin                             Akata   \n",
       "4                      A. Morin                            Quilla   \n",
       "...                         ...                               ...   \n",
       "1790                     Zotter                              Peru   \n",
       "1791                     Zotter                             Congo   \n",
       "1792                     Zotter                      Kerala State   \n",
       "1793                     Zotter                      Kerala State   \n",
       "1794                     Zotter                Brazil, Mitzi Blue   \n",
       "\n",
       "     Cocoa\\nPercent Company\\nLocation Bean\\nType Broad Bean\\nOrigin  \n",
       "0               63%            France                      Sao Tome  \n",
       "1               70%            France                          Togo  \n",
       "2              670%            France                          Togo  \n",
       "3               70%            France                          Togo  \n",
       "4               70%            France                          Peru  \n",
       "...             ...               ...        ...                ...  \n",
       "1790            70%           Austria                          Peru  \n",
       "1791            65%           Austria  Forastero              Congo  \n",
       "1792            65%           Austria  Forastero              India  \n",
       "1793            62%           Austria                         India  \n",
       "1794            65%           Austria                        Brazil  \n",
       "\n",
       "[1795 rows x 6 columns]"
      ]
     },
     "execution_count": 835,
     "metadata": {},
     "output_type": "execute_result"
    }
   ],
   "source": [
    "#select string columns only \n",
    "print(cacao.select_dtypes('object').shape)\n",
    "cacao.select_dtypes('object')"
   ]
  },
  {
   "cell_type": "code",
   "execution_count": 836,
   "metadata": {},
   "outputs": [],
   "source": [
    "cacao.columns = ['bar_id','company','specific_origin','ref','review_date','cocoa_percent','company_location','rating','bean_type','broad_origin']"
   ]
  },
  {
   "cell_type": "code",
   "execution_count": 837,
   "metadata": {},
   "outputs": [
    {
     "data": {
      "text/plain": [
       "Index(['bar_id', 'company', 'specific_origin', 'ref', 'review_date',\n",
       "       'cocoa_percent', 'company_location', 'rating', 'bean_type',\n",
       "       'broad_origin'],\n",
       "      dtype='object')"
      ]
     },
     "execution_count": 837,
     "metadata": {},
     "output_type": "execute_result"
    }
   ],
   "source": [
    "cacao.columns"
   ]
  },
  {
   "cell_type": "code",
   "execution_count": 838,
   "metadata": {},
   "outputs": [
    {
     "data": {
      "text/plain": [
       "1795"
      ]
     },
     "execution_count": 838,
     "metadata": {},
     "output_type": "execute_result"
    }
   ],
   "source": [
    "cacao.bar_id.nunique()"
   ]
  },
  {
   "cell_type": "code",
   "execution_count": 839,
   "metadata": {},
   "outputs": [
    {
     "data": {
      "text/plain": [
       "[<matplotlib.lines.Line2D at 0x11c345400>]"
      ]
     },
     "execution_count": 839,
     "metadata": {},
     "output_type": "execute_result"
    },
    {
     "data": {
      "image/png": "[encoded data removed]",
      "text/plain": [
       "<Figure size 432x288 with 1 Axes>"
      ]
     },
     "metadata": {
      "needs_background": "light"
     },
     "output_type": "display_data"
    }
   ],
   "source": [
    "#это столбец индексов батончиков, количество уникальных значений соответствует количеству строк. Вряд ли он пригодится для дальнейшего анализа, удалим его.\n",
    "plt.plot(cacao.bar_id)"
   ]
  },
  {
   "cell_type": "code",
   "execution_count": 840,
   "metadata": {},
   "outputs": [],
   "source": [
    "cacao.drop(['bar_id'], inplace = True, axis=1)"
   ]
  },
  {
   "cell_type": "code",
   "execution_count": 841,
   "metadata": {},
   "outputs": [
    {
     "data": {
      "text/html": [
       "<div>\n",
       "<style scoped>\n",
       "    .dataframe tbody tr th:only-of-type {\n",
       "        vertical-align: middle;\n",
       "    }\n",
       "\n",
       "    .dataframe tbody tr th {\n",
       "        vertical-align: top;\n",
       "    }\n",
       "\n",
       "    .dataframe thead th {\n",
       "        text-align: right;\n",
       "    }\n",
       "</style>\n",
       "<table border=\"1\" class=\"dataframe\">\n",
       "  <thead>\n",
       "    <tr style=\"text-align: right;\">\n",
       "      <th></th>\n",
       "      <th>company</th>\n",
       "      <th>specific_origin</th>\n",
       "      <th>ref</th>\n",
       "      <th>review_date</th>\n",
       "      <th>cocoa_percent</th>\n",
       "      <th>company_location</th>\n",
       "      <th>rating</th>\n",
       "      <th>bean_type</th>\n",
       "      <th>broad_origin</th>\n",
       "    </tr>\n",
       "  </thead>\n",
       "  <tbody>\n",
       "    <tr>\n",
       "      <th>0</th>\n",
       "      <td>A. Morin</td>\n",
       "      <td>Agua Grande</td>\n",
       "      <td>1876</td>\n",
       "      <td>2016</td>\n",
       "      <td>63%</td>\n",
       "      <td>France</td>\n",
       "      <td>11.50</td>\n",
       "      <td></td>\n",
       "      <td>Sao Tome</td>\n",
       "    </tr>\n",
       "    <tr>\n",
       "      <th>1</th>\n",
       "      <td>A. Morin</td>\n",
       "      <td>Kpime</td>\n",
       "      <td>1676</td>\n",
       "      <td>2015</td>\n",
       "      <td>70%</td>\n",
       "      <td>France</td>\n",
       "      <td>2.75</td>\n",
       "      <td></td>\n",
       "      <td>Togo</td>\n",
       "    </tr>\n",
       "    <tr>\n",
       "      <th>2</th>\n",
       "      <td>A. Morin</td>\n",
       "      <td>Atsane</td>\n",
       "      <td>1676</td>\n",
       "      <td>2015</td>\n",
       "      <td>670%</td>\n",
       "      <td>France</td>\n",
       "      <td>3.00</td>\n",
       "      <td></td>\n",
       "      <td>Togo</td>\n",
       "    </tr>\n",
       "    <tr>\n",
       "      <th>3</th>\n",
       "      <td>A. Morin</td>\n",
       "      <td>Akata</td>\n",
       "      <td>1680</td>\n",
       "      <td>2015</td>\n",
       "      <td>70%</td>\n",
       "      <td>France</td>\n",
       "      <td>3.50</td>\n",
       "      <td></td>\n",
       "      <td>Togo</td>\n",
       "    </tr>\n",
       "    <tr>\n",
       "      <th>4</th>\n",
       "      <td>A. Morin</td>\n",
       "      <td>Quilla</td>\n",
       "      <td>1704</td>\n",
       "      <td>2015</td>\n",
       "      <td>70%</td>\n",
       "      <td>France</td>\n",
       "      <td>3.50</td>\n",
       "      <td></td>\n",
       "      <td>Peru</td>\n",
       "    </tr>\n",
       "    <tr>\n",
       "      <th>...</th>\n",
       "      <td>...</td>\n",
       "      <td>...</td>\n",
       "      <td>...</td>\n",
       "      <td>...</td>\n",
       "      <td>...</td>\n",
       "      <td>...</td>\n",
       "      <td>...</td>\n",
       "      <td>...</td>\n",
       "      <td>...</td>\n",
       "    </tr>\n",
       "    <tr>\n",
       "      <th>1790</th>\n",
       "      <td>Zotter</td>\n",
       "      <td>Peru</td>\n",
       "      <td>647</td>\n",
       "      <td>2011</td>\n",
       "      <td>70%</td>\n",
       "      <td>Austria</td>\n",
       "      <td>3.75</td>\n",
       "      <td></td>\n",
       "      <td>Peru</td>\n",
       "    </tr>\n",
       "    <tr>\n",
       "      <th>1791</th>\n",
       "      <td>Zotter</td>\n",
       "      <td>Congo</td>\n",
       "      <td>749</td>\n",
       "      <td>2011</td>\n",
       "      <td>65%</td>\n",
       "      <td>Austria</td>\n",
       "      <td>3.00</td>\n",
       "      <td>Forastero</td>\n",
       "      <td>Congo</td>\n",
       "    </tr>\n",
       "    <tr>\n",
       "      <th>1792</th>\n",
       "      <td>Zotter</td>\n",
       "      <td>Kerala State</td>\n",
       "      <td>749</td>\n",
       "      <td>2011</td>\n",
       "      <td>65%</td>\n",
       "      <td>Austria</td>\n",
       "      <td>3.50</td>\n",
       "      <td>Forastero</td>\n",
       "      <td>India</td>\n",
       "    </tr>\n",
       "    <tr>\n",
       "      <th>1793</th>\n",
       "      <td>Zotter</td>\n",
       "      <td>Kerala State</td>\n",
       "      <td>781</td>\n",
       "      <td>2011</td>\n",
       "      <td>62%</td>\n",
       "      <td>Austria</td>\n",
       "      <td>3.25</td>\n",
       "      <td></td>\n",
       "      <td>India</td>\n",
       "    </tr>\n",
       "    <tr>\n",
       "      <th>1794</th>\n",
       "      <td>Zotter</td>\n",
       "      <td>Brazil, Mitzi Blue</td>\n",
       "      <td>486</td>\n",
       "      <td>2010</td>\n",
       "      <td>65%</td>\n",
       "      <td>Austria</td>\n",
       "      <td>3.00</td>\n",
       "      <td></td>\n",
       "      <td>Brazil</td>\n",
       "    </tr>\n",
       "  </tbody>\n",
       "</table>\n",
       "<p>1795 rows × 9 columns</p>\n",
       "</div>"
      ],
      "text/plain": [
       "       company     specific_origin   ref  review_date cocoa_percent  \\\n",
       "0     A. Morin         Agua Grande  1876         2016           63%   \n",
       "1     A. Morin               Kpime  1676         2015           70%   \n",
       "2     A. Morin              Atsane  1676         2015          670%   \n",
       "3     A. Morin               Akata  1680         2015           70%   \n",
       "4     A. Morin              Quilla  1704         2015           70%   \n",
       "...        ...                 ...   ...          ...           ...   \n",
       "1790    Zotter                Peru   647         2011           70%   \n",
       "1791    Zotter               Congo   749         2011           65%   \n",
       "1792    Zotter        Kerala State   749         2011           65%   \n",
       "1793    Zotter        Kerala State   781         2011           62%   \n",
       "1794    Zotter  Brazil, Mitzi Blue   486         2010           65%   \n",
       "\n",
       "     company_location  rating  bean_type broad_origin  \n",
       "0              France   11.50                Sao Tome  \n",
       "1              France    2.75                    Togo  \n",
       "2              France    3.00                    Togo  \n",
       "3              France    3.50                    Togo  \n",
       "4              France    3.50                    Peru  \n",
       "...               ...     ...        ...          ...  \n",
       "1790          Austria    3.75                    Peru  \n",
       "1791          Austria    3.00  Forastero        Congo  \n",
       "1792          Austria    3.50  Forastero        India  \n",
       "1793          Austria    3.25                   India  \n",
       "1794          Austria    3.00                  Brazil  \n",
       "\n",
       "[1795 rows x 9 columns]"
      ]
     },
     "execution_count": 841,
     "metadata": {},
     "output_type": "execute_result"
    }
   ],
   "source": [
    "cacao"
   ]
  },
  {
   "cell_type": "code",
   "execution_count": 842,
   "metadata": {},
   "outputs": [
    {
     "data": {
      "text/plain": [
       "408"
      ]
     },
     "execution_count": 842,
     "metadata": {},
     "output_type": "execute_result"
    }
   ],
   "source": [
    "cacao.company.nunique()"
   ]
  },
  {
   "cell_type": "code",
   "execution_count": 843,
   "metadata": {},
   "outputs": [
    {
     "data": {
      "text/html": [
       "<div>\n",
       "<style scoped>\n",
       "    .dataframe tbody tr th:only-of-type {\n",
       "        vertical-align: middle;\n",
       "    }\n",
       "\n",
       "    .dataframe tbody tr th {\n",
       "        vertical-align: top;\n",
       "    }\n",
       "\n",
       "    .dataframe thead th {\n",
       "        text-align: right;\n",
       "    }\n",
       "</style>\n",
       "<table border=\"1\" class=\"dataframe\">\n",
       "  <thead>\n",
       "    <tr style=\"text-align: right;\">\n",
       "      <th></th>\n",
       "      <th>company</th>\n",
       "    </tr>\n",
       "  </thead>\n",
       "  <tbody>\n",
       "    <tr>\n",
       "      <th></th>\n",
       "      <td>99</td>\n",
       "    </tr>\n",
       "    <tr>\n",
       "      <th>Soma</th>\n",
       "      <td>45</td>\n",
       "    </tr>\n",
       "    <tr>\n",
       "      <th>Fresco</th>\n",
       "      <td>26</td>\n",
       "    </tr>\n",
       "    <tr>\n",
       "      <th>Bonnat</th>\n",
       "      <td>26</td>\n",
       "    </tr>\n",
       "    <tr>\n",
       "      <th>Pralus</th>\n",
       "      <td>25</td>\n",
       "    </tr>\n",
       "    <tr>\n",
       "      <th>...</th>\n",
       "      <td>...</td>\n",
       "    </tr>\n",
       "    <tr>\n",
       "      <th>ENNA</th>\n",
       "      <td>1</td>\n",
       "    </tr>\n",
       "    <tr>\n",
       "      <th>Chocolate Conspiracy</th>\n",
       "      <td>1</td>\n",
       "    </tr>\n",
       "    <tr>\n",
       "      <th>Oialla by Bojessen (Malmo)</th>\n",
       "      <td>1</td>\n",
       "    </tr>\n",
       "    <tr>\n",
       "      <th>Two Ravens</th>\n",
       "      <td>1</td>\n",
       "    </tr>\n",
       "    <tr>\n",
       "      <th>Tsara (Cinagra)</th>\n",
       "      <td>1</td>\n",
       "    </tr>\n",
       "  </tbody>\n",
       "</table>\n",
       "<p>408 rows × 1 columns</p>\n",
       "</div>"
      ],
      "text/plain": [
       "                            company\n",
       "                                 99\n",
       "Soma                             45\n",
       "Fresco                           26\n",
       "Bonnat                           26\n",
       "Pralus                           25\n",
       "...                             ...\n",
       "ENNA                              1\n",
       "Chocolate Conspiracy              1\n",
       "Oialla by Bojessen (Malmo)        1\n",
       "Two Ravens                        1\n",
       "Tsara (Cinagra)                   1\n",
       "\n",
       "[408 rows x 1 columns]"
      ]
     },
     "execution_count": 843,
     "metadata": {},
     "output_type": "execute_result"
    }
   ],
   "source": [
    "#407 unique companies \n",
    "pd.DataFrame(cacao.company.value_counts())\n"
   ]
  },
  {
   "cell_type": "code",
   "execution_count": 844,
   "metadata": {},
   "outputs": [],
   "source": [
    "#remove blank rows\n",
    "cacao.company = cacao.company.apply(lambda x: None if x.strip() == '' else x)"
   ]
  },
  {
   "cell_type": "code",
   "execution_count": 845,
   "metadata": {},
   "outputs": [
    {
     "data": {
      "text/plain": [
       "Soma                                45\n",
       "Bonnat                              26\n",
       "Fresco                              26\n",
       "Pralus                              25\n",
       "Domori                              22\n",
       "                                    ..\n",
       "ENNA                                 1\n",
       "Artisan du Chocolat (Casa Luker)     1\n",
       "Chocolate Conspiracy                 1\n",
       "Two Ravens                           1\n",
       "Anahata                              1\n",
       "Name: company, Length: 407, dtype: int64"
      ]
     },
     "execution_count": 845,
     "metadata": {},
     "output_type": "execute_result"
    }
   ],
   "source": [
    "cacao.company.value_counts()"
   ]
  },
  {
   "cell_type": "code",
   "execution_count": 846,
   "metadata": {},
   "outputs": [
    {
     "data": {
      "text/html": [
       "<div>\n",
       "<style scoped>\n",
       "    .dataframe tbody tr th:only-of-type {\n",
       "        vertical-align: middle;\n",
       "    }\n",
       "\n",
       "    .dataframe tbody tr th {\n",
       "        vertical-align: top;\n",
       "    }\n",
       "\n",
       "    .dataframe thead th {\n",
       "        text-align: right;\n",
       "    }\n",
       "</style>\n",
       "<table border=\"1\" class=\"dataframe\">\n",
       "  <thead>\n",
       "    <tr style=\"text-align: right;\">\n",
       "      <th></th>\n",
       "      <th>company</th>\n",
       "    </tr>\n",
       "  </thead>\n",
       "  <tbody>\n",
       "    <tr>\n",
       "      <th>Soma</th>\n",
       "      <td>45</td>\n",
       "    </tr>\n",
       "    <tr>\n",
       "      <th>Bonnat</th>\n",
       "      <td>26</td>\n",
       "    </tr>\n",
       "    <tr>\n",
       "      <th>Fresco</th>\n",
       "      <td>26</td>\n",
       "    </tr>\n",
       "    <tr>\n",
       "      <th>Pralus</th>\n",
       "      <td>25</td>\n",
       "    </tr>\n",
       "    <tr>\n",
       "      <th>Domori</th>\n",
       "      <td>22</td>\n",
       "    </tr>\n",
       "    <tr>\n",
       "      <th>...</th>\n",
       "      <td>...</td>\n",
       "    </tr>\n",
       "    <tr>\n",
       "      <th>ENNA</th>\n",
       "      <td>1</td>\n",
       "    </tr>\n",
       "    <tr>\n",
       "      <th>Artisan du Chocolat (Casa Luker)</th>\n",
       "      <td>1</td>\n",
       "    </tr>\n",
       "    <tr>\n",
       "      <th>Chocolate Conspiracy</th>\n",
       "      <td>1</td>\n",
       "    </tr>\n",
       "    <tr>\n",
       "      <th>Two Ravens</th>\n",
       "      <td>1</td>\n",
       "    </tr>\n",
       "    <tr>\n",
       "      <th>Anahata</th>\n",
       "      <td>1</td>\n",
       "    </tr>\n",
       "  </tbody>\n",
       "</table>\n",
       "<p>407 rows × 1 columns</p>\n",
       "</div>"
      ],
      "text/plain": [
       "                                  company\n",
       "Soma                                   45\n",
       "Bonnat                                 26\n",
       "Fresco                                 26\n",
       "Pralus                                 25\n",
       "Domori                                 22\n",
       "...                                   ...\n",
       "ENNA                                    1\n",
       "Artisan du Chocolat (Casa Luker)        1\n",
       "Chocolate Conspiracy                    1\n",
       "Two Ravens                              1\n",
       "Anahata                                 1\n",
       "\n",
       "[407 rows x 1 columns]"
      ]
     },
     "execution_count": 846,
     "metadata": {},
     "output_type": "execute_result"
    }
   ],
   "source": [
    "companies = cacao.company.value_counts()\n",
    "companies = pd.DataFrame(companies)\n",
    "companies"
   ]
  },
  {
   "cell_type": "code",
   "execution_count": 847,
   "metadata": {},
   "outputs": [
    {
     "data": {
      "text/plain": [
       "30"
      ]
     },
     "execution_count": 847,
     "metadata": {},
     "output_type": "execute_result"
    }
   ],
   "source": [
    "#компаний, у которых в рейтинге больше 10 батончиков, всего 30\n",
    "companies[companies>10].dropna().size"
   ]
  },
  {
   "cell_type": "code",
   "execution_count": 848,
   "metadata": {},
   "outputs": [
    {
     "data": {
      "text/plain": [
       "30"
      ]
     },
     "execution_count": 848,
     "metadata": {},
     "output_type": "execute_result"
    }
   ],
   "source": [
    "(cacao.company.value_counts()>10).sum()"
   ]
  },
  {
   "cell_type": "code",
   "execution_count": 849,
   "metadata": {},
   "outputs": [
    {
     "data": {
      "text/plain": [
       "                                 58\n",
       "Madagascar                       55\n",
       "Peru                             44\n",
       "Ecuador                          39\n",
       "Dominican Republic               33\n",
       "                                 ..\n",
       "Nativo, Varzea                    1\n",
       "Cooproagro                        1\n",
       "Autumn, Primary Harvest, 2012     1\n",
       "Porcelana, Pariguan               1\n",
       "Dominican Republic, lot D82R      1\n",
       "Name: specific_origin, Length: 1013, dtype: int64"
      ]
     },
     "execution_count": 849,
     "metadata": {},
     "output_type": "execute_result"
    }
   ],
   "source": [
    "#1012 unique origins, bcs minus empty string\n",
    "cacao.specific_origin.value_counts()"
   ]
  },
  {
   "cell_type": "code",
   "execution_count": 850,
   "metadata": {},
   "outputs": [
    {
     "data": {
      "text/plain": [
       "                       True\n",
       "Madagascar             True\n",
       "Peru                   True\n",
       "Ecuador                True\n",
       "Dominican Republic     True\n",
       "Venezuela              True\n",
       "Chuao                  True\n",
       "Sambirano              True\n",
       "Ocumare                True\n",
       "Papua New Guinea       True\n",
       "Ghana                  True\n",
       "Belize                 True\n",
       "Bolivia                True\n",
       "Tanzania               True\n",
       "Brazil                 True\n",
       "La Red                 True\n",
       "Trinidad              False\n",
       "Porcelana             False\n",
       "Costa Rica            False\n",
       "Maya Mountain         False\n",
       "Name: specific_origin, dtype: bool"
      ]
     },
     "execution_count": 850,
     "metadata": {},
     "output_type": "execute_result"
    }
   ],
   "source": [
    "#Сколько значений, встретившихся в столбце более 10 раз? 15 значений minus empty string\n",
    "(cacao.specific_origin.value_counts()>10).head(20)"
   ]
  },
  {
   "cell_type": "code",
   "execution_count": 851,
   "metadata": {},
   "outputs": [
    {
     "data": {
      "text/plain": [
       "<AxesSubplot:>"
      ]
     },
     "execution_count": 851,
     "metadata": {},
     "output_type": "execute_result"
    },
    {
     "data": {
      "image/png": "[encoded data removed]",
      "text/plain": [
       "<Figure size 432x288 with 1 Axes>"
      ]
     },
     "metadata": {
      "needs_background": "light"
     },
     "output_type": "display_data"
    }
   ],
   "source": [
    "# bcs ref column is numeric and doesn't have missing values let's look more into it\n",
    "#REF — числовое значение, показывающее, как давно ревью было добавлено в базу. Чем выше значение, тем более свежее ревью.\n",
    "cacao.ref.hist()"
   ]
  },
  {
   "cell_type": "code",
   "execution_count": 852,
   "metadata": {},
   "outputs": [
    {
     "data": {
      "text/plain": [
       "count    1795.000000\n",
       "mean     1035.904735\n",
       "std       552.886365\n",
       "min         5.000000\n",
       "25%       576.000000\n",
       "50%      1069.000000\n",
       "75%      1502.000000\n",
       "max      1952.000000\n",
       "Name: ref, dtype: float64"
      ]
     },
     "execution_count": 852,
     "metadata": {},
     "output_type": "execute_result"
    }
   ],
   "source": [
    "#Как видно, у этого признака распределение без аномалий, выбросов нет. Заметен тренд на возрастание количества отзывов со временем (так как REF обозначает время внесения отзыва в базу). Интересно, почему так происходит?\n",
    "cacao.ref.describe()"
   ]
  },
  {
   "cell_type": "code",
   "execution_count": 853,
   "metadata": {},
   "outputs": [
    {
     "data": {
      "text/plain": [
       "<AxesSubplot:>"
      ]
     },
     "execution_count": 853,
     "metadata": {},
     "output_type": "execute_result"
    },
    {
     "data": {
      "image/png": "[encoded data removed]",
      "text/plain": [
       "<Figure size 432x288 with 1 Axes>"
      ]
     },
     "metadata": {
      "needs_background": "light"
     },
     "output_type": "display_data"
    }
   ],
   "source": [
    "# review_date is also numeric and doesn't have any missing values\n",
    "cacao.review_date.hist()"
   ]
  },
  {
   "cell_type": "code",
   "execution_count": 854,
   "metadata": {},
   "outputs": [
    {
     "data": {
      "text/plain": [
       "count    1795.000000\n",
       "mean     2012.325348\n",
       "std         2.927210\n",
       "min      2006.000000\n",
       "25%      2010.000000\n",
       "50%      2013.000000\n",
       "75%      2015.000000\n",
       "max      2017.000000\n",
       "Name: review_date, dtype: float64"
      ]
     },
     "execution_count": 854,
     "metadata": {},
     "output_type": "execute_result"
    }
   ],
   "source": [
    "cacao.review_date.describe()"
   ]
  },
  {
   "cell_type": "code",
   "execution_count": 855,
   "metadata": {},
   "outputs": [],
   "source": [
    "#cacao.review_date не содержиот выбросы. Как мы это выяснили? "
   ]
  },
  {
   "cell_type": "code",
   "execution_count": 856,
   "metadata": {},
   "outputs": [
    {
     "data": {
      "text/plain": [
       "0        63%\n",
       "1        70%\n",
       "2       670%\n",
       "3        70%\n",
       "4        70%\n",
       "        ... \n",
       "1790     70%\n",
       "1791     65%\n",
       "1792     65%\n",
       "1793     62%\n",
       "1794     65%\n",
       "Name: cocoa_percent, Length: 1795, dtype: object"
      ]
     },
     "execution_count": 856,
     "metadata": {},
     "output_type": "execute_result"
    }
   ],
   "source": [
    "cacao.cocoa_percent"
   ]
  },
  {
   "cell_type": "code",
   "execution_count": 857,
   "metadata": {},
   "outputs": [],
   "source": [
    "cacao.cocoa_percent = cacao.cocoa_percent.apply(lambda x: float(x.replace('%','')))"
   ]
  },
  {
   "cell_type": "code",
   "execution_count": 858,
   "metadata": {},
   "outputs": [
    {
     "data": {
      "text/plain": [
       "0        63.0\n",
       "1        70.0\n",
       "2       670.0\n",
       "3        70.0\n",
       "4        70.0\n",
       "        ...  \n",
       "1790     70.0\n",
       "1791     65.0\n",
       "1792     65.0\n",
       "1793     62.0\n",
       "1794     65.0\n",
       "Name: cocoa_percent, Length: 1795, dtype: float64"
      ]
     },
     "execution_count": 858,
     "metadata": {},
     "output_type": "execute_result"
    }
   ],
   "source": [
    "cacao.cocoa_percent"
   ]
  },
  {
   "cell_type": "code",
   "execution_count": 859,
   "metadata": {},
   "outputs": [
    {
     "data": {
      "text/plain": [
       "<AxesSubplot:>"
      ]
     },
     "execution_count": 859,
     "metadata": {},
     "output_type": "execute_result"
    },
    {
     "data": {
      "image/png": "[encoded data removed]",
      "text/plain": [
       "<Figure size 432x288 with 1 Axes>"
      ]
     },
     "metadata": {
      "needs_background": "light"
     },
     "output_type": "display_data"
    }
   ],
   "source": [
    "#посмотрим распределение признака \n",
    "cacao.cocoa_percent.hist()"
   ]
  },
  {
   "cell_type": "markdown",
   "metadata": {},
   "source": [
    "Видим, что основное распределение лежит между \\(0\\) и \\(100\\) процентами и есть потенциальные выбросы свыше \\(100\\)% (об этом нам говорит здравый смысл).\n",
    "Самый простой способ отфильтровать выбросы — воспользоваться формулой интерквартильного расстояния (межквартильного размаха). Выбросом считаются такие значения, которые лежат вне рамок"
   ]
  },
  {
   "cell_type": "code",
   "execution_count": 860,
   "metadata": {},
   "outputs": [],
   "source": [
    "IQR = cacao.cocoa_percent.quantile(0.75) - cacao.cocoa_percent.quantile(0.25)\n",
    "perc25 = cacao.cocoa_percent.quantile(0.25)\n",
    "perc75 = cacao.cocoa_percent.quantile(0.75)\n",
    " "
   ]
  },
  {
   "cell_type": "code",
   "execution_count": 861,
   "metadata": {},
   "outputs": [
    {
     "name": "stdout",
     "output_type": "stream",
     "text": [
      "25-й перцентиль: 70.0, 75-й перцентиль: 75.0, IQR: 5.0,  Границы выбросов: [62.5, 82.5].\n"
     ]
    }
   ],
   "source": [
    "print(\n",
    "'25-й перцентиль: {},'.format(perc25),\n",
    "'75-й перцентиль: {},'.format(perc75),\n",
    "\"IQR: {}, \".format(IQR),\n",
    "\"Границы выбросов: [{f}, {l}].\".format(f=perc25 - 1.5*IQR, l=perc75 + 1.5*IQR))\n"
   ]
  },
  {
   "cell_type": "code",
   "execution_count": 862,
   "metadata": {},
   "outputs": [
    {
     "data": {
      "image/png": "[encoded data removed]",
      "text/plain": [
       "<Figure size 432x288 with 1 Axes>"
      ]
     },
     "metadata": {
      "needs_background": "light"
     },
     "output_type": "display_data"
    }
   ],
   "source": [
    "cacao.cocoa_percent.loc[cacao.cocoa_percent.between(\n",
    "perc25 - 1.5*IQR,\n",
    "perc75 + 1.5*IQR)].hist(bins = 16, range = (40, 100), label = 'IQR')\n",
    "\n",
    "cacao.cocoa_percent.loc[cacao.cocoa_percent <= 100].hist(\n",
    "alpha = 0.5, bins = 16, range = (40, 100), label = 'Здравый смысл')\n",
    "plt.legend();"
   ]
  },
  {
   "cell_type": "markdown",
   "metadata": {},
   "source": [
    "Однако такой способ отбора выбросов работает не всегда. Когда мы знаем потенциальные характеристики распределения, лучше отобрать их, пользуясь здравым смыслом. Как видно, формула выбросов в нашем случае помечает как выбросы слишком много потенциально реальных значений, поэтому воспользуемся здравым смыслом. Очевидно, что при сборе данных произошла ошибка. К сожалению, такое случается нередко."
   ]
  },
  {
   "cell_type": "code",
   "execution_count": 863,
   "metadata": {},
   "outputs": [
    {
     "data": {
      "text/plain": [
       "<AxesSubplot:>"
      ]
     },
     "execution_count": 863,
     "metadata": {},
     "output_type": "execute_result"
    },
    {
     "data": {
      "image/png": "[encoded data removed]",
      "text/plain": [
       "<Figure size 432x288 with 1 Axes>"
      ]
     },
     "metadata": {
      "needs_background": "light"
     },
     "output_type": "display_data"
    }
   ],
   "source": [
    "cacao = cacao.loc[cacao.cocoa_percent <= 100]\n",
    "cacao.cocoa_percent.hist()"
   ]
  },
  {
   "cell_type": "code",
   "execution_count": 864,
   "metadata": {},
   "outputs": [
    {
     "data": {
      "text/plain": [
       "0        France\n",
       "1        France\n",
       "3        France\n",
       "4        France\n",
       "5        France\n",
       "         ...   \n",
       "1790    Austria\n",
       "1791    Austria\n",
       "1792    Austria\n",
       "1793    Austria\n",
       "1794    Austria\n",
       "Name: company_location, Length: 1776, dtype: object"
      ]
     },
     "execution_count": 864,
     "metadata": {},
     "output_type": "execute_result"
    }
   ],
   "source": [
    "cacao.company_location"
   ]
  },
  {
   "cell_type": "code",
   "execution_count": 865,
   "metadata": {},
   "outputs": [
    {
     "data": {
      "text/plain": [
       "U.S.A.            756\n",
       "France            155\n",
       "Canada            124\n",
       "U.K.               94\n",
       "Italy              63\n",
       "                 ... \n",
       "Czech Republic      1\n",
       "Eucador             1\n",
       "Niacragua           1\n",
       "India               1\n",
       "Martinique          1\n",
       "Name: company_location, Length: 60, dtype: int64"
      ]
     },
     "metadata": {},
     "output_type": "display_data"
    }
   ],
   "source": [
    "display(cacao.company_location.value_counts())"
   ]
  },
  {
   "cell_type": "code",
   "execution_count": 866,
   "metadata": {},
   "outputs": [
    {
     "data": {
      "text/plain": [
       "False    1776\n",
       "Name: company_location, dtype: int64"
      ]
     },
     "execution_count": 866,
     "metadata": {},
     "output_type": "execute_result"
    }
   ],
   "source": [
    "pd.isna(cacao.company_location).value_counts()"
   ]
  },
  {
   "cell_type": "code",
   "execution_count": 867,
   "metadata": {},
   "outputs": [
    {
     "data": {
      "text/html": [
       "<div>\n",
       "<style scoped>\n",
       "    .dataframe tbody tr th:only-of-type {\n",
       "        vertical-align: middle;\n",
       "    }\n",
       "\n",
       "    .dataframe tbody tr th {\n",
       "        vertical-align: top;\n",
       "    }\n",
       "\n",
       "    .dataframe thead th {\n",
       "        text-align: right;\n",
       "    }\n",
       "</style>\n",
       "<table border=\"1\" class=\"dataframe\">\n",
       "  <thead>\n",
       "    <tr style=\"text-align: right;\">\n",
       "      <th></th>\n",
       "      <th>company_location</th>\n",
       "    </tr>\n",
       "  </thead>\n",
       "  <tbody>\n",
       "    <tr>\n",
       "      <th>U.S.A.</th>\n",
       "      <td>756</td>\n",
       "    </tr>\n",
       "    <tr>\n",
       "      <th>France</th>\n",
       "      <td>155</td>\n",
       "    </tr>\n",
       "    <tr>\n",
       "      <th>Canada</th>\n",
       "      <td>124</td>\n",
       "    </tr>\n",
       "    <tr>\n",
       "      <th>U.K.</th>\n",
       "      <td>94</td>\n",
       "    </tr>\n",
       "    <tr>\n",
       "      <th>Italy</th>\n",
       "      <td>63</td>\n",
       "    </tr>\n",
       "    <tr>\n",
       "      <th>...</th>\n",
       "      <td>...</td>\n",
       "    </tr>\n",
       "    <tr>\n",
       "      <th>Czech Republic</th>\n",
       "      <td>1</td>\n",
       "    </tr>\n",
       "    <tr>\n",
       "      <th>Eucador</th>\n",
       "      <td>1</td>\n",
       "    </tr>\n",
       "    <tr>\n",
       "      <th>Niacragua</th>\n",
       "      <td>1</td>\n",
       "    </tr>\n",
       "    <tr>\n",
       "      <th>India</th>\n",
       "      <td>1</td>\n",
       "    </tr>\n",
       "    <tr>\n",
       "      <th>Martinique</th>\n",
       "      <td>1</td>\n",
       "    </tr>\n",
       "  </tbody>\n",
       "</table>\n",
       "<p>60 rows × 1 columns</p>\n",
       "</div>"
      ],
      "text/plain": [
       "                company_location\n",
       "U.S.A.                       756\n",
       "France                       155\n",
       "Canada                       124\n",
       "U.K.                          94\n",
       "Italy                         63\n",
       "...                          ...\n",
       "Czech Republic                 1\n",
       "Eucador                        1\n",
       "Niacragua                      1\n",
       "India                          1\n",
       "Martinique                     1\n",
       "\n",
       "[60 rows x 1 columns]"
      ]
     },
     "execution_count": 867,
     "metadata": {},
     "output_type": "execute_result"
    }
   ],
   "source": [
    "locations = pd.DataFrame(cacao.company_location.value_counts())\n",
    "locations"
   ]
  },
  {
   "cell_type": "code",
   "execution_count": 868,
   "metadata": {},
   "outputs": [
    {
     "data": {
      "text/html": [
       "<div>\n",
       "<style scoped>\n",
       "    .dataframe tbody tr th:only-of-type {\n",
       "        vertical-align: middle;\n",
       "    }\n",
       "\n",
       "    .dataframe tbody tr th {\n",
       "        vertical-align: top;\n",
       "    }\n",
       "\n",
       "    .dataframe thead th {\n",
       "        text-align: right;\n",
       "    }\n",
       "</style>\n",
       "<table border=\"1\" class=\"dataframe\">\n",
       "  <thead>\n",
       "    <tr style=\"text-align: right;\">\n",
       "      <th></th>\n",
       "      <th>company_location</th>\n",
       "    </tr>\n",
       "  </thead>\n",
       "  <tbody>\n",
       "    <tr>\n",
       "      <th>U.S.A.</th>\n",
       "      <td>756</td>\n",
       "    </tr>\n",
       "    <tr>\n",
       "      <th>France</th>\n",
       "      <td>155</td>\n",
       "    </tr>\n",
       "    <tr>\n",
       "      <th>Canada</th>\n",
       "      <td>124</td>\n",
       "    </tr>\n",
       "    <tr>\n",
       "      <th>U.K.</th>\n",
       "      <td>94</td>\n",
       "    </tr>\n",
       "    <tr>\n",
       "      <th>Italy</th>\n",
       "      <td>63</td>\n",
       "    </tr>\n",
       "    <tr>\n",
       "      <th>Ecuador</th>\n",
       "      <td>54</td>\n",
       "    </tr>\n",
       "    <tr>\n",
       "      <th>Australia</th>\n",
       "      <td>49</td>\n",
       "    </tr>\n",
       "    <tr>\n",
       "      <th>Belgium</th>\n",
       "      <td>39</td>\n",
       "    </tr>\n",
       "    <tr>\n",
       "      <th>Switzerland</th>\n",
       "      <td>38</td>\n",
       "    </tr>\n",
       "    <tr>\n",
       "      <th>Germany</th>\n",
       "      <td>35</td>\n",
       "    </tr>\n",
       "    <tr>\n",
       "      <th>Austria</th>\n",
       "      <td>25</td>\n",
       "    </tr>\n",
       "    <tr>\n",
       "      <th>Spain</th>\n",
       "      <td>25</td>\n",
       "    </tr>\n",
       "    <tr>\n",
       "      <th>Hungary</th>\n",
       "      <td>22</td>\n",
       "    </tr>\n",
       "    <tr>\n",
       "      <th>Colombia</th>\n",
       "      <td>22</td>\n",
       "    </tr>\n",
       "    <tr>\n",
       "      <th>Venezuela</th>\n",
       "      <td>20</td>\n",
       "    </tr>\n",
       "    <tr>\n",
       "      <th>New Zealand</th>\n",
       "      <td>17</td>\n",
       "    </tr>\n",
       "    <tr>\n",
       "      <th>Madagascar</th>\n",
       "      <td>17</td>\n",
       "    </tr>\n",
       "    <tr>\n",
       "      <th>Peru</th>\n",
       "      <td>17</td>\n",
       "    </tr>\n",
       "    <tr>\n",
       "      <th>Japan</th>\n",
       "      <td>17</td>\n",
       "    </tr>\n",
       "    <tr>\n",
       "      <th>Brazil</th>\n",
       "      <td>17</td>\n",
       "    </tr>\n",
       "    <tr>\n",
       "      <th>Denmark</th>\n",
       "      <td>15</td>\n",
       "    </tr>\n",
       "    <tr>\n",
       "      <th>Vietnam</th>\n",
       "      <td>11</td>\n",
       "    </tr>\n",
       "  </tbody>\n",
       "</table>\n",
       "</div>"
      ],
      "text/plain": [
       "             company_location\n",
       "U.S.A.                    756\n",
       "France                    155\n",
       "Canada                    124\n",
       "U.K.                       94\n",
       "Italy                      63\n",
       "Ecuador                    54\n",
       "Australia                  49\n",
       "Belgium                    39\n",
       "Switzerland                38\n",
       "Germany                    35\n",
       "Austria                    25\n",
       "Spain                      25\n",
       "Hungary                    22\n",
       "Colombia                   22\n",
       "Venezuela                  20\n",
       "New Zealand                17\n",
       "Madagascar                 17\n",
       "Peru                       17\n",
       "Japan                      17\n",
       "Brazil                     17\n",
       "Denmark                    15\n",
       "Vietnam                    11"
      ]
     },
     "execution_count": 868,
     "metadata": {},
     "output_type": "execute_result"
    }
   ],
   "source": [
    "locations[locations.company_location > 10]"
   ]
  },
  {
   "cell_type": "code",
   "execution_count": 869,
   "metadata": {},
   "outputs": [
    {
     "data": {
      "text/plain": [
       "22"
      ]
     },
     "execution_count": 869,
     "metadata": {},
     "output_type": "execute_result"
    }
   ],
   "source": [
    "locations[locations.company_location > 10].size"
   ]
  },
  {
   "cell_type": "code",
   "execution_count": 870,
   "metadata": {},
   "outputs": [
    {
     "data": {
      "text/plain": [
       "22"
      ]
     },
     "execution_count": 870,
     "metadata": {},
     "output_type": "execute_result"
    }
   ],
   "source": [
    "(cacao.company_location.value_counts()>10).sum()"
   ]
  },
  {
   "cell_type": "markdown",
   "metadata": {},
   "source": [
    "Rating — важный столбец, так как именно рейтинг шоколада будет учиться предсказывать будущая модель."
   ]
  },
  {
   "cell_type": "code",
   "execution_count": 871,
   "metadata": {},
   "outputs": [],
   "source": [
    "rat = cacao.rating"
   ]
  },
  {
   "cell_type": "code",
   "execution_count": 872,
   "metadata": {},
   "outputs": [
    {
     "data": {
      "text/plain": [
       "False    1776\n",
       "Name: rating, dtype: int64"
      ]
     },
     "execution_count": 872,
     "metadata": {},
     "output_type": "execute_result"
    }
   ],
   "source": [
    "pd.isna(rat).value_counts()"
   ]
  },
  {
   "cell_type": "code",
   "execution_count": 873,
   "metadata": {},
   "outputs": [
    {
     "data": {
      "text/plain": [
       "Series([], Name: rating, dtype: float64)"
      ]
     },
     "execution_count": 873,
     "metadata": {},
     "output_type": "execute_result"
    }
   ],
   "source": [
    "rat[rat == '']"
   ]
  },
  {
   "cell_type": "code",
   "execution_count": 874,
   "metadata": {},
   "outputs": [
    {
     "data": {
      "text/plain": [
       "<AxesSubplot:>"
      ]
     },
     "execution_count": 874,
     "metadata": {},
     "output_type": "execute_result"
    },
    {
     "data": {
      "image/png": "[encoded data removed]",
      "text/plain": [
       "<Figure size 432x288 with 1 Axes>"
      ]
     },
     "metadata": {
      "needs_background": "light"
     },
     "output_type": "display_data"
    }
   ],
   "source": [
    "cacao.rating.hist()"
   ]
  },
  {
   "cell_type": "code",
   "execution_count": 875,
   "metadata": {},
   "outputs": [
    {
     "data": {
      "text/plain": [
       "count    1776.000000\n",
       "mean        3.425816\n",
       "std         1.759007\n",
       "min         1.000000\n",
       "25%         3.000000\n",
       "50%         3.250000\n",
       "75%         3.500000\n",
       "max        19.750000\n",
       "Name: rating, dtype: float64"
      ]
     },
     "execution_count": 875,
     "metadata": {},
     "output_type": "execute_result"
    }
   ],
   "source": [
    "cacao.rating.describe()"
   ]
  },
  {
   "cell_type": "markdown",
   "metadata": {},
   "source": [
    "Как мы видим, большинство оценок распределены между 3 и 3.5 (медиана 3.25, 25-й перцентиль 3 и 75-й — 3.5), что позволяет сделать два предположения:\n",
    "\n",
    "Скорее всего была использована пятибалльная шкала оценивания\n",
    "В данных есть выбросы."
   ]
  },
  {
   "cell_type": "code",
   "execution_count": 876,
   "metadata": {},
   "outputs": [
    {
     "name": "stdout",
     "output_type": "stream",
     "text": [
      "25-й перцентиль: 3.0, 75-й перцентиль: 3.5, IQR: 0.5,  Границы выбросов: [2.25, 4.25].\n"
     ]
    },
    {
     "data": {
      "image/png": "[encoded data removed]",
      "text/plain": [
       "<Figure size 432x288 with 1 Axes>"
      ]
     },
     "metadata": {
      "needs_background": "light"
     },
     "output_type": "display_data"
    }
   ],
   "source": [
    "IQR = cacao.rating.quantile(0.75) - cacao.rating.quantile(0.25)\n",
    "perc25 = cacao.rating.quantile(0.25)\n",
    "perc75 = cacao.rating.quantile(0.75)\n",
    "print('25-й перцентиль: {},'.format(perc25), '75-й перцентиль: {},'.format(perc75), \"IQR: {}, \".format(IQR), \"Границы выбросов: [{f}, {l}].\".format(f=perc25 - 1.5*IQR, l=perc75 + 1.5*IQR))\n",
    " \n",
    "cacao.rating.loc[cacao.rating.between(perc25 - 1.5*IQR, perc75 + 1.5*IQR)].hist(bins = 10, range = (0, 10), label = 'IQR')\n",
    " \n",
    "plt.legend();"
   ]
  },
  {
   "cell_type": "markdown",
   "metadata": {},
   "source": [
    "Этот способ позволил нам отобрать экстремально низкие и экстремально высокие оценки. Отфильтруем данные:"
   ]
  },
  {
   "cell_type": "code",
   "execution_count": 877,
   "metadata": {},
   "outputs": [],
   "source": [
    "cacao = cacao.loc[cacao.rating.between(perc25 - 1.5*IQR, perc75 + 1.5*IQR)]"
   ]
  },
  {
   "cell_type": "code",
   "execution_count": 878,
   "metadata": {},
   "outputs": [
    {
     "data": {
      "text/plain": [
       "<AxesSubplot:>"
      ]
     },
     "execution_count": 878,
     "metadata": {},
     "output_type": "execute_result"
    },
    {
     "data": {
      "image/png": "[encoded data removed]",
      "text/plain": [
       "<Figure size 432x288 with 1 Axes>"
      ]
     },
     "metadata": {
      "needs_background": "light"
     },
     "output_type": "display_data"
    }
   ],
   "source": [
    "cacao.rating.hist()"
   ]
  },
  {
   "cell_type": "code",
   "execution_count": 879,
   "metadata": {},
   "outputs": [
    {
     "data": {
      "text/plain": [
       "                            829\n",
       "Trinitario                  401\n",
       "Criollo                     147\n",
       "Forastero                    81\n",
       "Forastero (Nacional)         50\n",
       "Criollo, Trinitario          37\n",
       "Blend                        36\n",
       "Forastero (Arriba)           30\n",
       "Criollo (Porcelana)          10\n",
       "Trinitario, Criollo           9\n",
       "Forastero (Parazinho)         8\n",
       "Forastero (Arriba) ASS        5\n",
       "Matina                        3\n",
       "Beniano                       3\n",
       "Nacional (Arriba)             3\n",
       "EET                           3\n",
       "Forastero (Catongo)           2\n",
       "Criollo, Forastero            2\n",
       "Amazon, ICS                   2\n",
       "Trinitario (85% Criollo)      2\n",
       "Criollo (Ocumare 61)          2\n",
       "Nacional                      2\n",
       "Criollo (Amarru)              2\n",
       "Trinitario, Forastero         2\n",
       "Amazon mix                    2\n",
       "Criollo (Wild)                1\n",
       "Amazon                        1\n",
       "Trinitario, TCGA              1\n",
       "Criollo (Ocumare)             1\n",
       "Trinitario, Nacional          1\n",
       "Trinitario (Scavina)          1\n",
       "CCN51                         1\n",
       "Forastero(Arriba, CCN)        1\n",
       "Criollo, +                    1\n",
       "Criollo (Ocumare 77)          1\n",
       "Forastero (Arriba) ASSS       1\n",
       "Forastero (Amelonado)         1\n",
       "Blend-Forastero,Criollo       1\n",
       "Trinitario (Amelonado)        1\n",
       "Forastero, Trinitario         1\n",
       "Criollo (Ocumare 67)          1\n",
       "Name: bean_type, dtype: int64"
      ]
     },
     "execution_count": 879,
     "metadata": {},
     "output_type": "execute_result"
    }
   ],
   "source": [
    "cacao.bean_type.value_counts()"
   ]
  },
  {
   "cell_type": "code",
   "execution_count": 880,
   "metadata": {},
   "outputs": [],
   "source": [
    "cacao.bean_type = cacao.bean_type.astype(str).apply(lambda x: None if x.strip() == '' else x)"
   ]
  },
  {
   "cell_type": "code",
   "execution_count": 881,
   "metadata": {},
   "outputs": [
    {
     "data": {
      "text/plain": [
       "Trinitario                  401\n",
       "Criollo                     147\n",
       "Forastero                    81\n",
       "Forastero (Nacional)         50\n",
       "Criollo, Trinitario          37\n",
       "Blend                        36\n",
       "Forastero (Arriba)           30\n",
       "Criollo (Porcelana)          10\n",
       "Trinitario, Criollo           9\n",
       "Forastero (Parazinho)         8\n",
       "Forastero (Arriba) ASS        5\n",
       "Beniano                       3\n",
       "Nacional (Arriba)             3\n",
       "Matina                        3\n",
       "EET                           3\n",
       "Criollo, Forastero            2\n",
       "Amazon, ICS                   2\n",
       "Trinitario (85% Criollo)      2\n",
       "Forastero (Catongo)           2\n",
       "Criollo (Ocumare 61)          2\n",
       "Nacional                      2\n",
       "Trinitario, Forastero         2\n",
       "Criollo (Amarru)              2\n",
       "Amazon mix                    2\n",
       "Trinitario, Nacional          1\n",
       "Criollo (Wild)                1\n",
       "Amazon                        1\n",
       "Trinitario, TCGA              1\n",
       "Criollo (Ocumare)             1\n",
       "nan                           1\n",
       "Trinitario (Scavina)          1\n",
       "CCN51                         1\n",
       "Forastero(Arriba, CCN)        1\n",
       "Criollo, +                    1\n",
       "Criollo (Ocumare 77)          1\n",
       "Forastero (Arriba) ASSS       1\n",
       "Forastero (Amelonado)         1\n",
       "Blend-Forastero,Criollo       1\n",
       "Trinitario (Amelonado)        1\n",
       "Forastero, Trinitario         1\n",
       "Criollo (Ocumare 67)          1\n",
       "Name: bean_type, dtype: int64"
      ]
     },
     "metadata": {},
     "output_type": "display_data"
    }
   ],
   "source": [
    "display(cacao.bean_type.value_counts())"
   ]
  },
  {
   "cell_type": "code",
   "execution_count": 882,
   "metadata": {},
   "outputs": [
    {
     "data": {
      "text/plain": [
       "7"
      ]
     },
     "execution_count": 882,
     "metadata": {},
     "output_type": "execute_result"
    }
   ],
   "source": [
    "(cacao.bean_type.value_counts()>10).sum()"
   ]
  },
  {
   "cell_type": "code",
   "execution_count": 883,
   "metadata": {},
   "outputs": [
    {
     "data": {
      "text/plain": [
       "41"
      ]
     },
     "execution_count": 883,
     "metadata": {},
     "output_type": "execute_result"
    }
   ],
   "source": [
    "cacao.bean_type.nunique()"
   ]
  },
  {
   "cell_type": "code",
   "execution_count": 884,
   "metadata": {},
   "outputs": [
    {
     "name": "stdout",
     "output_type": "stream",
     "text": [
      "<class 'pandas.core.frame.DataFrame'>\n",
      "Int64Index: 1690 entries, 1 to 1794\n",
      "Data columns (total 1 columns):\n",
      " #   Column     Non-Null Count  Dtype \n",
      "---  ------     --------------  ----- \n",
      " 0   bean_type  861 non-null    object\n",
      "dtypes: object(1)\n",
      "memory usage: 26.4+ KB\n"
     ]
    }
   ],
   "source": [
    "(pd.DataFrame(cacao.bean_type)).info()"
   ]
  },
  {
   "cell_type": "code",
   "execution_count": 885,
   "metadata": {},
   "outputs": [],
   "source": [
    "cacao.bean_type = cacao.bean_type.apply(lambda x: None if pd.isnull(x) else None if x == 'nan' \n",
    "                      else x if '(' not in x else x[:x.find('(')].strip())"
   ]
  },
  {
   "cell_type": "code",
   "execution_count": 886,
   "metadata": {},
   "outputs": [
    {
     "data": {
      "text/html": [
       "<div>\n",
       "<style scoped>\n",
       "    .dataframe tbody tr th:only-of-type {\n",
       "        vertical-align: middle;\n",
       "    }\n",
       "\n",
       "    .dataframe tbody tr th {\n",
       "        vertical-align: top;\n",
       "    }\n",
       "\n",
       "    .dataframe thead th {\n",
       "        text-align: right;\n",
       "    }\n",
       "</style>\n",
       "<table border=\"1\" class=\"dataframe\">\n",
       "  <thead>\n",
       "    <tr style=\"text-align: right;\">\n",
       "      <th></th>\n",
       "      <th>bean_type</th>\n",
       "    </tr>\n",
       "  </thead>\n",
       "  <tbody>\n",
       "    <tr>\n",
       "      <th>Trinitario</th>\n",
       "      <td>405</td>\n",
       "    </tr>\n",
       "    <tr>\n",
       "      <th>Forastero</th>\n",
       "      <td>179</td>\n",
       "    </tr>\n",
       "    <tr>\n",
       "      <th>Criollo</th>\n",
       "      <td>165</td>\n",
       "    </tr>\n",
       "    <tr>\n",
       "      <th>Criollo, Trinitario</th>\n",
       "      <td>37</td>\n",
       "    </tr>\n",
       "    <tr>\n",
       "      <th>Blend</th>\n",
       "      <td>36</td>\n",
       "    </tr>\n",
       "    <tr>\n",
       "      <th>Trinitario, Criollo</th>\n",
       "      <td>9</td>\n",
       "    </tr>\n",
       "    <tr>\n",
       "      <th>Nacional</th>\n",
       "      <td>5</td>\n",
       "    </tr>\n",
       "    <tr>\n",
       "      <th>Beniano</th>\n",
       "      <td>3</td>\n",
       "    </tr>\n",
       "    <tr>\n",
       "      <th>Matina</th>\n",
       "      <td>3</td>\n",
       "    </tr>\n",
       "    <tr>\n",
       "      <th>EET</th>\n",
       "      <td>3</td>\n",
       "    </tr>\n",
       "    <tr>\n",
       "      <th>Amazon, ICS</th>\n",
       "      <td>2</td>\n",
       "    </tr>\n",
       "    <tr>\n",
       "      <th>Trinitario, Forastero</th>\n",
       "      <td>2</td>\n",
       "    </tr>\n",
       "    <tr>\n",
       "      <th>Amazon mix</th>\n",
       "      <td>2</td>\n",
       "    </tr>\n",
       "    <tr>\n",
       "      <th>Criollo, Forastero</th>\n",
       "      <td>2</td>\n",
       "    </tr>\n",
       "    <tr>\n",
       "      <th>CCN51</th>\n",
       "      <td>1</td>\n",
       "    </tr>\n",
       "    <tr>\n",
       "      <th>Forastero, Trinitario</th>\n",
       "      <td>1</td>\n",
       "    </tr>\n",
       "    <tr>\n",
       "      <th>Trinitario, TCGA</th>\n",
       "      <td>1</td>\n",
       "    </tr>\n",
       "    <tr>\n",
       "      <th>Amazon</th>\n",
       "      <td>1</td>\n",
       "    </tr>\n",
       "    <tr>\n",
       "      <th>Blend-Forastero,Criollo</th>\n",
       "      <td>1</td>\n",
       "    </tr>\n",
       "    <tr>\n",
       "      <th>Trinitario, Nacional</th>\n",
       "      <td>1</td>\n",
       "    </tr>\n",
       "    <tr>\n",
       "      <th>Criollo, +</th>\n",
       "      <td>1</td>\n",
       "    </tr>\n",
       "  </tbody>\n",
       "</table>\n",
       "</div>"
      ],
      "text/plain": [
       "                         bean_type\n",
       "Trinitario                     405\n",
       "Forastero                      179\n",
       "Criollo                        165\n",
       "Criollo, Trinitario             37\n",
       "Blend                           36\n",
       "Trinitario, Criollo              9\n",
       "Nacional                         5\n",
       "Beniano                          3\n",
       "Matina                           3\n",
       "EET                              3\n",
       "Amazon, ICS                      2\n",
       "Trinitario, Forastero            2\n",
       "Amazon mix                       2\n",
       "Criollo, Forastero               2\n",
       "CCN51                            1\n",
       "Forastero, Trinitario            1\n",
       "Trinitario, TCGA                 1\n",
       "Amazon                           1\n",
       "Blend-Forastero,Criollo          1\n",
       "Trinitario, Nacional             1\n",
       "Criollo, +                       1"
      ]
     },
     "metadata": {},
     "output_type": "display_data"
    },
    {
     "name": "stdout",
     "output_type": "stream",
     "text": [
      "Значений, встретившихся в столбце более 10 раз: 5\n",
      "Уникальных значений: 21\n",
      "<class 'pandas.core.frame.DataFrame'>\n",
      "Int64Index: 1690 entries, 1 to 1794\n",
      "Data columns (total 1 columns):\n",
      " #   Column     Non-Null Count  Dtype \n",
      "---  ------     --------------  ----- \n",
      " 0   bean_type  860 non-null    object\n",
      "dtypes: object(1)\n",
      "memory usage: 26.4+ KB\n"
     ]
    }
   ],
   "source": [
    "display(pd.DataFrame(cacao.bean_type.value_counts()))\n",
    "print(\"Значений, встретившихся в столбце более 10 раз:\", (cacao.bean_type.value_counts()>10).sum())\n",
    "print(\"Уникальных значений:\", cacao.bean_type.nunique())\n",
    "cacao.loc[:, ['bean_type']].info()"
   ]
  },
  {
   "cell_type": "markdown",
   "metadata": {},
   "source": [
    "### broad_origin"
   ]
  },
  {
   "cell_type": "code",
   "execution_count": 831,
   "metadata": {},
   "outputs": [
    {
     "data": {
      "text/plain": [
       "21"
      ]
     },
     "execution_count": 831,
     "metadata": {},
     "output_type": "execute_result"
    }
   ],
   "source": [
    "cacao.broad_origin.nunique()"
   ]
  },
  {
   "cell_type": "code",
   "execution_count": 826,
   "metadata": {},
   "outputs": [
    {
     "data": {
      "text/plain": [
       "25"
      ]
     },
     "execution_count": 826,
     "metadata": {},
     "output_type": "execute_result"
    }
   ],
   "source": [
    "(cacao.broad_origin.value_counts()>10).sum()"
   ]
  },
  {
   "cell_type": "code",
   "execution_count": 887,
   "metadata": {},
   "outputs": [],
   "source": [
    "def fix_countries(x):\n",
    "    if pd.isnull(x):\n",
    "        return x\n",
    "    if x == 'nan':\n",
    "        return None\n",
    "    x = x.replace(' ', '')\n",
    "    x = x.replace('/', ',') # Venezuela/ Ghana\n",
    "    x = x.replace('&', ',')\n",
    "    if '(' in x:\n",
    "        x = x[:x.find('(')] #Peru(SMartin,Pangoa,nacional)\n",
    "    x = x.replace('Guat.', 'Guatemala')\n",
    "    \n",
    "    if 'Ven' in x and 'Venezuela' not in x:\n",
    "        x = x.replace('Venez', 'Venezuela') #Venez,Africa,Brasil,Peru,Mex\n",
    "        x = x.replace('Ven,', 'Venezuela,') #Ven, Trinidad, Ecuador\n",
    "        x = x.replace('Ven.', 'Venezuela') #Ven., Trinidad, Mad.\n",
    "        if 'Ven' in x and 'Venezuela' not in x:\n",
    "            x = x.replace('Ven', 'Venezuela')\n",
    "        \n",
    "    x = x.replace('Dom.Rep.', 'DomincanRepublic')\n",
    "    x = x.replace('DR', 'DomincanRepublic')\n",
    "    x = x.replace('Dom.Rep', 'DomincanRepublic')\n",
    "    x = x.replace('D.R.', 'DomincanRepublic')\n",
    "    x = x.replace('DominicanRep.', 'DomincanRepublic')\n",
    "    x = x.replace('Domin.Rep', 'DomincanRepublic')\n",
    "    x = x.replace('Domin.Re', 'DomincanRepublic')\n",
    "    \n",
    "    if 'Jam' in x and 'Jamaica' not in x:\n",
    "        x = x.replace('Jam', 'Jamaica')\n",
    "        \n",
    "    if 'Mad.' in x and 'Madagascar' not in x:\n",
    "        x = x.replace('Mad.', 'Madagascar')\n",
    "    elif 'Mad' in x and 'Madagascar' not in x:\n",
    "        x = x.replace('Mad', 'Madagascar')\n",
    "    elif 'Ma' in x and 'Madagascar' not in x:\n",
    "        x = x.replace('Ma', 'Madagascar')\n",
    "        \n",
    "    if 'Hait' in x and 'Haiti' not in x:\n",
    "        x = x.replace('Hait', 'Haiti')\n",
    "        \n",
    "    if 'Per' in x and 'Peru'  not in x:\n",
    "        x = x.replace('Per', 'Peru')\n",
    "    \n",
    "    x = x.replace('Nic.', 'Nicaragua')\n",
    "\n",
    "    x = x.replace('Gre.', 'Grenada')\n",
    "    \n",
    "    x = x.replace('PNG', 'PapuaNewGuinea')\n",
    "    \n",
    "    if 'Mex' in x and 'Mexico' not in x:\n",
    "        x = x.replace('Mex', 'Mexico')\n",
    "        \n",
    "    x = x.replace('Haw.', 'Hawaii')\n",
    "    \n",
    "    x = x.replace('Ecuad.', 'Ecuador')\n",
    "    x = x.replace('Ecu.', 'Ecuador')\n",
    "    \n",
    "    return x"
   ]
  },
  {
   "cell_type": "code",
   "execution_count": 888,
   "metadata": {},
   "outputs": [
    {
     "data": {
      "text/html": [
       "<div>\n",
       "<style scoped>\n",
       "    .dataframe tbody tr th:only-of-type {\n",
       "        vertical-align: middle;\n",
       "    }\n",
       "\n",
       "    .dataframe tbody tr th {\n",
       "        vertical-align: top;\n",
       "    }\n",
       "\n",
       "    .dataframe thead th {\n",
       "        text-align: right;\n",
       "    }\n",
       "</style>\n",
       "<table border=\"1\" class=\"dataframe\">\n",
       "  <thead>\n",
       "    <tr style=\"text-align: right;\">\n",
       "      <th></th>\n",
       "      <th>broad_origin</th>\n",
       "    </tr>\n",
       "  </thead>\n",
       "  <tbody>\n",
       "    <tr>\n",
       "      <th>Venezuela</th>\n",
       "      <td>202</td>\n",
       "    </tr>\n",
       "    <tr>\n",
       "      <th>Ecuador</th>\n",
       "      <td>179</td>\n",
       "    </tr>\n",
       "    <tr>\n",
       "      <th>Peru</th>\n",
       "      <td>159</td>\n",
       "    </tr>\n",
       "    <tr>\n",
       "      <th>Madagascar</th>\n",
       "      <td>138</td>\n",
       "    </tr>\n",
       "    <tr>\n",
       "      <th>Dominican Republic</th>\n",
       "      <td>135</td>\n",
       "    </tr>\n",
       "    <tr>\n",
       "      <th>...</th>\n",
       "      <td>...</td>\n",
       "    </tr>\n",
       "    <tr>\n",
       "      <th>Venezuela, Ghana</th>\n",
       "      <td>1</td>\n",
       "    </tr>\n",
       "    <tr>\n",
       "      <th>Venez,Africa,Brasil,Peru,Mex</th>\n",
       "      <td>1</td>\n",
       "    </tr>\n",
       "    <tr>\n",
       "      <th>Ven., Trinidad, Mad.</th>\n",
       "      <td>1</td>\n",
       "    </tr>\n",
       "    <tr>\n",
       "      <th>Ecuador, Costa Rica</th>\n",
       "      <td>1</td>\n",
       "    </tr>\n",
       "    <tr>\n",
       "      <th>Peru(SMartin,Pangoa,nacional)</th>\n",
       "      <td>1</td>\n",
       "    </tr>\n",
       "  </tbody>\n",
       "</table>\n",
       "<p>97 rows × 1 columns</p>\n",
       "</div>"
      ],
      "text/plain": [
       "                               broad_origin\n",
       "Venezuela                               202\n",
       "Ecuador                                 179\n",
       "Peru                                    159\n",
       "Madagascar                              138\n",
       "Dominican Republic                      135\n",
       "...                                     ...\n",
       "Venezuela, Ghana                          1\n",
       "Venez,Africa,Brasil,Peru,Mex              1\n",
       "Ven., Trinidad, Mad.                      1\n",
       "Ecuador, Costa Rica                       1\n",
       "Peru(SMartin,Pangoa,nacional)             1\n",
       "\n",
       "[97 rows x 1 columns]"
      ]
     },
     "metadata": {},
     "output_type": "display_data"
    },
    {
     "name": "stdout",
     "output_type": "stream",
     "text": [
      "Значений, упомянутых более 10 раз: 26\n",
      "Уникальных значений: 97\n",
      "<class 'pandas.core.frame.DataFrame'>\n",
      "Int64Index: 1690 entries, 1 to 1794\n",
      "Data columns (total 1 columns):\n",
      " #   Column        Non-Null Count  Dtype \n",
      "---  ------        --------------  ----- \n",
      " 0   broad_origin  1689 non-null   object\n",
      "dtypes: object(1)\n",
      "memory usage: 26.4+ KB\n"
     ]
    }
   ],
   "source": [
    "display(pd.DataFrame(cacao.broad_origin.value_counts()))\n",
    "print('Значений, упомянутых более 10 раз:', (cacao.broad_origin.value_counts()>10).sum())\n",
    "print(\"Уникальных значений:\", cacao.broad_origin.nunique())\n",
    "cacao.loc[:, ['broad_origin']].info()"
   ]
  },
  {
   "cell_type": "code",
   "execution_count": 891,
   "metadata": {},
   "outputs": [],
   "source": [
    "cacao.broad_origin = cacao.broad_origin.apply(fix_countries)"
   ]
  },
  {
   "cell_type": "code",
   "execution_count": 892,
   "metadata": {},
   "outputs": [
    {
     "data": {
      "text/plain": [
       "94"
      ]
     },
     "execution_count": 892,
     "metadata": {},
     "output_type": "execute_result"
    }
   ],
   "source": [
    "cacao.broad_origin.nunique()"
   ]
  },
  {
   "cell_type": "markdown",
   "metadata": {},
   "source": [
    "### Корреляционный анализ\n",
    "Выясним, какие столбцы коррелируют с оценкой шоколадных батончиков."
   ]
  },
  {
   "cell_type": "markdown",
   "metadata": {},
   "source": [
    "Для быстрого построения графиков зависимости переменных можно воспользоваться функцией pairplot из модуля seaborn:"
   ]
  },
  {
   "cell_type": "code",
   "execution_count": 893,
   "metadata": {},
   "outputs": [
    {
     "data": {
      "text/plain": [
       "<seaborn.axisgrid.PairGrid at 0x11c50b070>"
      ]
     },
     "execution_count": 893,
     "metadata": {},
     "output_type": "execute_result"
    },
    {
     "data": {
      "image/png": "[encoded data removed]",
      "text/plain": [
       "<Figure size 720x720 with 20 Axes>"
      ]
     },
     "metadata": {
      "needs_background": "light"
     },
     "output_type": "display_data"
    }
   ],
   "source": [
    "sns.pairplot(cacao, kind = 'reg')"
   ]
  },
  {
   "cell_type": "markdown",
   "metadata": {},
   "source": [
    "Так как переменные review_date и ref скоррелированы почти полностью, одну переменную можно исключить. Пусть это будет переменная REF.\n",
    "\n",
    "Останутся две слабоскоррелированные с рейтингом переменные: cocoa_percent и review_date.\n",
    "\n",
    "Интересно, что положительная корреляция параметра review_date и rating может говорить как о том, что со временем батончики действительно становятся лучше, так и о том, что рейтинги просто завышаются."
   ]
  },
  {
   "cell_type": "markdown",
   "metadata": {},
   "source": [
    "### Анализ номинативных переменных\n",
    "Очевидно, что для номинативных переменных использовать корреляционный анализ не получится. Однако можно посмотреть, различаются ли распределения рейтинга в зависимости от значения этих переменных. Это можно сделать, например, с помощью box-plot или KDE-plot (график показывает плотность распределения переменных).\n",
    "\n",
    "Номинативные переменные, которые осталось рассмотреть: company, specific_origin, company_location, bean_type, broad_origin.\n",
    "\n",
    "Так как уникальных значений в столбцах достаточно много, будем брать в рассмотрение по, например, 10 самых частотных."
   ]
  },
  {
   "cell_type": "code",
   "execution_count": 894,
   "metadata": {},
   "outputs": [],
   "source": [
    "def get_boxplot(column):\n",
    "    fig, ax = plt.subplots(figsize = (14, 4))\n",
    "    sns.boxplot(x=column, y='rating', \n",
    "                data=cacao.loc[cacao.loc[:, column].isin(cacao.loc[:, column].value_counts().index[:10])],\n",
    "               ax=ax)\n",
    "    plt.xticks(rotation=45)\n",
    "    ax.set_title('Boxplot for ' + column)\n",
    "    plt.show()"
   ]
  },
  {
   "cell_type": "code",
   "execution_count": 895,
   "metadata": {},
   "outputs": [
    {
     "data": {
      "image/png": "[encoded data removed]",
      "text/plain": [
       "<Figure size 1008x288 with 1 Axes>"
      ]
     },
     "metadata": {
      "needs_background": "light"
     },
     "output_type": "display_data"
    },
    {
     "data": {
      "image/png": "[encoded data removed]",
      "text/plain": [
       "<Figure size 1008x288 with 1 Axes>"
      ]
     },
     "metadata": {
      "needs_background": "light"
     },
     "output_type": "display_data"
    },
    {
     "data": {
      "image/png": "[encoded data removed]",
      "text/plain": [
       "<Figure size 1008x288 with 1 Axes>"
      ]
     },
     "metadata": {
      "needs_background": "light"
     },
     "output_type": "display_data"
    },
    {
     "data": {
      "image/png": "[encoded data removed]",
      "text/plain": [
       "<Figure size 1008x288 with 1 Axes>"
      ]
     },
     "metadata": {
      "needs_background": "light"
     },
     "output_type": "display_data"
    },
    {
     "data": {
      "image/png": "[encoded data removed]",
      "text/plain": [
       "<Figure size 1008x288 with 1 Axes>"
      ]
     },
     "metadata": {
      "needs_background": "light"
     },
     "output_type": "display_data"
    }
   ],
   "source": [
    "for col in ['company', 'specific_origin', 'company_location', 'bean_type', 'broad_origin']:\n",
    "    get_boxplot(col)"
   ]
  },
  {
   "cell_type": "markdown",
   "metadata": {},
   "source": [
    "По графикам похоже, что все параметры, кроме broad_origin, могут влиять на оценку батончика. Однако графики являются лишь вспомогательным инструментом, настоящую значимость различий может помочь распознать статистика. Проверим, есть ли статистическая разница в распределении оценок по номинативным признакам, с помощью теста Стьюдента. Проверим нулевую гипотезу о том, что распределения оценок батончиков по различным параметрам неразличимы:"
   ]
  },
  {
   "cell_type": "code",
   "execution_count": 896,
   "metadata": {},
   "outputs": [],
   "source": [
    "def get_stat_dif(column):\n",
    "    cols = cacao.loc[:, column].value_counts().index[:10]\n",
    "    combinations_all = list(combinations(cols, 2))\n",
    "    for comb in combinations_all:\n",
    "        if ttest_ind(cacao.loc[cacao.loc[:, column] == comb[0], 'rating'], \n",
    "                        cacao.loc[cacao.loc[:, column] == comb[1], 'rating']).pvalue \\\n",
    "            <= 0.05/len(combinations_all): # Учли поправку Бонферони\n",
    "            print('Найдены статистически значимые различия для колонки', column)\n",
    "            break"
   ]
  },
  {
   "cell_type": "code",
   "execution_count": 897,
   "metadata": {},
   "outputs": [
    {
     "name": "stdout",
     "output_type": "stream",
     "text": [
      "Найдены статистически значимые различия для колонки company\n",
      "Найдены статистически значимые различия для колонки specific_origin\n",
      "Найдены статистически значимые различия для колонки company_location\n"
     ]
    }
   ],
   "source": [
    "for col in ['company', 'specific_origin', 'company_location', 'bean_type', 'broad_origin']:\n",
    "    get_stat_dif(col)"
   ]
  },
  {
   "cell_type": "markdown",
   "metadata": {},
   "source": [
    "Как мы видим, серьёзно отличаются три параметра: company,  specific_origin и  company_location. Оставим эти переменные в датасете для дальнейшего построения модели. Итак, в нашем случае важные переменные, которые, возможно, оказывают влияние на оценку, это: company, specific_origin, company_location, review_date, cocoa_percent."
   ]
  },
  {
   "cell_type": "code",
   "execution_count": 898,
   "metadata": {},
   "outputs": [
    {
     "data": {
      "text/html": [
       "<div>\n",
       "<style scoped>\n",
       "    .dataframe tbody tr th:only-of-type {\n",
       "        vertical-align: middle;\n",
       "    }\n",
       "\n",
       "    .dataframe tbody tr th {\n",
       "        vertical-align: top;\n",
       "    }\n",
       "\n",
       "    .dataframe thead th {\n",
       "        text-align: right;\n",
       "    }\n",
       "</style>\n",
       "<table border=\"1\" class=\"dataframe\">\n",
       "  <thead>\n",
       "    <tr style=\"text-align: right;\">\n",
       "      <th></th>\n",
       "      <th>company</th>\n",
       "      <th>specific_origin</th>\n",
       "      <th>company_location</th>\n",
       "      <th>review_date</th>\n",
       "      <th>cocoa_percent</th>\n",
       "    </tr>\n",
       "  </thead>\n",
       "  <tbody>\n",
       "    <tr>\n",
       "      <th>1</th>\n",
       "      <td>A. Morin</td>\n",
       "      <td>Kpime</td>\n",
       "      <td>France</td>\n",
       "      <td>2015</td>\n",
       "      <td>70.0</td>\n",
       "    </tr>\n",
       "    <tr>\n",
       "      <th>3</th>\n",
       "      <td>A. Morin</td>\n",
       "      <td>Akata</td>\n",
       "      <td>France</td>\n",
       "      <td>2015</td>\n",
       "      <td>70.0</td>\n",
       "    </tr>\n",
       "    <tr>\n",
       "      <th>4</th>\n",
       "      <td>A. Morin</td>\n",
       "      <td>Quilla</td>\n",
       "      <td>France</td>\n",
       "      <td>2015</td>\n",
       "      <td>70.0</td>\n",
       "    </tr>\n",
       "    <tr>\n",
       "      <th>5</th>\n",
       "      <td>A. Morin</td>\n",
       "      <td>Carenero</td>\n",
       "      <td>France</td>\n",
       "      <td>2014</td>\n",
       "      <td>70.0</td>\n",
       "    </tr>\n",
       "    <tr>\n",
       "      <th>6</th>\n",
       "      <td>A. Morin</td>\n",
       "      <td>Cuba</td>\n",
       "      <td>France</td>\n",
       "      <td>2014</td>\n",
       "      <td>70.0</td>\n",
       "    </tr>\n",
       "  </tbody>\n",
       "</table>\n",
       "</div>"
      ],
      "text/plain": [
       "    company specific_origin company_location  review_date  cocoa_percent\n",
       "1  A. Morin           Kpime           France         2015           70.0\n",
       "3  A. Morin           Akata           France         2015           70.0\n",
       "4  A. Morin          Quilla           France         2015           70.0\n",
       "5  A. Morin        Carenero           France         2014           70.0\n",
       "6  A. Morin            Cuba           France         2014           70.0"
      ]
     },
     "execution_count": 898,
     "metadata": {},
     "output_type": "execute_result"
    }
   ],
   "source": [
    "cacao_for_model = cacao.loc[:, ['company', 'specific_origin', 'company_location', 'review_date', 'cocoa_percent']]\n",
    "cacao_for_model.head()"
   ]
  },
  {
   "cell_type": "markdown",
   "metadata": {},
   "source": [
    "### Выводы\n",
    "\n",
    "Итак, в результате EDA для анализа влияния параметров шоколада на экспертную оценку шоколадных батончиков были получены следующие выводы:\n",
    "\n",
    "В данных достаточно мало пустых значений, только столбец bean_type был заполнен в малом количестве случаев.\n",
    "Выбросы найдены только в столбцах с рейтингом и содержанием какао в шоколаде батончиков, что позволяет сделать вывод о том, что данные достаточно чистые.\n",
    "Положительная корреляция параметра review_date и rating может говорить о том, что с годами рейтинги потихоньку завышаются, либо батончики становятся лучше.\n",
    "Самые важные параметры, которые предлагается использовать в дальнейшем для построения модели, это company, specific_origin, company_location, review_date и cocoa_percent."
   ]
  },
  {
   "cell_type": "code",
   "execution_count": null,
   "metadata": {},
   "outputs": [],
   "source": []
  }
 ],
 "metadata": {
  "kernelspec": {
   "display_name": "Python 3",
   "language": "python",
   "name": "python3"
  },
  "language_info": {
   "codemirror_mode": {
    "name": "ipython",
    "version": 3
   },
   "file_extension": ".py",
   "mimetype": "text/x-python",
   "name": "python",
   "nbconvert_exporter": "python",
   "pygments_lexer": "ipython3",
   "version": "3.8.6"
  }
 },
 "nbformat": 4,
 "nbformat_minor": 4
}
